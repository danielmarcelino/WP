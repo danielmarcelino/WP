{
 "cells": [
  {
   "cell_type": "markdown",
   "metadata": {},
   "source": [
    "# Generate popularity table"
   ]
  },
  {
   "cell_type": "code",
   "execution_count": 1,
   "metadata": {},
   "outputs": [
    {
     "output_type": "stream",
     "name": "stdout",
     "text": [
      "/Users/marcelino/dmarcelinobr/pollingpoint/dashboards/notebooks\n/Users/marcelino/miniconda3/envs/pymc3/lib/python3.8/site-packages/ipykernel_launcher.py\n/Users/marcelino/dmarcelinobr/pollingpoint/dashboards/notebooks\n"
     ]
    }
   ],
   "source": [
    "import sys\n",
    "import os\n",
    "try:\n",
    "    import warnings                                                   \n",
    "    warnings.filterwarnings('ignore')     \n",
    "    import pandas as pd       \n",
    "    import numpy as np\n",
    "    import sqlite3\n",
    "except ImportError:\n",
    "    print(\"Error: missing one of the libraries..\")\n",
    "    sys.exit()\n",
    "\n",
    "\n",
    "\n",
    "print(os.getcwd())\n",
    "print(sys.argv[0])\n",
    "print(os.path.dirname(os.path.realpath('__file__')))"
   ]
  },
  {
   "cell_type": "markdown",
   "metadata": {},
   "source": [
    "## Load and clean the data"
   ]
  },
  {
   "cell_type": "code",
   "execution_count": 33,
   "metadata": {},
   "outputs": [],
   "source": [
    "con = sqlite3.connect('../../pollingpoint.db')\n",
    "\n",
    "file_long = pd.read_sql(\"\"\" SELECT * FROM aprovacao;\"\"\", con=con) \n",
    "\n",
    "con.close()"
   ]
  },
  {
   "cell_type": "code",
   "execution_count": 34,
   "metadata": {},
   "outputs": [
    {
     "output_type": "execute_result",
     "data": {
      "text/plain": [
       "      data_fim         empresa                          tipo  amostra  \\\n",
       "0   2019-01-10  IDEIA Big Data  Avaliação do governo federal      NaN   \n",
       "1   2019-01-15          Ipespe  Avaliação do governo federal   1000.0   \n",
       "2   2019-01-21  IDEIA Big Data  Avaliação do governo federal      NaN   \n",
       "3   2019-01-30  IDEIA Big Data  Avaliação do governo federal   2300.0   \n",
       "4   2019-01-30           Ibope  Avaliação do governo federal   2000.0   \n",
       "..         ...             ...                           ...      ...   \n",
       "352 2021-07-15  IDEIA Big Data  Aprovacao do governo federal   1200.0   \n",
       "353 2021-07-07  Ranking Brasil  Avaliação do governo federal   3000.0   \n",
       "354 2021-07-07  Ranking Brasil  Aprovação do governo federal   3000.0   \n",
       "355 2021-07-21       PoderData  Avaliação do governo federal   2500.0   \n",
       "356 2021-07-21       PoderData  Aprovacao do governo federal   2500.0   \n",
       "\n",
       "     positiva  regular  negativa        modo  erro  \n",
       "0       0.500    0.280     0.220      Online   3.0  \n",
       "1       0.400    0.290     0.200        CATI   3.2  \n",
       "2       0.510    0.280     0.210      Online   3.0  \n",
       "3       0.500    0.280     0.220      Online   2.0  \n",
       "4       0.490    0.260     0.110  Presencial   2.0  \n",
       "..        ...      ...       ...         ...   ...  \n",
       "352     0.260    0.210     0.480        CATI   3.0  \n",
       "353     0.260    0.202     0.511        CATI   2.5  \n",
       "354     0.342      NaN     0.631        CATI   2.5  \n",
       "355     0.260    0.150     0.560         IVR   2.0  \n",
       "356     0.320      NaN     0.620         IVR   2.0  \n",
       "\n",
       "[357 rows x 9 columns]"
      ],
      "text/html": "<div>\n<style scoped>\n    .dataframe tbody tr th:only-of-type {\n        vertical-align: middle;\n    }\n\n    .dataframe tbody tr th {\n        vertical-align: top;\n    }\n\n    .dataframe thead th {\n        text-align: right;\n    }\n</style>\n<table border=\"1\" class=\"dataframe\">\n  <thead>\n    <tr style=\"text-align: right;\">\n      <th></th>\n      <th>data_fim</th>\n      <th>empresa</th>\n      <th>tipo</th>\n      <th>amostra</th>\n      <th>positiva</th>\n      <th>regular</th>\n      <th>negativa</th>\n      <th>modo</th>\n      <th>erro</th>\n    </tr>\n  </thead>\n  <tbody>\n    <tr>\n      <th>0</th>\n      <td>2019-01-10</td>\n      <td>IDEIA Big Data</td>\n      <td>Avaliação do governo federal</td>\n      <td>NaN</td>\n      <td>0.500</td>\n      <td>0.280</td>\n      <td>0.220</td>\n      <td>Online</td>\n      <td>3.0</td>\n    </tr>\n    <tr>\n      <th>1</th>\n      <td>2019-01-15</td>\n      <td>Ipespe</td>\n      <td>Avaliação do governo federal</td>\n      <td>1000.0</td>\n      <td>0.400</td>\n      <td>0.290</td>\n      <td>0.200</td>\n      <td>CATI</td>\n      <td>3.2</td>\n    </tr>\n    <tr>\n      <th>2</th>\n      <td>2019-01-21</td>\n      <td>IDEIA Big Data</td>\n      <td>Avaliação do governo federal</td>\n      <td>NaN</td>\n      <td>0.510</td>\n      <td>0.280</td>\n      <td>0.210</td>\n      <td>Online</td>\n      <td>3.0</td>\n    </tr>\n    <tr>\n      <th>3</th>\n      <td>2019-01-30</td>\n      <td>IDEIA Big Data</td>\n      <td>Avaliação do governo federal</td>\n      <td>2300.0</td>\n      <td>0.500</td>\n      <td>0.280</td>\n      <td>0.220</td>\n      <td>Online</td>\n      <td>2.0</td>\n    </tr>\n    <tr>\n      <th>4</th>\n      <td>2019-01-30</td>\n      <td>Ibope</td>\n      <td>Avaliação do governo federal</td>\n      <td>2000.0</td>\n      <td>0.490</td>\n      <td>0.260</td>\n      <td>0.110</td>\n      <td>Presencial</td>\n      <td>2.0</td>\n    </tr>\n    <tr>\n      <th>...</th>\n      <td>...</td>\n      <td>...</td>\n      <td>...</td>\n      <td>...</td>\n      <td>...</td>\n      <td>...</td>\n      <td>...</td>\n      <td>...</td>\n      <td>...</td>\n    </tr>\n    <tr>\n      <th>352</th>\n      <td>2021-07-15</td>\n      <td>IDEIA Big Data</td>\n      <td>Aprovacao do governo federal</td>\n      <td>1200.0</td>\n      <td>0.260</td>\n      <td>0.210</td>\n      <td>0.480</td>\n      <td>CATI</td>\n      <td>3.0</td>\n    </tr>\n    <tr>\n      <th>353</th>\n      <td>2021-07-07</td>\n      <td>Ranking Brasil</td>\n      <td>Avaliação do governo federal</td>\n      <td>3000.0</td>\n      <td>0.260</td>\n      <td>0.202</td>\n      <td>0.511</td>\n      <td>CATI</td>\n      <td>2.5</td>\n    </tr>\n    <tr>\n      <th>354</th>\n      <td>2021-07-07</td>\n      <td>Ranking Brasil</td>\n      <td>Aprovação do governo federal</td>\n      <td>3000.0</td>\n      <td>0.342</td>\n      <td>NaN</td>\n      <td>0.631</td>\n      <td>CATI</td>\n      <td>2.5</td>\n    </tr>\n    <tr>\n      <th>355</th>\n      <td>2021-07-21</td>\n      <td>PoderData</td>\n      <td>Avaliação do governo federal</td>\n      <td>2500.0</td>\n      <td>0.260</td>\n      <td>0.150</td>\n      <td>0.560</td>\n      <td>IVR</td>\n      <td>2.0</td>\n    </tr>\n    <tr>\n      <th>356</th>\n      <td>2021-07-21</td>\n      <td>PoderData</td>\n      <td>Aprovacao do governo federal</td>\n      <td>2500.0</td>\n      <td>0.320</td>\n      <td>NaN</td>\n      <td>0.620</td>\n      <td>IVR</td>\n      <td>2.0</td>\n    </tr>\n  </tbody>\n</table>\n<p>357 rows × 9 columns</p>\n</div>"
     },
     "metadata": {},
     "execution_count": 34
    }
   ],
   "source": [
    "# converte para datetime \n",
    "file_long[\"data_fim\"] = pd.to_datetime(file_long[\"data_fim\"])\n",
    "\n",
    "# converte para proporção \n",
    "file_long[[\"positiva\", \"regular\", \"negativa\"]] = file_long[[\"positiva\", \"regular\", \"negativa\"]].copy()/100\n",
    "\n",
    "# Subset for the current president\n",
    "data = file_long.loc[file_long.data_fim >= pd.to_datetime(\"2019-01-01\")]\n",
    "\n",
    "# Filter for data to show\n",
    "df = data[['data_fim', 'empresa', 'tipo', 'amostra', 'positiva', 'regular', 'negativa', 'modo', 'erro']].reset_index(drop=True)"
   ]
  },
  {
   "cell_type": "markdown",
   "metadata": {},
   "source": [
    "## Sanity checks\n",
    "\n",
    "We need to check that we haven't introduced any typos in the pollsters or methods, and do a quick visual check on the most recent approval values."
   ]
  },
  {
   "cell_type": "code",
   "execution_count": 22,
   "metadata": {},
   "outputs": [
    {
     "output_type": "execute_result",
     "data": {
      "text/plain": [
       "modo                CATI  IVR  Online  Presencial  All\n",
       "empresa                                               \n",
       "Atlas                  0    0      24           0   24\n",
       "Datafolha              7    0       0           6   13\n",
       "IDEIA Big Data        19    0      63           0   82\n",
       "INCT/IDDC              1    0       0           2    3\n",
       "Ibope                  0    0       0          21   21\n",
       "Ibpad                  7    0       0           0    7\n",
       "Instituto FSB          8    0       0           0    8\n",
       "Instituto Methodus     1    0       0           0    1\n",
       "Ipec                   0    0       0           4    4\n",
       "Ipespe                50    0       0           0   50\n",
       "MDA                    2    0       0           9   11\n",
       "Offerwise              0    0      12           0   12\n",
       "Orbis                  0    4       0           0    4\n",
       "Paraná                20    0       0           2   22\n",
       "PoderData              0   64       0           0   64\n",
       "Quaest                 0    0       8           3   11\n",
       "Ranking Brasil        10    0       0           0   10\n",
       "Real Time Big Data     3    0       0           0    3\n",
       "Renascença             1    0       0           0    1\n",
       "Vox Populi             3    0       0           3    6\n",
       "All                  132   68     107          50  357"
      ],
      "text/html": "<div>\n<style scoped>\n    .dataframe tbody tr th:only-of-type {\n        vertical-align: middle;\n    }\n\n    .dataframe tbody tr th {\n        vertical-align: top;\n    }\n\n    .dataframe thead th {\n        text-align: right;\n    }\n</style>\n<table border=\"1\" class=\"dataframe\">\n  <thead>\n    <tr style=\"text-align: right;\">\n      <th>modo</th>\n      <th>CATI</th>\n      <th>IVR</th>\n      <th>Online</th>\n      <th>Presencial</th>\n      <th>All</th>\n    </tr>\n    <tr>\n      <th>empresa</th>\n      <th></th>\n      <th></th>\n      <th></th>\n      <th></th>\n      <th></th>\n    </tr>\n  </thead>\n  <tbody>\n    <tr>\n      <th>Atlas</th>\n      <td>0</td>\n      <td>0</td>\n      <td>24</td>\n      <td>0</td>\n      <td>24</td>\n    </tr>\n    <tr>\n      <th>Datafolha</th>\n      <td>7</td>\n      <td>0</td>\n      <td>0</td>\n      <td>6</td>\n      <td>13</td>\n    </tr>\n    <tr>\n      <th>IDEIA Big Data</th>\n      <td>19</td>\n      <td>0</td>\n      <td>63</td>\n      <td>0</td>\n      <td>82</td>\n    </tr>\n    <tr>\n      <th>INCT/IDDC</th>\n      <td>1</td>\n      <td>0</td>\n      <td>0</td>\n      <td>2</td>\n      <td>3</td>\n    </tr>\n    <tr>\n      <th>Ibope</th>\n      <td>0</td>\n      <td>0</td>\n      <td>0</td>\n      <td>21</td>\n      <td>21</td>\n    </tr>\n    <tr>\n      <th>Ibpad</th>\n      <td>7</td>\n      <td>0</td>\n      <td>0</td>\n      <td>0</td>\n      <td>7</td>\n    </tr>\n    <tr>\n      <th>Instituto FSB</th>\n      <td>8</td>\n      <td>0</td>\n      <td>0</td>\n      <td>0</td>\n      <td>8</td>\n    </tr>\n    <tr>\n      <th>Instituto Methodus</th>\n      <td>1</td>\n      <td>0</td>\n      <td>0</td>\n      <td>0</td>\n      <td>1</td>\n    </tr>\n    <tr>\n      <th>Ipec</th>\n      <td>0</td>\n      <td>0</td>\n      <td>0</td>\n      <td>4</td>\n      <td>4</td>\n    </tr>\n    <tr>\n      <th>Ipespe</th>\n      <td>50</td>\n      <td>0</td>\n      <td>0</td>\n      <td>0</td>\n      <td>50</td>\n    </tr>\n    <tr>\n      <th>MDA</th>\n      <td>2</td>\n      <td>0</td>\n      <td>0</td>\n      <td>9</td>\n      <td>11</td>\n    </tr>\n    <tr>\n      <th>Offerwise</th>\n      <td>0</td>\n      <td>0</td>\n      <td>12</td>\n      <td>0</td>\n      <td>12</td>\n    </tr>\n    <tr>\n      <th>Orbis</th>\n      <td>0</td>\n      <td>4</td>\n      <td>0</td>\n      <td>0</td>\n      <td>4</td>\n    </tr>\n    <tr>\n      <th>Paraná</th>\n      <td>20</td>\n      <td>0</td>\n      <td>0</td>\n      <td>2</td>\n      <td>22</td>\n    </tr>\n    <tr>\n      <th>PoderData</th>\n      <td>0</td>\n      <td>64</td>\n      <td>0</td>\n      <td>0</td>\n      <td>64</td>\n    </tr>\n    <tr>\n      <th>Quaest</th>\n      <td>0</td>\n      <td>0</td>\n      <td>8</td>\n      <td>3</td>\n      <td>11</td>\n    </tr>\n    <tr>\n      <th>Ranking Brasil</th>\n      <td>10</td>\n      <td>0</td>\n      <td>0</td>\n      <td>0</td>\n      <td>10</td>\n    </tr>\n    <tr>\n      <th>Real Time Big Data</th>\n      <td>3</td>\n      <td>0</td>\n      <td>0</td>\n      <td>0</td>\n      <td>3</td>\n    </tr>\n    <tr>\n      <th>Renascença</th>\n      <td>1</td>\n      <td>0</td>\n      <td>0</td>\n      <td>0</td>\n      <td>1</td>\n    </tr>\n    <tr>\n      <th>Vox Populi</th>\n      <td>3</td>\n      <td>0</td>\n      <td>0</td>\n      <td>3</td>\n      <td>6</td>\n    </tr>\n    <tr>\n      <th>All</th>\n      <td>132</td>\n      <td>68</td>\n      <td>107</td>\n      <td>50</td>\n      <td>357</td>\n    </tr>\n  </tbody>\n</table>\n</div>"
     },
     "metadata": {},
     "execution_count": 22
    }
   ],
   "source": [
    "pd.crosstab(df.empresa, df.modo, margins=True)"
   ]
  },
  {
   "cell_type": "code",
   "execution_count": 19,
   "metadata": {},
   "outputs": [],
   "source": [
    "# Salve database to chart \n",
    "df.to_csv('exports/polls_popularity.csv', sep=',', encoding='utf-8')"
   ]
  },
  {
   "cell_type": "code",
   "execution_count": null,
   "metadata": {},
   "outputs": [],
   "source": []
  }
 ],
 "metadata": {
  "kernelspec": {
   "name": "python3",
   "display_name": "Python 3.8.5 64-bit ('pymc3': conda)"
  },
  "language_info": {
   "codemirror_mode": {
    "name": "ipython",
    "version": 3
   },
   "file_extension": ".py",
   "mimetype": "text/x-python",
   "name": "python",
   "nbconvert_exporter": "python",
   "pygments_lexer": "ipython3",
   "version": "3.8.5"
  },
  "interpreter": {
   "hash": "6d0ccf6823ff3c328327a1fb1d6c8294260934c301cc9ef55de6d9934018529c"
  }
 },
 "nbformat": 4,
 "nbformat_minor": 4
}