{
 "cells": [
  {
   "cell_type": "markdown",
   "metadata": {},
   "source": [
    "# Generate popularity table"
   ]
  },
  {
   "cell_type": "code",
   "execution_count": 23,
   "metadata": {},
   "outputs": [
    {
     "output_type": "stream",
     "name": "stdout",
     "text": [
      "/Users/marcelino/dmarcelinobr/pollingpoint/dashboards/notebooks\n/Users/marcelino/miniconda3/envs/pymc3/lib/python3.8/site-packages/ipykernel_launcher.py\n/Users/marcelino/dmarcelinobr/pollingpoint/dashboards/notebooks\n"
     ]
    }
   ],
   "source": [
    "import sys\n",
    "import os\n",
    "try:\n",
    "    import warnings                                                   \n",
    "    warnings.filterwarnings('ignore')     \n",
    "    import pandas as pd       \n",
    "    import numpy as np\n",
    "    import sqlite3\n",
    "except ImportError:\n",
    "    print(\"Error: missing one of the libraries..\")\n",
    "    sys.exit()\n",
    "\n",
    "print(os.getcwd())\n",
    "print(sys.argv[0])\n",
    "print(os.path.dirname(os.path.realpath('__file__')))"
   ]
  },
  {
   "cell_type": "markdown",
   "metadata": {},
   "source": [
    "## Load and clean the data"
   ]
  },
  {
   "cell_type": "code",
   "execution_count": 24,
   "metadata": {},
   "outputs": [],
   "source": [
    "con = sqlite3.connect('../../pollingpoint.db')\n",
    "\n",
    "file_long = pd.read_sql(\"\"\" SELECT * FROM aprovacao;\"\"\", con=con) \n",
    "\n",
    "con.close()"
   ]
  },
  {
   "cell_type": "code",
   "execution_count": 25,
   "metadata": {},
   "outputs": [],
   "source": [
    "# converte para datetime \n",
    "file_long[\"data_fim\"] = pd.to_datetime(file_long[\"data_fim\"])\n",
    "\n",
    "# converte para proporção \n",
    "file_long[[\"positiva\", \"regular\", \"negativa\"]] = file_long[[\"positiva\", \"regular\", \"negativa\"]].copy()/100\n",
    "\n",
    "# Subset for the current president\n",
    "data = file_long.loc[file_long.data_fim >= pd.to_datetime(\"2019-01-01\")]\n",
    "\n",
    "data = data.query('tipo == \"Avaliação do governo federal\"')\n",
    "\n",
    "# Replace NA with 1000 interviews \n",
    "data[\"amostra\"] = data[\"amostra\"].replace(np.nan, 1000)\n",
    "data[\"amostra\"] = data[\"amostra\"].astype('int') # May need some especial treat\n",
    "data[\"positiva\"] = data[\"positiva\"].round(2)\n",
    "data[\"regular\"] = data[\"regular\"].round(2)\n",
    "data[\"negativa\"] = data[\"negativa\"].round(2)\n",
    "\n",
    "# Filter for data to show\n",
    "data = data[['data_fim', 'empresa', 'tipo', 'amostra', 'positiva', 'regular', 'negativa', 'modo', 'erro']].reset_index(drop=True)"
   ]
  },
  {
   "cell_type": "markdown",
   "metadata": {},
   "source": [
    "## Sanity checks\n",
    "\n",
    "We need to check that we haven't introduced any typos in the pollsters or methods, and do a quick visual check on the most recent approval values."
   ]
  },
  {
   "cell_type": "code",
   "execution_count": 26,
   "metadata": {},
   "outputs": [
    {
     "output_type": "execute_result",
     "data": {
      "text/plain": [
       "modo                CATI  IVR  Online  Presencial  All\n",
       "empresa                                               \n",
       "Atlas                  0    0      16           0   16\n",
       "Datafolha              7    0       0           6   13\n",
       "IDEIA Big Data        10    0      53           0   63\n",
       "INCT/IDDC              1    0       0           2    3\n",
       "Ibope                  0    0       0           9    9\n",
       "Ibpad                  7    0       0           0    7\n",
       "Instituto FSB          8    0       0           0    8\n",
       "Instituto Methodus     1    0       0           0    1\n",
       "Ipec                   0    0       0           2    2\n",
       "Ipespe                36    0       0           0   36\n",
       "MDA                    1    0       0           6    7\n",
       "Offerwise              0    0       7           0    7\n",
       "Orbis                  0    3       0           0    3\n",
       "Paraná                13    0       0           1   14\n",
       "PoderData              0   34       0           0   34\n",
       "Quaest                 0    0       8           1    9\n",
       "Ranking Brasil         8    0       0           0    8\n",
       "Real Time Big Data     1    0       0           0    1\n",
       "Renascença             1    0       0           0    1\n",
       "Vox Populi             3    0       0           3    6\n",
       "All                   97   37      84          30  248"
      ],
      "text/html": "<div>\n<style scoped>\n    .dataframe tbody tr th:only-of-type {\n        vertical-align: middle;\n    }\n\n    .dataframe tbody tr th {\n        vertical-align: top;\n    }\n\n    .dataframe thead th {\n        text-align: right;\n    }\n</style>\n<table border=\"1\" class=\"dataframe\">\n  <thead>\n    <tr style=\"text-align: right;\">\n      <th>modo</th>\n      <th>CATI</th>\n      <th>IVR</th>\n      <th>Online</th>\n      <th>Presencial</th>\n      <th>All</th>\n    </tr>\n    <tr>\n      <th>empresa</th>\n      <th></th>\n      <th></th>\n      <th></th>\n      <th></th>\n      <th></th>\n    </tr>\n  </thead>\n  <tbody>\n    <tr>\n      <th>Atlas</th>\n      <td>0</td>\n      <td>0</td>\n      <td>16</td>\n      <td>0</td>\n      <td>16</td>\n    </tr>\n    <tr>\n      <th>Datafolha</th>\n      <td>7</td>\n      <td>0</td>\n      <td>0</td>\n      <td>6</td>\n      <td>13</td>\n    </tr>\n    <tr>\n      <th>IDEIA Big Data</th>\n      <td>10</td>\n      <td>0</td>\n      <td>53</td>\n      <td>0</td>\n      <td>63</td>\n    </tr>\n    <tr>\n      <th>INCT/IDDC</th>\n      <td>1</td>\n      <td>0</td>\n      <td>0</td>\n      <td>2</td>\n      <td>3</td>\n    </tr>\n    <tr>\n      <th>Ibope</th>\n      <td>0</td>\n      <td>0</td>\n      <td>0</td>\n      <td>9</td>\n      <td>9</td>\n    </tr>\n    <tr>\n      <th>Ibpad</th>\n      <td>7</td>\n      <td>0</td>\n      <td>0</td>\n      <td>0</td>\n      <td>7</td>\n    </tr>\n    <tr>\n      <th>Instituto FSB</th>\n      <td>8</td>\n      <td>0</td>\n      <td>0</td>\n      <td>0</td>\n      <td>8</td>\n    </tr>\n    <tr>\n      <th>Instituto Methodus</th>\n      <td>1</td>\n      <td>0</td>\n      <td>0</td>\n      <td>0</td>\n      <td>1</td>\n    </tr>\n    <tr>\n      <th>Ipec</th>\n      <td>0</td>\n      <td>0</td>\n      <td>0</td>\n      <td>2</td>\n      <td>2</td>\n    </tr>\n    <tr>\n      <th>Ipespe</th>\n      <td>36</td>\n      <td>0</td>\n      <td>0</td>\n      <td>0</td>\n      <td>36</td>\n    </tr>\n    <tr>\n      <th>MDA</th>\n      <td>1</td>\n      <td>0</td>\n      <td>0</td>\n      <td>6</td>\n      <td>7</td>\n    </tr>\n    <tr>\n      <th>Offerwise</th>\n      <td>0</td>\n      <td>0</td>\n      <td>7</td>\n      <td>0</td>\n      <td>7</td>\n    </tr>\n    <tr>\n      <th>Orbis</th>\n      <td>0</td>\n      <td>3</td>\n      <td>0</td>\n      <td>0</td>\n      <td>3</td>\n    </tr>\n    <tr>\n      <th>Paraná</th>\n      <td>13</td>\n      <td>0</td>\n      <td>0</td>\n      <td>1</td>\n      <td>14</td>\n    </tr>\n    <tr>\n      <th>PoderData</th>\n      <td>0</td>\n      <td>34</td>\n      <td>0</td>\n      <td>0</td>\n      <td>34</td>\n    </tr>\n    <tr>\n      <th>Quaest</th>\n      <td>0</td>\n      <td>0</td>\n      <td>8</td>\n      <td>1</td>\n      <td>9</td>\n    </tr>\n    <tr>\n      <th>Ranking Brasil</th>\n      <td>8</td>\n      <td>0</td>\n      <td>0</td>\n      <td>0</td>\n      <td>8</td>\n    </tr>\n    <tr>\n      <th>Real Time Big Data</th>\n      <td>1</td>\n      <td>0</td>\n      <td>0</td>\n      <td>0</td>\n      <td>1</td>\n    </tr>\n    <tr>\n      <th>Renascença</th>\n      <td>1</td>\n      <td>0</td>\n      <td>0</td>\n      <td>0</td>\n      <td>1</td>\n    </tr>\n    <tr>\n      <th>Vox Populi</th>\n      <td>3</td>\n      <td>0</td>\n      <td>0</td>\n      <td>3</td>\n      <td>6</td>\n    </tr>\n    <tr>\n      <th>All</th>\n      <td>97</td>\n      <td>37</td>\n      <td>84</td>\n      <td>30</td>\n      <td>248</td>\n    </tr>\n  </tbody>\n</table>\n</div>"
     },
     "metadata": {},
     "execution_count": 26
    }
   ],
   "source": [
    "pd.crosstab(data.empresa, data.modo, margins=True)"
   ]
  },
  {
   "cell_type": "code",
   "execution_count": 27,
   "metadata": {},
   "outputs": [],
   "source": [
    "# Salve database to chart \n",
    "data.to_csv('../exports/polls_popularity.csv', sep=',', encoding='utf-8', mode = 'w', index=False)"
   ]
  },
  {
   "cell_type": "code",
   "execution_count": null,
   "metadata": {},
   "outputs": [],
   "source": []
  }
 ],
 "metadata": {
  "kernelspec": {
   "name": "python3",
   "display_name": "Python 3.8.5 64-bit ('pymc3': conda)"
  },
  "language_info": {
   "codemirror_mode": {
    "name": "ipython",
    "version": 3
   },
   "file_extension": ".py",
   "mimetype": "text/x-python",
   "name": "python",
   "nbconvert_exporter": "python",
   "pygments_lexer": "ipython3",
   "version": "3.8.5"
  },
  "interpreter": {
   "hash": "6d0ccf6823ff3c328327a1fb1d6c8294260934c301cc9ef55de6d9934018529c"
  }
 },
 "nbformat": 4,
 "nbformat_minor": 4
}