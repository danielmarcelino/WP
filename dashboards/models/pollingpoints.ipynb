{
 "cells": [
  {
   "cell_type": "markdown",
   "metadata": {},
   "source": [
    "\n"
   ]
  },
  {
   "cell_type": "markdown",
   "metadata": {},
   "source": [
    "## Algumas famílias de distribuições conjulgadas\n"
   ]
  },
  {
   "cell_type": "markdown",
   "metadata": {},
   "source": [
    "Na teoria de probability bayesiana, se distribuições posterior p(θ | x) são da mesma família de distribuição de probilidade que  distribuição de probilidade prior p(θ), a prior e posterior são também chamadas de distribuições  conjugadas, e a prior é chamada uma prior conjugada para a função de verossimilhança (likelihood).\n",
    "[](conjugate_prior_diagram.png)\n",
    "\n",
    "https://www.johndcook.com/blog/conjugate_prior_diagram/\n",
    "\n",
    "John Cook apresenta este diagrama incrível em seu website que mostra algumas das distribuições conjulgadas mais usadas."
   ]
  },
  {
   "cell_type": "code",
   "execution_count": null,
   "metadata": {},
   "outputs": [],
   "source": []
  },
  {
   "cell_type": "markdown",
   "metadata": {},
   "source": [
    "## Polling\n",
    "\n",
    "https://nbviewer.jupyter.org/github/clausherther/public/blob/master/Dirichlet%20Multinomial%20Example.ipynb#Polling-#1"
   ]
  },
  {
   "cell_type": "code",
   "execution_count": 39,
   "metadata": {},
   "outputs": [],
   "source": [
    "import numpy as np\n",
    "import pandas as pd\n",
    "\n",
    "import scipy.stats as st\n",
    "import arviz as az\n",
    "import numpy as np\n",
    "import pymc3 as pm\n",
    "import seaborn as sns\n",
    "import matplotlib.pyplot as plt"
   ]
  },
  {
   "cell_type": "raw",
   "metadata": {},
   "source": [
    "\n",
    "    1,447 likely voters were surveyed about their preferences in the upcoming presidential election\n",
    "    Their responses were:\n",
    "    Bush: 727\n",
    "    Dukakis: 583\n",
    "    Other: 137\n",
    "\n",
    "Qual é a probabilidade que mais pessoas votarão em Lula do que Bolsonaro?\n",
    "Qual é a diferença de intenção de votos para os dois maiores candidato?"
   ]
  },
  {
   "cell_type": "code",
   "execution_count": 22,
   "metadata": {},
   "outputs": [
    {
     "data": {
      "text/plain": [
       "(1447, 3)"
      ]
     },
     "execution_count": 22,
     "metadata": {},
     "output_type": "execute_result"
    }
   ],
   "source": [
    "y = np.asarray([727, 583, 137])\n",
    "n = y.sum()\n",
    "k = len(y)\n",
    "n, k"
   ]
  },
  {
   "cell_type": "raw",
   "metadata": {},
   "source": [
    "Ajustamos um modelo Dirichlet-Multinomial simples e incluímos uma variável Deterministic que calcula o valor de nosso interesse - a diferença na probabilidade de respondentes para Lula vs Bolsonaro."
   ]
  },
  {
   "cell_type": "code",
   "execution_count": 24,
   "metadata": {},
   "outputs": [
    {
     "name": "stderr",
     "output_type": "stream",
     "text": [
      "<ipython-input-24-ddae8cb5b4cc>:10: FutureWarning: In v4.0, pm.sample will return an `arviz.InferenceData` object instead of a `MultiTrace` by default. You can pass return_inferencedata=True or return_inferencedata=False to be safe and silence this warning.\n",
      "  polling_trace = pm.sample(1000)\n",
      "Auto-assigning NUTS sampler...\n",
      "Initializing NUTS using jitter+adapt_diag...\n",
      "Multiprocess sampling (4 chains in 4 jobs)\n",
      "NUTS: [theta]\n"
     ]
    },
    {
     "data": {
      "text/html": [
       "\n",
       "    <div>\n",
       "        <style>\n",
       "            /* Turns off some styling */\n",
       "            progress {\n",
       "                /* gets rid of default border in Firefox and Opera. */\n",
       "                border: none;\n",
       "                /* Needs to be in here for Safari polyfill so background images work as expected. */\n",
       "                background-size: auto;\n",
       "            }\n",
       "            .progress-bar-interrupted, .progress-bar-interrupted::-webkit-progress-bar {\n",
       "                background: #F44336;\n",
       "            }\n",
       "        </style>\n",
       "      <progress value='8000' class='' max='8000' style='width:300px; height:20px; vertical-align: middle;'></progress>\n",
       "      100.00% [8000/8000 00:43<00:00 Sampling 4 chains, 0 divergences]\n",
       "    </div>\n",
       "    "
      ],
      "text/plain": [
       "<IPython.core.display.HTML object>"
      ]
     },
     "metadata": {},
     "output_type": "display_data"
    },
    {
     "name": "stderr",
     "output_type": "stream",
     "text": [
      "Sampling 4 chains for 1_000 tune and 1_000 draw iterations (4_000 + 4_000 draws total) took 56 seconds.\n"
     ]
    }
   ],
   "source": [
    "with pm.Model() as polling_model:\n",
    "\n",
    "        # initializes the Dirichlet distribution with a uniform prior:\n",
    "        a = np.ones(k)\n",
    "        theta = pm.Dirichlet(\"theta\", a=a)\n",
    "\n",
    "        lula_bolsonaro_diff = pm.Deterministic(\"lula_bolsonaro_diff\", theta[0] - theta[1])\n",
    "\n",
    "        likelihood  = pm.Multinomial(\"likelihood\", n=n, p=theta, observed=y)\n",
    "        polling_trace = pm.sample(1000)"
   ]
  },
  {
   "cell_type": "code",
   "execution_count": 26,
   "metadata": {},
   "outputs": [
    {
     "data": {
      "text/latex": [
       "$$\n",
       "                \\begin{array}{rcl}\n",
       "                \\text{theta_stickbreaking__} &\\sim & \\text{TransformedDistribution}\\\\\\text{theta} &\\sim & \\text{Dirichlet}\\\\\\text{lula_bolsonaro_diff} &\\sim & \\text{Deterministic}\\\\\\text{likelihood} &\\sim & \\text{Multinomial}\n",
       "                \\end{array}\n",
       "                $$"
      ],
      "text/plain": [
       "<pymc3.model.Model at 0x126c21610>"
      ]
     },
     "execution_count": 26,
     "metadata": {},
     "output_type": "execute_result"
    }
   ],
   "source": [
    "polling_model"
   ]
  },
  {
   "cell_type": "code",
   "execution_count": 27,
   "metadata": {},
   "outputs": [
    {
     "data": {
      "text/plain": [
       "theta_stickbreaking__     -1.50\n",
       "likelihood              -243.49\n",
       "Name: Log-probability of test_point, dtype: float64"
      ]
     },
     "execution_count": 27,
     "metadata": {},
     "output_type": "execute_result"
    }
   ],
   "source": [
    "polling_model.check_test_point()"
   ]
  },
  {
   "cell_type": "code",
   "execution_count": 28,
   "metadata": {},
   "outputs": [
    {
     "data": {
      "image/svg+xml": [
       "<?xml version=\"1.0\" encoding=\"UTF-8\" standalone=\"no\"?>\n",
       "<!DOCTYPE svg PUBLIC \"-//W3C//DTD SVG 1.1//EN\"\n",
       " \"http://www.w3.org/Graphics/SVG/1.1/DTD/svg11.dtd\">\n",
       "<!-- Generated by graphviz version 2.48.0 (20210717.1556)\n",
       " -->\n",
       "<!-- Pages: 1 -->\n",
       "<svg width=\"291pt\" height=\"249pt\"\n",
       " viewBox=\"0.00 0.00 290.50 248.91\" xmlns=\"http://www.w3.org/2000/svg\" xmlns:xlink=\"http://www.w3.org/1999/xlink\">\n",
       "<g id=\"graph0\" class=\"graph\" transform=\"scale(1 1) rotate(0) translate(4 244.91)\">\n",
       "<polygon fill=\"white\" stroke=\"transparent\" points=\"-4,4 -4,-244.91 286.5,-244.91 286.5,4 -4,4\"/>\n",
       "<g id=\"clust1\" class=\"cluster\">\n",
       "<title>cluster3</title>\n",
       "<path fill=\"none\" stroke=\"black\" d=\"M20,-8C20,-8 134,-8 134,-8 140,-8 146,-14 146,-20 146,-20 146,-220.91 146,-220.91 146,-226.91 140,-232.91 134,-232.91 134,-232.91 20,-232.91 20,-232.91 14,-232.91 8,-226.91 8,-220.91 8,-220.91 8,-20 8,-20 8,-14 14,-8 20,-8\"/>\n",
       "<text text-anchor=\"middle\" x=\"134.5\" y=\"-15.8\" font-family=\"Times,serif\" font-size=\"14.00\">3</text>\n",
       "</g>\n",
       "<!-- theta -->\n",
       "<g id=\"node1\" class=\"node\">\n",
       "<title>theta</title>\n",
       "<ellipse fill=\"none\" stroke=\"black\" cx=\"84\" cy=\"-187.43\" rx=\"46.84\" ry=\"37.45\"/>\n",
       "<text text-anchor=\"middle\" x=\"84\" y=\"-198.73\" font-family=\"Times,serif\" font-size=\"14.00\">theta</text>\n",
       "<text text-anchor=\"middle\" x=\"84\" y=\"-183.73\" font-family=\"Times,serif\" font-size=\"14.00\">~</text>\n",
       "<text text-anchor=\"middle\" x=\"84\" y=\"-168.73\" font-family=\"Times,serif\" font-size=\"14.00\">Dirichlet</text>\n",
       "</g>\n",
       "<!-- likelihood -->\n",
       "<g id=\"node2\" class=\"node\">\n",
       "<title>likelihood</title>\n",
       "<ellipse fill=\"lightgrey\" stroke=\"black\" cx=\"77\" cy=\"-76.48\" rx=\"60.62\" ry=\"37.45\"/>\n",
       "<text text-anchor=\"middle\" x=\"77\" y=\"-87.78\" font-family=\"Times,serif\" font-size=\"14.00\">likelihood</text>\n",
       "<text text-anchor=\"middle\" x=\"77\" y=\"-72.78\" font-family=\"Times,serif\" font-size=\"14.00\">~</text>\n",
       "<text text-anchor=\"middle\" x=\"77\" y=\"-57.78\" font-family=\"Times,serif\" font-size=\"14.00\">Multinomial</text>\n",
       "</g>\n",
       "<!-- theta&#45;&gt;likelihood -->\n",
       "<g id=\"edge2\" class=\"edge\">\n",
       "<title>theta&#45;&gt;likelihood</title>\n",
       "<path fill=\"none\" stroke=\"black\" d=\"M81.65,-149.85C81.12,-141.67 80.56,-132.89 80.01,-124.37\"/>\n",
       "<polygon fill=\"black\" stroke=\"black\" points=\"83.49,-123.9 79.36,-114.15 76.5,-124.35 83.49,-123.9\"/>\n",
       "</g>\n",
       "<!-- lula_bolsonaro_diff -->\n",
       "<g id=\"node3\" class=\"node\">\n",
       "<title>lula_bolsonaro_diff</title>\n",
       "<polygon fill=\"none\" stroke=\"black\" points=\"282.5,-102.98 155.5,-102.98 155.5,-49.98 282.5,-49.98 282.5,-102.98\"/>\n",
       "<text text-anchor=\"middle\" x=\"219\" y=\"-87.78\" font-family=\"Times,serif\" font-size=\"14.00\">lula_bolsonaro_diff</text>\n",
       "<text text-anchor=\"middle\" x=\"219\" y=\"-72.78\" font-family=\"Times,serif\" font-size=\"14.00\">~</text>\n",
       "<text text-anchor=\"middle\" x=\"219\" y=\"-57.78\" font-family=\"Times,serif\" font-size=\"14.00\">Deterministic</text>\n",
       "</g>\n",
       "<!-- theta&#45;&gt;lula_bolsonaro_diff -->\n",
       "<g id=\"edge1\" class=\"edge\">\n",
       "<title>theta&#45;&gt;lula_bolsonaro_diff</title>\n",
       "<path fill=\"none\" stroke=\"black\" d=\"M116.34,-160.33C135.26,-145.06 159.3,-125.66 179.35,-109.47\"/>\n",
       "<polygon fill=\"black\" stroke=\"black\" points=\"181.81,-111.99 187.39,-102.98 177.41,-106.54 181.81,-111.99\"/>\n",
       "</g>\n",
       "</g>\n",
       "</svg>\n"
      ],
      "text/plain": [
       "<graphviz.dot.Digraph at 0x126e6bb20>"
      ]
     },
     "execution_count": 28,
     "metadata": {},
     "output_type": "execute_result"
    }
   ],
   "source": [
    "pm.model_to_graphviz(polling_model)"
   ]
  },
  {
   "cell_type": "code",
   "execution_count": 29,
   "metadata": {},
   "outputs": [
    {
     "name": "stdout",
     "output_type": "stream",
     "text": [
      "polling_trace.varnames ['theta_stickbreaking__', 'theta', 'lula_bolsonaro_diff']\n"
     ]
    }
   ],
   "source": [
    "# the trace object\n",
    "print(\"polling_trace.varnames {}\".format(polling_trace.varnames))"
   ]
  },
  {
   "cell_type": "code",
   "execution_count": 30,
   "metadata": {},
   "outputs": [],
   "source": [
    "with polling_model:\n",
    "    az.plot_trace(polling_trace, combined=True)"
   ]
  },
  {
   "cell_type": "code",
   "execution_count": null,
   "metadata": {},
   "outputs": [],
   "source": [
    "Analisando a % diferença entre respondentes para Lula vs Bolsonaro, nós podemos ver que a maior parte da densidade é maior do que 0%. Isso significa  uma grande vantagem para Lula sobre Bolsonaro nessa pesquisa.\n",
    "\n",
    "Nós também ajustamos uma distribuição Beta para esses dados via scipy.stats, e nós podemos ver que a posterior dos valores da diferença \n",
    "entre 2 theta resulta em uma combinação muito boa."
   ]
  },
  {
   "cell_type": "code",
   "execution_count": 13,
   "metadata": {},
   "outputs": [
    {
     "data": {
      "text/plain": [
       "theta_stickbreaking__     -1.50\n",
       "likelihood              -243.49\n",
       "Name: Log-probability of test_point, dtype: float64"
      ]
     },
     "execution_count": 13,
     "metadata": {},
     "output_type": "execute_result"
    }
   ],
   "source": []
  },
  {
   "cell_type": "code",
   "execution_count": 32,
   "metadata": {},
   "outputs": [
    {
     "name": "stdout",
     "output_type": "stream",
     "text": [
      " Inferida theta 0.33 np.mean  482.33\n",
      " Infered lula_bolsonaro_diff 0.10 np.std  251.16\n"
     ]
    }
   ],
   "source": [
    "print(\" Inferida theta {:.2f} np.mean  {:.2f}\".format( np.mean(  polling_trace['theta'][1000:]), np.mean(y) ))\n",
    "print(\" Infered lula_bolsonaro_diff {:.2f} np.std  {:.2f}\".format(np.mean(polling_trace['lula_bolsonaro_diff'][1000:]) , np.std(y) ))"
   ]
  },
  {
   "cell_type": "code",
   "execution_count": null,
   "metadata": {},
   "outputs": [],
   "source": []
  },
  {
   "cell_type": "code",
   "execution_count": 33,
   "metadata": {},
   "outputs": [
    {
     "name": "stderr",
     "output_type": "stream",
     "text": [
      "/Users/marcelino/miniconda3/envs/polls/lib/python3.9/site-packages/arviz/data/io_pymc3.py:96: FutureWarning: Using `from_pymc3` without the model will be deprecated in a future release. Not using the model will return less accurate and less useful results. Make sure you use the model argument or call from_pymc3 within a model context.\n"
     ]
    },
    {
     "name": "stdout",
     "output_type": "stream",
     "text": [
      "                      mean     sd  hdi_3%  hdi_97%  mcse_mean  mcse_sd  \\\n",
      "theta[0]             0.502  0.013   0.480    0.528        0.0      0.0   \n",
      "theta[1]             0.403  0.013   0.379    0.427        0.0      0.0   \n",
      "theta[2]             0.095  0.008   0.081    0.110        0.0      0.0   \n",
      "lula_bolsonaro_diff  0.099  0.025   0.052    0.145        0.0      0.0   \n",
      "\n",
      "                     ess_bulk  ess_tail  r_hat  \n",
      "theta[0]               3381.0    2957.0    1.0  \n",
      "theta[1]               3462.0    2602.0    1.0  \n",
      "theta[2]               3275.0    2723.0    1.0  \n",
      "lula_bolsonaro_diff    3423.0    2968.0    1.0  \n"
     ]
    }
   ],
   "source": [
    "print(pm.summary(polling_trace))"
   ]
  },
  {
   "cell_type": "code",
   "execution_count": null,
   "metadata": {},
   "outputs": [],
   "source": [
    "Porcentagem de amostras com lula_bolsonaro_diff > 0:"
   ]
  },
  {
   "cell_type": "code",
   "execution_count": 36,
   "metadata": {},
   "outputs": [
    {
     "name": "stdout",
     "output_type": "stream",
     "text": [
      "P(Mais respondentes para Lula) = 100%\n"
     ]
    }
   ],
   "source": [
    "lula_bolsonaro_diff_perc = len(polling_trace[\"lula_bolsonaro_diff\"][polling_trace[\"lula_bolsonaro_diff\"]>0])/len(polling_trace[\"lula_bolsonaro_diff\"])\n",
    "      \n",
    "print(f'P(Mais respondentes para Lula) = {lula_bolsonaro_diff_perc:.0%}')"
   ]
  },
  {
   "cell_type": "code",
   "execution_count": null,
   "metadata": {},
   "outputs": [],
   "source": []
  },
  {
   "cell_type": "code",
   "execution_count": null,
   "metadata": {},
   "outputs": [],
   "source": [
    "As an extension to the previous model, the authors of BDA include an exercise in chapter 3.10 (Exercise 2) that presents us with polling data from the 1988 Presidential race, taking before and after the one of the debates."
   ]
  },
  {
   "cell_type": "markdown",
   "metadata": {},
   "source": [
    "> Comparação de duas observações multinomiais: em outubro de 2021 o presidente Bolsonaro conseguiu aprovar o aumento do benefício ao Auxilio Brasil. Também o ex-ministro Sergio Moro e voltou ao país e em novembro se filiou ao partido Podemos com o interesse de disputar a Presidência. Assim, vamos pegar as pesquisas conduzidas em outubro e em novembro e modelar os dados publicados com duas distribuições multinomiais para j = 1, 2, permitindo que αj seja a parcela de eleitores que preferiu Lula, do total daqueles que tiveram preferência por Lula ou Bolsonaro no momento das pesquisas j\n",
    "\n",
    ". Plotar um histograma da densidade posterior para α2−α1\n",
    ". Qual é a probabilidade posterior que haveria uma mudança (aumento de preferência) em direção à Lula?\n"
   ]
  },
  {
   "cell_type": "code",
   "execution_count": 40,
   "metadata": {},
   "outputs": [],
   "source": [
    "data = pd.DataFrame([\n",
    "        {\"candidate\": \"bush\", \"pre\": 294, \"post\": 288},\n",
    "        {\"candidate\": \"dukakis\", \"pre\": 307, \"post\": 332},\n",
    "        {\"candidate\": \"other\", \"pre\": 38, \"post\": 10}\n",
    "       ], columns=[\"candidate\", \"pre\", \"post\"])"
   ]
  },
  {
   "cell_type": "code",
   "execution_count": 41,
   "metadata": {},
   "outputs": [
    {
     "data": {
      "text/html": [
       "<div>\n",
       "<style scoped>\n",
       "    .dataframe tbody tr th:only-of-type {\n",
       "        vertical-align: middle;\n",
       "    }\n",
       "\n",
       "    .dataframe tbody tr th {\n",
       "        vertical-align: top;\n",
       "    }\n",
       "\n",
       "    .dataframe thead th {\n",
       "        text-align: right;\n",
       "    }\n",
       "</style>\n",
       "<table border=\"1\" class=\"dataframe\">\n",
       "  <thead>\n",
       "    <tr style=\"text-align: right;\">\n",
       "      <th></th>\n",
       "      <th>candidate</th>\n",
       "      <th>pre</th>\n",
       "      <th>post</th>\n",
       "    </tr>\n",
       "  </thead>\n",
       "  <tbody>\n",
       "    <tr>\n",
       "      <th>0</th>\n",
       "      <td>bush</td>\n",
       "      <td>294</td>\n",
       "      <td>288</td>\n",
       "    </tr>\n",
       "    <tr>\n",
       "      <th>1</th>\n",
       "      <td>dukakis</td>\n",
       "      <td>307</td>\n",
       "      <td>332</td>\n",
       "    </tr>\n",
       "    <tr>\n",
       "      <th>2</th>\n",
       "      <td>other</td>\n",
       "      <td>38</td>\n",
       "      <td>10</td>\n",
       "    </tr>\n",
       "  </tbody>\n",
       "</table>\n",
       "</div>"
      ],
      "text/plain": [
       "  candidate  pre  post\n",
       "0      bush  294   288\n",
       "1   dukakis  307   332\n",
       "2     other   38    10"
      ]
     },
     "execution_count": 41,
     "metadata": {},
     "output_type": "execute_result"
    }
   ],
   "source": [
    "data"
   ]
  },
  {
   "cell_type": "code",
   "execution_count": 42,
   "metadata": {},
   "outputs": [
    {
     "data": {
      "text/plain": [
       "array([[294, 307,  38],\n",
       "       [288, 332,  10]])"
      ]
     },
     "execution_count": 42,
     "metadata": {},
     "output_type": "execute_result"
    }
   ],
   "source": [
    "y = data[[\"pre\", \"post\"]].T.values\n",
    "y\n",
    "# Number of respondents in each survey"
   ]
  },
  {
   "cell_type": "code",
   "execution_count": 43,
   "metadata": {},
   "outputs": [
    {
     "data": {
      "text/plain": [
       "array([639, 630])"
      ]
     },
     "execution_count": 43,
     "metadata": {},
     "output_type": "execute_result"
    }
   ],
   "source": [
    "n = y.sum(axis=1) \n",
    "n\n",
    "# Number of respondents for the 2 major candidates in each survey"
   ]
  },
  {
   "cell_type": "code",
   "execution_count": 44,
   "metadata": {},
   "outputs": [
    {
     "data": {
      "text/plain": [
       "array([601, 620])"
      ]
     },
     "execution_count": 44,
     "metadata": {},
     "output_type": "execute_result"
    }
   ],
   "source": [
    "m = y[:, :2].sum(axis=1) \n",
    "m"
   ]
  },
  {
   "cell_type": "code",
   "execution_count": null,
   "metadata": {},
   "outputs": [],
   "source": [
    "Para este modelo, nós vamos ajustar os valores priors de maneira um pouco diferente. Ao invés de 1 conjunto de thetas, precisamos de 2, um paracada pesquisa (pre/post anúncio). Para fazer isso sem criar versões específicas de variáveis para cada onda pre/post, nós vamos tirar proveito do parametro 'shape' da biblioteca PyMC3, disponível para grande maioria das distribuições.\n",
    "\n",
    "In this case, we'll need a 2-dimensional shape parameter, representing the number of debates n_debates and the number of choices in candidates n_candidates"
   ]
  },
  {
   "cell_type": "code",
   "execution_count": null,
   "metadata": {},
   "outputs": [],
   "source": [
    "n_debates, n_candidates = y.shape\n",
    "n_debates, n_candidates"
   ]
  },
  {
   "cell_type": "code",
   "execution_count": null,
   "metadata": {},
   "outputs": [],
   "source": [
    "Thus, we need to initialize a Dirichlet distribution prior with shape (2,3) and then refer to the relevant parameters by index where needed."
   ]
  },
  {
   "cell_type": "code",
   "execution_count": null,
   "metadata": {},
   "outputs": [],
   "source": [
    "with pm.Model() as polling_model_debates:\n",
    "    \n",
    "    # initializes the Dirichlet distribution with a uniform prior:\n",
    "    shape = (n_debates, n_candidates)\n",
    "    a = np.ones(shape)\n",
    "    \n",
    "    # This creates a separate Dirichlet distribution for each debate\n",
    "    # where sum of probabilities across candidates = 100% for each debate\n",
    "    theta = pm.Dirichlet(\"theta\", a=a, shape=shape)\n",
    "    \n",
    "    # get the \"Bush\" theta for each debate, at index=0\n",
    "    bush_pref = pm.Deterministic(\"bush_pref\", theta[:, 0] * n / m)\n",
    "    \n",
    "    # to calculate probability that support for Bush shifted from debate 1 [0] to 2 [1]\n",
    "    bush_shift = pm.Deterministic(\"bush_shift\", bush_pref[1]-bush_pref[0])\n",
    "    \n",
    "    # because of the shapes of the inputs, this essentially creates 2 multinomials, \n",
    "    # one for each debate\n",
    "    responses = pm.Multinomial(\"responses\", n=n, p=theta, observed=y)"
   ]
  },
  {
   "cell_type": "code",
   "execution_count": null,
   "metadata": {},
   "outputs": [],
   "source": [
    "For models with multi-dimensional shapes, it's always good to check the shapes of the various parameters before sampling:"
   ]
  },
  {
   "cell_type": "code",
   "execution_count": null,
   "metadata": {},
   "outputs": [],
   "source": [
    "for v in polling_model_debates.unobserved_RVs:\n",
    "    print(v, v.tag.test_value.shape)"
   ]
  },
  {
   "cell_type": "code",
   "execution_count": null,
   "metadata": {},
   "outputs": [],
   "source": [
    "pm.model_to_graphviz(polling_model_debates)"
   ]
  },
  {
   "cell_type": "code",
   "execution_count": null,
   "metadata": {},
   "outputs": [],
   "source": [
    "Let's sample with a slightly higher number of draws and tuning steps:"
   ]
  },
  {
   "cell_type": "code",
   "execution_count": null,
   "metadata": {},
   "outputs": [],
   "source": [
    "with polling_model_debates:\n",
    "    polling_trace_debates = pm.sample(draws=3000, tune=1500)"
   ]
  },
  {
   "cell_type": "code",
   "execution_count": null,
   "metadata": {},
   "outputs": [],
   "source": [
    "with polling_model_debates:\n",
    "    pm.traceplot(polling_trace_debates, combined=True)"
   ]
  },
  {
   "cell_type": "code",
   "execution_count": null,
   "metadata": {},
   "outputs": [],
   "source": [
    "We'll take a look at the means of the posteriors for theta, indicating the % of support for each candidate pre & post debate:"
   ]
  },
  {
   "cell_type": "code",
   "execution_count": null,
   "metadata": {},
   "outputs": [],
   "source": [
    "s = [\"pre\", \"post\"]\n",
    "candidates = data[\"candidate\"].values\n",
    "pd.DataFrame(polling_trace_debates[\"theta\"].mean(axis=0), index=s, columns=candidates)"
   ]
  },
  {
   "cell_type": "code",
   "execution_count": null,
   "metadata": {},
   "outputs": [],
   "source": [
    "Just from the means, we can see that the number of Bush supporters has likely decreased post debate from 48.8% to 46.3% (as a % of supporters of the 2 major candidates):"
   ]
  },
  {
   "cell_type": "code",
   "execution_count": null,
   "metadata": {},
   "outputs": [],
   "source": [
    "pd.DataFrame(polling_trace_debates[\"bush_pref\"].mean(axis=0), index=s, columns=[\"bush_pref\"])"
   ]
  },
  {
   "cell_type": "code",
   "execution_count": null,
   "metadata": {},
   "outputs": [],
   "source": [
    "Let's compare the results visually, by plotting the posterior distributions of the pre/post debate values for % responses for Bush and the posterior for pre/post difference in Bush supporters:"
   ]
  },
  {
   "cell_type": "code",
   "execution_count": null,
   "metadata": {},
   "outputs": [],
   "source": [
    "_, ax = plt.subplots(2,1, figsize=(10, 10))\n",
    "\n",
    "sns.distplot(polling_trace_debates[\"bush_pref\"][:,0], hist=False, ax=ax[0], label=\"Pre-Debate\")\n",
    "sns.distplot(polling_trace_debates[\"bush_pref\"][:,1], hist=False, ax=ax[0], label=\"Post-Debate\")\n",
    "ax[0].set_title(\"% Responses for Bush vs Dukakis\")\n",
    "ax[0].set_xlabel(\"% Responses\");\n",
    "\n",
    "sns.distplot(polling_trace_debates[\"bush_shift\"], hist=True, ax=ax[1], label=\"P(Bush Shift)\")\n",
    "ax[1].axvline(0, c='g', linestyle='dotted')\n",
    "ax[1].set_title(\"% Shift Pre/Prior Debate\")\n",
    "ax[1].set_xlabel(\"% Shift\");"
   ]
  },
  {
   "cell_type": "code",
   "execution_count": null,
   "metadata": {},
   "outputs": [],
   "source": [
    "From the second plot, we can already see that a large portion of the posterior density is below 0, but let's be precise and actually calculate the probability that support shifted towards Bush after the debate:"
   ]
  },
  {
   "cell_type": "code",
   "execution_count": null,
   "metadata": {},
   "outputs": [],
   "source": [
    "perc_shift = (len(polling_trace_debates[\"bush_shift\"][polling_trace_debates[\"bush_shift\"] > 0])\n",
    "              /len(polling_trace_debates[\"bush_shift\"])\n",
    "             )\n",
    "print(f'P(Shift Towards Bush) = {perc_shift:.1%}')"
   ]
  },
  {
   "cell_type": "code",
   "execution_count": null,
   "metadata": {},
   "outputs": [],
   "source": [
    "While that was a sort of round-about way to show that Bush lost support during the debate, hopefully this illustrated the flexibility and robustness of probabilistic models (and PyMC3)."
   ]
  },
  {
   "cell_type": "code",
   "execution_count": null,
   "metadata": {},
   "outputs": [],
   "source": []
  },
  {
   "cell_type": "code",
   "execution_count": null,
   "metadata": {},
   "outputs": [],
   "source": [
    "with pm.Model() as polling_model_debates:\n",
    "    \n",
    "    # initializes the Dirichlet distribution with a uniform prior:\n",
    "    shape = (n_debates, n_candidates)\n",
    "    a = np.ones(shape)\n",
    "    n = np.reshape(n, (-1,1))\n",
    "    \n",
    "    # This creates a separate Dirichlet distribution for each debate\n",
    "    # where sum of probabilities across candidates = 100% for each debate\n",
    "    theta = pm.Dirichlet(\"theta\", a=a, shape=shape)\n",
    "    \n",
    "    # get the \"Bush\" theta for each debate, at index=0\n",
    "    bush_pref = pm.Deterministic(\"bush_pref\", theta[:, 0] * n / m)\n",
    "    \n",
    "    # to calculate probability that support for Bush shifted from debate 1 [0] to 2 [1]\n",
    "    bush_shift = pm.Deterministic(\"bush_shift\", bush_pref[1]-bush_pref[0])\n",
    "    \n",
    "    # because of the shapes of the inputs, this essentially creates 2 multinomials, \n",
    "    # one for each debate\n",
    "    responses = pm.Multinomial(\"responses\", n=n, p=theta, observed=y)"
   ]
  },
  {
   "cell_type": "code",
   "execution_count": null,
   "metadata": {},
   "outputs": [],
   "source": [
    "import datetime\n",
    "import pymc3 as pm\n",
    "from pyhoshen import israel\n",
    "forecast_day = datetime.datetime.fromordinal(datetime.date.today().toordinal())\n",
    "with pm.Model() as model:\n",
    "  election = israel.IsraeliElectionForecastModel(\n",
    "      'https://drive.google.com/uc?id=1WYGgC3LeTkwKz0Oc2IYX5OdnyiroSA9P',\n",
    "      model_type='polls-only', base_elections=[],\n",
    "      forecast_day=forecast_day, eta=25)"
   ]
  },
  {
   "cell_type": "code",
   "execution_count": null,
   "metadata": {},
   "outputs": [],
   "source": [
    "The results can then be plotted as follows:\n",
    "\n",
    "import theano\n",
    "theano.config.compute_test_value = 'off'\n",
    "bo=election.compute_trace_bader_ofer(samples['support'], threshold=0.0325)\n",
    "election.plot_mandates(samples, bo, hebrew=False)\n",
    "election.plot_party_support_evolution_graphs(samples, bo, hebrew=False)"
   ]
  },
  {
   "cell_type": "code",
   "execution_count": null,
   "metadata": {},
   "outputs": [],
   "source": [
    "json document with configuration (this is the file provided in the above code):\n",
    "https://drive.google.com/open?id=1WYGgC3LeTkwKz0Oc2IYX5OdnyiroSA9P 1\n",
    "google spreadsheet with polls data -\n",
    "https://docs.google.com/spreadsheets/d/1lqqrIp_sXir_Sz_H_y3mCvOaXGc_lmSsPaD-Y0C9eBk "
   ]
  },
  {
   "cell_type": "code",
   "execution_count": null,
   "metadata": {},
   "outputs": [],
   "source": [
    "# https://discourse.pymc.io/t/help-with-mvstudentt-mvnormal-political-election-model/2855/3\n",
    "\n",
    "import datetime\n",
    "import pymc3 as pm\n",
    "import numpy as np\n",
    "import theano.tensor as T\n",
    "import itertools\n",
    "\n",
    "forecast_day = datetime.datetime.fromordinal(datetime.date.today().toordinal())\n",
    "\n",
    "from pyhoshen import configuration\n",
    "config = configuration.Configuration('https://drive.google.com/uc?id=1WYGgC3LeTkwKz0Oc2IYX5OdnyiroSA9P')\n",
    "\n",
    "cycle = max(config['cycles'])\n",
    "cycle_config = config['cycles'][cycle]\n",
    "\n",
    "parties = cycle_config['parties']\n",
    "party_unions = { p: parties[p]['union_of'] for p in parties if 'union_of' in parties[p] }\n",
    "for composite, components in party_unions.items():\n",
    "    for c in components:\n",
    "        if c != composite and c in parties:\n",
    "            del parties[c]\n",
    "\n",
    "for p in [ id for id, party in parties.items() if 'dissolved' in party ]:\n",
    "    del parties[p]\n",
    "\n",
    "config.read_polls(cycle_config, {'polls0': cycle_config['polls'][0]})\n",
    "\n",
    "# only model support going back this amount of days\n",
    "# earlier polls are ignored\n",
    "total_days = 35\n",
    "\n",
    "from pyhoshen import polls\n",
    "election_polls = polls.ElectionPolls(\n",
    "    config.dataframes['polls']['polls0'],\n",
    "    parties.keys(), forecast_day, max_days = total_days)\n",
    "  \n",
    "test_results = [ np.nan_to_num(f) for f in election_polls.get_last_days_average(10)]\n",
    "\n",
    "num_parties = len(parties.keys())\n",
    "\n",
    "with pm.Model() as model:\n",
    "  \n",
    "  eta = 25\n",
    "  cholesky_pmatrix = pm.LKJCholeskyCov('cholesky_pmatrix',\n",
    "      n=num_parties, eta=eta,   \n",
    "      sd_dist=pm.HalfCauchy.dist(0.1, shape=[num_parties]))\n",
    "  cholesky_matrix = pm.Deterministic('cholesky_matrix',\n",
    "      pm.expand_packed_triangular(num_parties, cholesky_pmatrix))\n",
    "  \n",
    "  votes = pm.Uniform('votes', 0, 0.5, shape=num_parties)\n",
    "  \n",
    "  innovations = pm.MvNormal('innovations',\n",
    "      mu=np.zeros([total_days, num_parties]),\n",
    "      chol=cholesky_matrix,\n",
    "      shape=[total_days, num_parties],\n",
    "      testval=np.zeros([total_days, num_parties])) \n",
    "  \n",
    "  walk = pm.Deterministic('walk', T.cumsum(innovations, axis=0))\n",
    "  \n",
    "  support = pm.Deterministic('support', votes + walk)\n",
    "  \n",
    "  # group polls by number of days\n",
    "  group_key = lambda poll: poll.num_poll_days\n",
    "  \n",
    "  grouped_polls = [ (num_days, [p for p in polls]) for num_days, polls in\n",
    "      itertools.groupby(sorted(election_polls, key=group_key), group_key) ]\n",
    "  \n",
    "  # compute average of modeled support for multi-day polls\n",
    "  def expected_poll_outcome(p):\n",
    "      if p.num_poll_days > 1:\n",
    "          return T.mean([ support[d] for d in range(p.end_day, p.start_day + 1)], axis=0)\n",
    "      else:\n",
    "          return support[p.start_day]\n",
    "\n",
    "  likelihoods = [ pm.MvStudentT('polls_%d_days' % num_days,\n",
    "    nu=[ p.num_polled - 1 for p in polls ],\n",
    "    mu=[ expected_poll_outcome(p) for p in polls ],\n",
    "    chol=cholesky_matrix / np.sqrt(num_days),\n",
    "    testval=test_results,\n",
    "    shape=[len(polls), num_parties],\n",
    "    observed=[ p.percentages for p in polls ]) for num_days, polls in grouped_polls ]\n",
    "\n",
    "with model:\n",
    "  samples = pm.sample(1000, tune=1000,\n",
    "                        nuts_kwargs=dict(target_accept=.8, max_treedepth=25, integrator='three-stage'))"
   ]
  },
  {
   "cell_type": "code",
   "execution_count": null,
   "metadata": {},
   "outputs": [],
   "source": [
    "polls = ma.masked_invalid(np.full([max_polls, num_days], np.nan))\n",
    "    num_polled = ma.masked_equal(np.full([max_polls, num_days], -1).astype(int), -1)\n",
    "    pollers = np.full([max_polls, num_days], num_pollers).astype(int)\n",
    "# read poll data ...\n",
    "    with pm.Model() as poll_model:\n",
    "        prior = pm.Uniform('p', 0, 1.0, shape = 1)\n",
    "        sigma = pm.Exponential('sigma', 1./.2, testval=.1) # No more than 20% avg\n",
    "        s = pm.GaussianRandomWalk('s', sd=sigma**-2, shape=num_days)\n",
    "\n",
    "        # Margin of error prior\n",
    "        sigma2 = pm.Uniform('margin_of_error',lower = 0, upper = .5, shape=num_pollers + 1, testval=.05)\n",
    "\n",
    "        # Deterministic formula for mu\n",
    "        mu = pm.Deterministic('mu',prior + s)\n",
    "\n",
    "        # Likelihood function\n",
    "        poll = pm.Normal('Likelihood', mu=mu, sd=sigma2[pollers], observed=polls)\n",
    "\n",
    "\n",
    "\n",
    "\n",
    "\n",
    "I am now trying to add covariance and multiple parties based on posts like https://austinrochford.com/posts/2015-09-16-mvn-pymc3-lkj.html 2. But I keep getting dimension issues:\n",
    "\n",
    "\n",
    "    with pm.Model() as poll_model:\n",
    "        prior = pm.Uniform('p', 0, 1.0, shape = [num_parties])\n",
    "\n",
    "        party_s_corr = pm.Lognormal('s_corr', \n",
    "                              np.zeros(num_parties), \n",
    "                              np.ones(num_parties), shape=num_parties)\n",
    "        party_corr_lkj = pm.LKJCorr('corr_lkj', n=1, p=num_parties)\n",
    "\n",
    "        party_corr_matrix = party_corr_lkj[party_tri_index]\n",
    "        party_corr_matrix = T.fill_diagonal(party_corr_matrix, 1)\n",
    "        party_s_diag = T.diag(party_s_corr)\n",
    "        \n",
    "        party_cov_matrix = T.nlinalg.matrix_dot(party_s_diag, party_corr_matrix, party_s_diag)\n",
    "        \n",
    "        s = pm.MvGaussianRandomWalk('s', cov=party_cov_matrix, \n",
    "                                    shape=[num_days, num_parties])\n",
    "#        \n",
    "        # Margin of error prior\n",
    "        sigma2 = pm.Uniform('margin_of_error',lower = 0, upper = .5, \n",
    "                            shape=num_pollers + 1, testval=.05)\n",
    "#\n",
    "        # Deterministic formula for mu\n",
    "        mu = pm.Deterministic('mu',prior + s)"
   ]
  },
  {
   "cell_type": "code",
   "execution_count": null,
   "metadata": {},
   "outputs": [],
   "source": [
    "https://discourse.pymc.io/t/partial-pooling-for-election-polls/6461/9\n",
    "\n",
    "My idea is that the true vote share for the state is unobservable, but each poll can give us a glimpse. However each poll should have its own distribution for house effects or sample bias or whatever. Similar to the Efron and Morris baseball example where each player has their own distribution that informs the distribution of the population of professional baseball players.\n",
    "\n",
    "samplesize = [605, 1250, 500, 800, 1377, 1450, 583, 1064, 300, 1500]\n",
    "num_votes = [296, 631, 247, 404, 703, 717, 312, 499, 143, 734]\n",
    "\n",
    "\n",
    "with pm.Model() as warnock_model:\n",
    "    \n",
    "    phi = pm.Beta('phi', alpha=alpha, beta=beta)\n",
    "\n",
    "    kappa_log = pm.HalfNormal('kappa_log', sigma=1)\n",
    "    kappa = pm.Deterministic('kappa', tt.exp(kappa_log))\n",
    "\n",
    "    thetas = pm.Beta(\n",
    "        'thetas', \n",
    "        alpha=phi*kappa, \n",
    "        beta=(1.0-phi)*kappa, \n",
    "        shape=len(num_votes)\n",
    "    )\n",
    "    \n",
    "    y = pm.Binomial(\n",
    "        'y', \n",
    "        n=samplesize, \n",
    "        p=thetas, \n",
    "        observed=num_votes\n",
    "    )\n"
   ]
  }
 ],
 "metadata": {
  "kernelspec": {
   "display_name": "polls",
   "language": "python",
   "name": "polls"
  },
  "language_info": {
   "codemirror_mode": {
    "name": "ipython",
    "version": 3
   },
   "file_extension": ".py",
   "mimetype": "text/x-python",
   "name": "python",
   "nbconvert_exporter": "python",
   "pygments_lexer": "ipython3",
   "version": "3.8.6"
  }
 },
 "nbformat": 4,
 "nbformat_minor": 4
}
