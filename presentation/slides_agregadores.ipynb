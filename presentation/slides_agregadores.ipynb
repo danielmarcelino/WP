{
 "cells": [
  {
   "cell_type": "markdown",
   "metadata": {
    "cell_style": "center",
    "slideshow": {
     "slide_type": "slide"
    }
   },
   "source": [
    "%%HTML\n",
    "<link rel=\"stylesheet\" type=\"text/css\" href=\"custom.css\">\n",
    "\n",
    "from IPython.display import HTML, display\n",
    "\n",
    "def set_background(color):    \n",
    "    script = (\n",
    "        \"var cell = this.closest('.jp-CodeCell');\"\n",
    "        \"var editor = cell.querySelector('.jp-Editor');\"\n",
    "        \"editor.style.background='{}';\"\n",
    "        \"this.parentNode.removeChild(this)\"\n",
    "    ).format(color)\n",
    "    \n",
    "    display(HTML('<img src onerror=\"{}\" style=\"display:none\">'.format(script)))\n"
   ]
  },
  {
   "cell_type": "markdown",
   "metadata": {},
   "source": [
    "# Prevendo o imprevisível: agregação de pesquisas eleitorais em 2022\n",
    "\n",
    "Se você estiver lendo a versão interativa desta apresentação no binder, pressione `espaço` para mover para o próximo slide."
   ]
  },
  {
   "cell_type": "markdown",
   "metadata": {
    "slideshow": {
     "slide_type": "skip"
    }
   },
   "source": [
    "# Para aqueles executando localmente\n",
    "Remova todos headers %%capture para obter as imagens dos resultados"
   ]
  },
  {
   "cell_type": "code",
   "execution_count": 1,
   "metadata": {
    "slideshow": {
     "slide_type": "skip"
    }
   },
   "outputs": [],
   "source": [
    "import matplotlib.pyplot as plt\n",
    "from scipy import stats, optimize\n",
    "import numpy as np\n",
    "import pandas as pd\n",
    "import jotaviz\n",
    "from jotaviz import styles\n",
    "from datetime import date, datetime, timedelta\n",
    "np.set_printoptions(precision=2, floatmode=\"fixed\")"
   ]
  },
  {
   "cell_type": "code",
   "execution_count": 2,
   "metadata": {
    "slideshow": {
     "slide_type": "skip"
    }
   },
   "outputs": [],
   "source": [
    "def hide_code_in_slideshow():   \n",
    "    from IPython import display\n",
    "    import binascii\n",
    "    import os\n",
    "    uid = binascii.hexlify(os.urandom(8)).decode()    \n",
    "    html = \"\"\"<div id=\"%s\"></div>\n",
    "    <script type=\"text/javascript\">\n",
    "        $(function(){\n",
    "            var p = $(\"#%s\");\n",
    "            if (p.length==0) return;\n",
    "            while (!p.hasClass(\"cell\")) {\n",
    "                p=p.parent();\n",
    "                if (p.prop(\"tagName\") ==\"body\") return;\n",
    "            }\n",
    "            var cell = p;\n",
    "            cell.find(\".input\").addClass(\"hide-in-slideshow\")\n",
    "        });\n",
    "    </script>\"\"\" % (uid, uid)\n",
    "    display.display_html(html, raw=True)"
   ]
  },
  {
   "cell_type": "markdown",
   "metadata": {
    "slideshow": {
     "slide_type": "notes"
    }
   },
   "source": [
    "## Apresentação\n",
    "\n",
    "Esta apresentação será apresentada de uma forma que não exigirá conhecimento profundo de nenhum dos tópicos técnicos, quero apenas mostrar a intuição, problemas, agregação e modelos de projeção.\n",
    "\n",
    "### Introdução\n",
    "   * Por que as pesquisas variam tanto?\n"
   ]
  },
  {
   "cell_type": "markdown",
   "metadata": {
    "slideshow": {
     "slide_type": "slide"
    }
   },
   "source": [
    "# Quem sou eu?\n",
    "* Daniel Marcelino\n",
    "* Analista de dados no JOTA em Brasília\n",
    "* Twitter e github: dmarcelinobr\n",
    "* E-mail: daniel.marcelino@jota.info\n",
    "\n",
    "\n",
    "<right><img src=\"https://github.com/dmarcelinobr/pollbase/blob/master/presentation/img/template-colunistas-pro-21.png?raw=true\" alt=\"Crédito: Raoni Arruda\" style=\"height: 300px;\"/> </right>"
   ]
  },
  {
   "cell_type": "markdown",
   "metadata": {
    "slideshow": {
     "slide_type": "slide"
    }
   },
   "source": [
    "# As pesquisas eleitorais...\n",
    "## Para as consultorias e institutos de opinião as pesquisas funcionam assim:\n",
    "\n",
    "\n",
    "<center><img src=\"https://github.com/dmarcelinobr/pollbase/blob/master/presentation/img/target-with-dart-flat.jpg?raw=true\" alt=\"\" style=\"height: 300px;\"/> </center>"
   ]
  },
  {
   "cell_type": "markdown",
   "metadata": {
    "slideshow": {
     "slide_type": "subslide"
    },
    "tags": []
   },
   "source": [
    "# As pesquisas eleitorais...\n",
    "## Mas na prática... bem, elas funcionam mais ou menos assim:\n",
    "\n",
    "\n",
    "<center><img src=\"https://github.com/dmarcelinobr/pollbase/blob/master/presentation/img/archery-target-ring.png?raw=true\" alt=\"\" style=\"height: 400px;\"/> </center>"
   ]
  },
  {
   "cell_type": "markdown",
   "metadata": {
    "jp-MarkdownHeadingCollapsed": true,
    "slideshow": {
     "slide_type": "slide"
    },
    "tags": []
   },
   "source": [
    "# Teoria vs. prática\n",
    "\n",
    "### René Descartes: toda explicação científica se deve expressar em termos de quantidades precisas e matematicamente definidas (dúvida cartesiana).\n",
    "\n",
    "### Carl Hempel: as ciências são modelos da realidade, explanatórios e preditivos, em aproximações sucessivas da realidade estudada. \n",
    "\n",
    "### Thomas Kuhn: a ciência se desenvolve através de paradigmas que se sucedem na explicação dos fatos.\n",
    "\n",
    "### É por isso que a Mecânica Newtoniana é suficiente para o lançamento de satélites e previsão da órbita dos planetas (exceto Mercúrio)."
   ]
  },
  {
   "cell_type": "markdown",
   "metadata": {
    "slideshow": {
     "slide_type": "subslide"
    },
    "tags": []
   },
   "source": [
    "# Teoria vs. prática\n",
    "\n",
    "### As pesquisas eleitorais refletem uma dada opinião em um certo momento. \n",
    "\n",
    "### O Pai-Nosso das consultorias diz que: **é como uma fotografia do momento**. \n",
    "\n",
    "### Por se tratar de opinião, matéria-prima bastante volátil, o grau de variação entre um momento e outro também está envolto em um quadro móvel de circunstâncias. É o caos!\n",
    "\n",
    "### Qualquer informação nova pode alterar ou não esse quadro.\n"
   ]
  },
  {
   "cell_type": "markdown",
   "metadata": {
    "slideshow": {
     "slide_type": "slide"
    },
    "tags": []
   },
   "source": [
    "# Pesquisas são incertas por natureza\n",
    "\n",
    "### Todo modelo científico se **respalda na explicação dos resultados** e na **previsão** do que possa vir a ocorrer. Assim é na física, na química e na biologia, dentre alguns graus possíveis de previsibilidade.\n",
    "\n",
    "### Na estatística, e consequentemente nas pesquisas eleitorais, os modelos são de **menor previsibilidade do que nas ciências físicas**, devido à **margem de erro** ou de variação aleatória inerente ao método amostral e à mutação contínua das opiniões e intenção de voto. \n",
    "\n",
    "### Lembre-se: as pesquisas baseiam-se na teoria estatística da **representatividade** de uma amostra, dentro de um universo. Então o que ocorre quando podemos ter várias representações dessa realidade?"
   ]
  },
  {
   "cell_type": "markdown",
   "metadata": {
    "slideshow": {
     "slide_type": "subslide"
    },
    "tags": []
   },
   "source": [
    "# Pesquisas são incertas por natureza\n",
    "\n",
    "### Mas é importante observar outros aspectos, inclusive linguísticos contidos na expressão **margem de erro**. Em português, o termo **erro** é carregado de conotação negativa. Já em inglês, o termo **error**, utilizado na expressão **margin of error**, difere do termo **mistake**, que traz a conotação negativa na língua inglesa. \n",
    "\n",
    "### A **margem de erro**, ou **margin of error**, deve ser entendida como **margem de variação técnica** antecipadamente prevista em uma amostra, e não como **erro** ocorrido após uma medição."
   ]
  },
  {
   "cell_type": "markdown",
   "metadata": {
    "slideshow": {
     "slide_type": "subslide"
    },
    "tags": []
   },
   "source": [
    "# O mundo real é mais complexo\n",
    "### Parece difícil medir intenção de votos para Lula\n",
    "\n",
    "<right><img src=\"https://github.com/dmarcelinobr/pollbase/blob/master/presentation/img/voto_espontaneo_lula.png?raw=true\" alt=\"Daniel\" style=\"height: 400px;\"/> </right>"
   ]
  },
  {
   "cell_type": "markdown",
   "metadata": {
    "slideshow": {
     "slide_type": "subslide"
    },
    "tags": []
   },
   "source": [
    "# O mundo real é mais complexo\n",
    "### Parece difícil medir a intenção de votos para Bolsonaro também \n",
    "\n",
    "<right><img src=\"https://github.com/dmarcelinobr/pollbase/blob/master/presentation/img/voto_espontaneo_bolsonaro.png?raw=true\" alt=\"Daniel\" style=\"height: 400px;\"/> </right>"
   ]
  },
  {
   "cell_type": "markdown",
   "metadata": {
    "slideshow": {
     "slide_type": "subslide"
    },
    "tags": []
   },
   "source": [
    "# O mundo real é mais complexo\n",
    "### House effects, mode effects, etc\n",
    "\n",
    "<center><img src=\"https://github.com/dmarcelinobr/pollbase/blob/master/presentation/img/lula_estimulado.png?raw=true\" alt=\"Daniel\" style=\"height: 400px;\"/> </center>"
   ]
  },
  {
   "cell_type": "markdown",
   "metadata": {
    "slideshow": {
     "slide_type": "subslide"
    },
    "tags": []
   },
   "source": [
    "# O mundo real é mais complexo\n",
    "### House effects, mode effects, etc\n",
    "\n",
    "<center><img src=\"https://github.com/dmarcelinobr/pollbase/blob/master/presentation/img/bolsonaro_estimulado.png?raw=true\" alt=\"Daniel\" style=\"height: 400px;\"/> </center>"
   ]
  },
  {
   "cell_type": "markdown",
   "metadata": {
    "slideshow": {
     "slide_type": "subslide"
    },
    "tags": []
   },
   "source": [
    "# A teoria funciona, mas... \n",
    "\n",
    "### Eleitores não são como bolas coloridas usadas para descrever experimentos de probabilidade nos livros didáticos de estatística. As bolas azuis e vermelhas nunca mundam de cor nesses experimentos.\n",
    "\n",
    "### No mundo real eleitoras e eleitores podem ou não mudar de opinião, de acordo com estímulos que recebem. As campanhas estão aí pra isso! \n",
    "\n",
    "<center><img src=\"https://github.com/dmarcelinobr/pollbase/blob/master/presentation/img/porcentagem.gif?raw=true\" alt=\"mutatis mutandis\" style=\"height: 300px;\"/> </center>"
   ]
  },
  {
   "cell_type": "markdown",
   "metadata": {
    "slideshow": {
     "slide_type": "slide"
    },
    "tags": []
   },
   "source": [
    "# Mas afinal, é possível prever a próxima eleição?\n",
    "<center><img src=\"https://github.com/dmarcelinobr/pollbase/blob/master/presentation/img/tela_agregadores.png?raw=true\" alt=\"mutatis mutandis\" style=\"height: 500px;\"/> </center>"
   ]
  },
  {
   "cell_type": "markdown",
   "metadata": {
    "jp-MarkdownHeadingCollapsed": true,
    "slideshow": {
     "slide_type": "notes"
    },
    "tags": []
   },
   "source": [
    "Na minha experiência, modelos bayesianos são particularmente poderosos em caracterizar a incerteza, mesmo em situações com uma pequena quantidade de dados. "
   ]
  },
  {
   "cell_type": "markdown",
   "metadata": {
    "slideshow": {
     "slide_type": "subslide"
    },
    "tags": []
   },
   "source": [
    "# Sim, mas é preciso modelar os dados\n",
    "\n",
    "<center><img src=\"https://github.com/dmarcelinobr/pollbase/blob/master/presentation/img/dados_agregadores.png?raw=true\" alt=\"mutatis mutandis\" style=\"height: 450px;\"/> </center>"
   ]
  },
  {
   "cell_type": "markdown",
   "metadata": {
    "slideshow": {
     "slide_type": "subslide"
    },
    "tags": []
   },
   "source": [
    "# O que a experiência me ensionou \n",
    "\n",
    "### - Um modelo de previsão eleitoral deve ser probabilístico, não determinístico.\n",
    "\n",
    "### - Um modelo deve ser empírico.\n",
    "\n",
    "### - Um modelo deve ser sensível às mudanças nos resultados das pesquisas.\n",
    "\n",
    "### - Um modelo deve ser sensível às mudanças no tempo certo."
   ]
  },
  {
   "cell_type": "markdown",
   "metadata": {
    "slideshow": {
     "slide_type": "slide"
    }
   },
   "source": [
    "# Os modelos usam simulações com cadeias de Markov\n",
    "\n",
    "### Uma cadeia de Markov é uma sequência de eventos onde a probabilidade de FUTURO apenas depende do PRESENTE\n",
    "\n",
    "<center><img src=\"https://github.com/dmarcelinobr/pollbase/blob/master/presentation/img/mcmc_lula.png?raw=true\" alt=\"Primeiro turno\" style=\"height: 300px;\"/> </center>"
   ]
  },
  {
   "cell_type": "markdown",
   "metadata": {
    "slideshow": {
     "slide_type": "notes"
    },
    "tags": []
   },
   "source": [
    "Se uma pesquisa encontrou que Lula tem 40% numa determinada semana, na próxima Lula terá essa mesma taxa com 70% de probabilidade ou uma taxa maior/menor com probabilidade de 30%."
   ]
  },
  {
   "cell_type": "markdown",
   "metadata": {
    "slideshow": {
     "slide_type": "subslide"
    },
    "tags": []
   },
   "source": [
    "## Pesquisas eleitorais são simplesmente realizações de uma distribuição Binomial ou Multinomial\n",
    "\n",
    "###  Para cada sondagem, um número **n** de eleitores são entrevistados, e muitos deles (**y**) dizem que preferem um candidato à outro(s).\n",
    "\n",
    "### Então, tecnicamente temos: **y∼Binomial(n, p)**, onde **p** é a parcela de eleitores que preferem um candidato entre os demais.\n",
    "\n",
    "### Usamos generalizações desse modelo para eleições com mais de dois candidatos. "
   ]
  },
  {
   "cell_type": "markdown",
   "metadata": {
    "slideshow": {
     "slide_type": "subslide"
    },
    "tags": []
   },
   "source": [
    "# Exemplos de modelos\n",
    "\n",
    "<center><img src=\"https://github.com/dmarcelinobr/pollbase/blob/master/presentation/img/primeiro_turno_model.png?raw=true\" alt=\"mutatis mutandis\" style=\"height: 400px;\"/> </center>"
   ]
  },
  {
   "cell_type": "markdown",
   "metadata": {
    "slideshow": {
     "slide_type": "subslide"
    },
    "tags": []
   },
   "source": [
    "# Exemplos de modelos\n",
    "\n",
    "<center><img src=\"https://github.com/dmarcelinobr/pollbase/blob/master/presentation/img/auxilio_brasil_model_1T-VT.png?raw=true\" alt=\"mutatis mutandis\" style=\"height: 400px;\"/> </center>"
   ]
  },
  {
   "cell_type": "markdown",
   "metadata": {
    "slideshow": {
     "slide_type": "subslide"
    },
    "tags": []
   },
   "source": [
    "# Exemplos de modelos\n",
    "\n",
    "<center><img src=\"https://github.com/dmarcelinobr/pollbase/blob/master/presentation/img/aprovacao_coletiva_model.png?raw=true\" alt=\"mutatis mutandis\" style=\"height: 400px;\"/> </center>"
   ]
  },
  {
   "cell_type": "markdown",
   "metadata": {
    "slideshow": {
     "slide_type": "subslide"
    },
    "tags": []
   },
   "source": [
    "# Exemplos de modelos\n",
    "\n",
    "<center><img src=\"https://github.com/dmarcelinobr/pollbase/blob/master/presentation/img/popularidade_hierarquica_month_minus_origem_model.png?raw=true\" alt=\"mutatis mutandis\" style=\"height: 400px;\"/> </center>"
   ]
  },
  {
   "cell_type": "markdown",
   "metadata": {
    "slideshow": {
     "slide_type": "slide"
    }
   },
   "source": [
    "## Transformamos essa visão em linhas de código\n",
    "\n",
    "#### O modelo é essencialmente um programa de computador:"
   ]
  },
  {
   "cell_type": "code",
   "execution_count": 17,
   "metadata": {
    "slideshow": {
     "slide_type": "-"
    }
   },
   "outputs": [],
   "source": [
    "with pm.Model() as primeiro_turno_model:\n",
    "\n",
    "phi = pm.Beta('phi', alpha=alpha, beta=beta)\n",
    "\n",
    "kappa_log = pm.HalfNormal('kappa_log', sigma=10)\n",
    "kappa = pm.Deterministic('kappa', tt.exp(kappa_log))\n",
    "\n",
    "theta = pm.Beta(\n",
    "    'p', \n",
    "    alpha=phi*kappa, \n",
    "    beta=(1.0-phi)*kappa, \n",
    "    shape=len(bolsonaro_polls_empresas)\n",
    ")\n",
    "\n",
    "polls = pm.Binomial(\n",
    "    'y', \n",
    "    n=bolsonaro_polls_empresas['amostra'], \n",
    "    p=theta, \n",
    "    observed=bolsonaro_polls_empresas['votos']\n",
    ")"
   ]
  },
  {
   "cell_type": "markdown",
   "metadata": {
    "slideshow": {
     "slide_type": "slide"
    }
   },
   "source": [
    "# Mas eu ainda não contei o que acontece por debaixo dos panos\n",
    "\n",
    "## Os resultados encontrados pelas pesquisas são (re)calibrados com base em três fatores:\n",
    "\n",
    "### 1- Há quanto **tempo** a pesquisa foi conduzida.\n",
    "\n",
    "### 2- A **quantidade** de pessoas entrevistadas pela pesquisa  (tamanho da amostra).\n",
    "\n",
    "### 3- A **avaliação** das empresas com base na **precisão** dos resultados da eleição anterior."
   ]
  },
  {
   "cell_type": "markdown",
   "metadata": {
    "slideshow": {
     "slide_type": "slide"
    }
   },
   "source": [
    "# Há quanto tempo a pesquisa foi conduzida\n",
    "\n",
    "<center><img src=\"https://github.com/dmarcelinobr/pollbase/blob/master/presentation/img/recencia.png?raw=true\" alt=\"\" style=\"height: 400px;\"/> </center>"
   ]
  },
  {
   "cell_type": "markdown",
   "metadata": {
    "slideshow": {
     "slide_type": "notes"
    },
    "tags": []
   },
   "source": [
    "- A penalidade se torna mais rígida. Isto é, mais ênfase é colocada na recência quanto mais nos aproximamos da eleição.\n",
    "\n",
    "- Por outro lado, na minha experiência em acompanhar esse tipo informação eu acredito que a mídia de notícias dá muita ênfase à recência do que deveria. É muito melhor olhar para uma gama mais ampla de pesquisas do que focar apenas no último dado publicado."
   ]
  },
  {
   "cell_type": "markdown",
   "metadata": {
    "slideshow": {
     "slide_type": "subslide"
    },
    "tags": []
   },
   "source": [
    "# Como isso funciona na prática\n",
    "\n",
    "### Ex: pesquisa Atlas Intel realizada entre os dias 27 a 29 de novembro com 4.401 entrevistados:  \n",
    "\n",
    "<center><img src=\"https://github.com/dmarcelinobr/pollbase/blob/master/presentation/img/recencia_pond.png?raw=true\" alt=\"\" style=\"height: 400px;\"/> </center>"
   ]
  },
  {
   "cell_type": "markdown",
   "metadata": {
    "slideshow": {
     "slide_type": "slide"
    },
    "tags": []
   },
   "source": [
    "# Tamanho da amostra utilizada\n",
    "\n",
    "### Tamanho importa! As pesquisas que ouvem mais eleitores devem receber algum crédito por isso, não acha?\n",
    "\n",
    "<center><img src=\"https://github.com/dmarcelinobr/pollbase/blob/master/presentation/img/tamanho_importa.png?raw=true\" alt=\"\" style=\"height: 390px;\"/> </center>"
   ]
  },
  {
   "cell_type": "markdown",
   "metadata": {
    "slideshow": {
     "slide_type": "subslide"
    }
   },
   "source": [
    "# Tamanho da amostra utilizada\n",
    "\n",
    "<center><img src=\"https://github.com/dmarcelinobr/pollbase/blob/master/presentation/img/tamanho_amostra.png?raw=true\" alt=\"\" style=\"height: 420px;\"/> </center>"
   ]
  },
  {
   "cell_type": "markdown",
   "metadata": {
    "slideshow": {
     "slide_type": "subslide"
    }
   },
   "source": [
    "# Tamanho da amostra utilizada\n",
    "### ...mas os retornos precisam ser decrescentes\n",
    "\n",
    "<center><img src=\"https://github.com/dmarcelinobr/pollbase/blob/master/presentation/img/peso_pesquisa.png?raw=true\" alt=\"\" style=\"height: 420px;\"/> </center>"
   ]
  },
  {
   "cell_type": "markdown",
   "metadata": {
    "slideshow": {
     "slide_type": "notes"
    },
    "tags": []
   },
   "source": [
    "O ajuste é um pouco assimétrico: as sondagens com amostras muito grandes não recebem tanto crédito extra pelo modelo, e aquelas com amostras especialmente pequenas são 'punidas'"
   ]
  },
  {
   "cell_type": "markdown",
   "metadata": {
    "slideshow": {
     "slide_type": "subslide"
    }
   },
   "source": [
    "# Como isso funciona na prática\n",
    "\n",
    "### Ex: pesquisa Ipespe realizada entre os dias 22 a 24 de novembro com 1.000 entrevistados:    \n",
    "\n",
    "<center><img src=\"https://github.com/dmarcelinobr/pollbase/blob/master/presentation/img/ex_Ipespe.png?raw=true\" alt=\"\" style=\"height: 400px;\"/> </center>"
   ]
  },
  {
   "cell_type": "markdown",
   "metadata": {
    "slideshow": {
     "slide_type": "slide"
    },
    "tags": []
   },
   "source": [
    "# Avaliação da precisão da empresa\n",
    "\n",
    "### É preciso dar crédito extra para quem se esforça em produzir estimativas de qualidade, responsabilidade e transparência.\n",
    "\n",
    "* Se algum instituto acertou o resultado dentro da margem de erro?\n",
    "\n",
    "* A tendência global das pesquisa estava certa?\n",
    "\n",
    "* A performance da média do mercado?\n",
    "\n",
    "* Se o último ano foi pior ou melhor do que os anos anteriores?\n"
   ]
  },
  {
   "cell_type": "markdown",
   "metadata": {
    "slideshow": {
     "slide_type": "subslide"
    }
   },
   "source": [
    "# Como isso funciona na prática\n",
    "\n",
    "### Ex: pesquisa Ipespe realizada entre os dias 22 a 24 de novembro com 1.000 entrevistados, tem nota 0,950:   \n",
    "\n",
    "<center><img src=\"https://github.com/dmarcelinobr/pollbase/blob/master/presentation/img/exp_precisao_ipesep.png?raw=true\" alt=\"\" style=\"height: 400px;\"/> </center>"
   ]
  },
  {
   "cell_type": "markdown",
   "metadata": {
    "slideshow": {
     "slide_type": "slide"
    },
    "tags": []
   },
   "source": [
    "# Como isso funciona na prática\n",
    "\n",
    "### Ex: pesquisa Brasmarket realizada entre os dias 05 a 07 de dezembro com 4.600 entrevistados, nota 0,150:  \n",
    "\n",
    "<center><img src=\"https://github.com/dmarcelinobr/pollbase/blob/master/presentation/img/exp_precisao_basmarket.png?raw=true\" alt=\"\" style=\"height: 400px;\"/> </center>"
   ]
  },
  {
   "cell_type": "markdown",
   "metadata": {
    "slideshow": {
     "slide_type": "slide"
    },
    "tags": []
   },
   "source": [
    "# Resultados\n",
    "\n",
    "<center><img src=\"https://github.com/dmarcelinobr/pollbase/blob/master/presentation/img/lula_vs_outros.png?raw=true\" alt=\"\" style=\"height: 450px;\"/> </center>"
   ]
  },
  {
   "cell_type": "markdown",
   "metadata": {
    "slideshow": {
     "slide_type": "slide"
    },
    "tags": []
   },
   "source": [
    "# Resultados\n",
    "\n",
    "<center><img src=\"https://github.com/dmarcelinobr/pollbase/blob/master/presentation/img/lula_bolsonaro.png?raw=true\" alt=\"\" style=\"height: 450px;\"/> </center>"
   ]
  },
  {
   "cell_type": "markdown",
   "metadata": {
    "slideshow": {
     "slide_type": "slide"
    },
    "tags": []
   },
   "source": [
    "# Resultados\n",
    "\n",
    "<center><img src=\"https://github.com/dmarcelinobr/pollbase/blob/master/presentation/img/lula_bolsonaro_2t.png?raw=true\" alt=\"\" style=\"height: 450px;\"/> </center>\n"
   ]
  },
  {
   "cell_type": "markdown",
   "metadata": {
    "slideshow": {
     "slide_type": "slide"
    },
    "tags": []
   },
   "source": [
    "# Muito obrigado pela presença!"
   ]
  },
  {
   "cell_type": "code",
   "execution_count": 18,
   "metadata": {
    "tags": []
   },
   "outputs": [],
   "source": [
    "# Set seed back to zero for rest of notebook\n",
    "ELECTION_DATE = datetime.datetime(year=2022, month=10, day=2)\n",
    "TODAY = date.today().isoformat()\n",
    "\n",
    "countdown = ELECTION_DATE - datetime.datetime.now()\n",
    "\n",
    "print(f\"Countdown to Election BR 2022: {countdown}\")"
   ]
  },
  {
   "cell_type": "code",
   "execution_count": 18,
   "metadata": {
    "tags": []
   },
   "outputs": [],
   "source": [
    "Countdown to Election BR 2022: 128 days"
   ]
  }
 ],
 "metadata": {
  "celltoolbar": "Slideshow",
  "interpreter": {
   "hash": "ce92c30afe6ebf6b297051e9ad33b67f38651da5d090ade118ef71666016398a"
  },
  "kernelspec": {
   "display_name": "Python 3",
   "language": "python",
   "name": "python3"
  },
  "language_info": {
   "codemirror_mode": {
    "name": "ipython",
    "version": 3
   },
   "file_extension": ".py",
   "mimetype": "text/x-python",
   "name": "python",
   "nbconvert_exporter": "python",
   "pygments_lexer": "ipython3",
   "version": "3.8.12"
  },
  "livereveal": {
   "autolaunch": true,
   "scroll": true
  }
 },
 "nbformat": 4,
 "nbformat_minor": 4
}
