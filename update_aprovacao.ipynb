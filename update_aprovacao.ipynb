{
 "cells": [
  {
   "cell_type": "markdown",
   "metadata": {},
   "source": [
    "## Atualiza o banco e agregadores\n"
   ]
  },
  {
   "cell_type": "code",
   "execution_count": 1,
   "metadata": {},
   "outputs": [
    {
     "name": "stdout",
     "output_type": "stream",
     "text": [
      "/Users/marcelino/dmarcelinobr/polls\n",
      "/Users/marcelino/miniconda3/envs/polls/lib/python3.9/site-packages/ipykernel_launcher.py\n",
      "/Users/marcelino/dmarcelinobr/polls\n"
     ]
    }
   ],
   "source": [
    "import sys\n",
    "import os\n",
    "try:\n",
    "    import warnings                                                   \n",
    "    warnings.filterwarnings('ignore')     \n",
    "    import pandas as pd       \n",
    "    import numpy as np\n",
    "    import sqlite3\n",
    "    import watermark\n",
    "\n",
    "except ImportError:\n",
    "    print(\"Error: missing one of the libraries..\")\n",
    "    sys.exit()\n",
    "\n",
    "from manager_db import *\n",
    "\n",
    "\n",
    "print(os.getcwd())\n",
    "print(sys.argv[0])\n",
    "print(os.path.dirname(os.path.realpath('__file__')))\n",
    "# print('Running on sqlite3 v{}'.format(sqlite3.__version__))\n",
    "# print('Running on evironment: {}'.format(os.environ['CONDA_DEFAULT_ENV']))"
   ]
  },
  {
   "cell_type": "code",
   "execution_count": null,
   "metadata": {},
   "outputs": [],
   "source": [
    "%load_ext watermark\n",
    "\n",
    "%watermark"
   ]
  },
  {
   "cell_type": "code",
   "execution_count": 3,
   "metadata": {},
   "outputs": [
    {
     "name": "stdout",
     "output_type": "stream",
     "text": [
      "Banco: pollingpoint.db\n",
      "SQLite version: 3.33.0\n",
      "Tabelas:\n",
      "aprovacao\n",
      "empresas\n",
      "intencao\n",
      "pollsters\n",
      "ranking\n",
      "sqlite_sequence\n"
     ]
    }
   ],
   "source": [
    "con = AprovacaoDb()\n",
    "\n",
    "con.table_list()"
   ]
  },
  {
   "cell_type": "code",
   "execution_count": 10,
   "metadata": {},
   "outputs": [
    {
     "name": "stdout",
     "output_type": "stream",
     "text": [
      "Colunas: ['id', 'data_ini', 'data_fim', 'empresa', 'nome', 'positiva', 'regular', 'negativa', 'nsnr', 'erro', 'ic', 'amostra', 'ufs', 'cidades', 'partido', 'presidente', 'tipo', 'pergunta', 'modo', 'timestamp']\n"
     ]
    }
   ],
   "source": [
    "con.table_info()"
   ]
  },
  {
   "cell_type": "code",
   "execution_count": 11,
   "metadata": {},
   "outputs": [
    {
     "name": "stdout",
     "output_type": "stream",
     "text": [
      "Schema:\n",
      "CREATE TABLE aprovacao (\n",
      "\tid INTEGER UNIQUE,\n",
      "\tdata_ini DATE,\n",
      "\tdata_fim DATE NOT NULL,\n",
      "\tempresa TEXT NOT NULL,\n",
      "\tnome TEXT NOT NULL,\n",
      "\tpositiva NUMERIC(2,1) NOT NULL,\n",
      "\tregular NUMERIC(2,1),\n",
      "\tnegativa NUMERIC(2,1) NOT NULL,\n",
      "\tnsnr NUMERIC(2,1),\n",
      "\terro NUMERIC(2,1),\n",
      "\tic INTEGER,\n",
      "\tamostra INTEGER,\n",
      "\tufs TEXT,\n",
      "\tcidades TEXT,\n",
      "\tpartido TEXT NOT NULL,\n",
      "    presidente TEXT NOT NULL,\n",
      "\ttipo TEXT NOT NULL,\n",
      "\tpergunta TEXT,\n",
      "\tmodo TEXT NOT NULL,\n",
      "\ttimestamp DATETIME NOT NULL DEFAULT (datetime(CURRENT_TIMESTAMP, 'localtime')),\n",
      "\tCONSTRAINT pk_aprovacao PRIMARY KEY(data_fim, empresa, nome, tipo),\n",
      "     /* CONSTRAINT fk_aprovacao FOREIGN KEY(empresa) REFERENCES empresas(nome), */ \n",
      "\t /* CONSTRAINT fk2_aprovacao FOREIGN KEY(empresa) REFERENCES ranking(empresa), */ \n",
      "\tCHECK (data_ini LIKE '____-__-__'),\n",
      "\tCHECK (data_fim LIKE '____-__-__')\n",
      ")\n"
     ]
    }
   ],
   "source": [
    "con.table_schema()"
   ]
  },
  {
   "cell_type": "code",
   "execution_count": 13,
   "metadata": {},
   "outputs": [
    {
     "name": "stdout",
     "output_type": "stream",
     "text": [
      "Total de pesquisas registradas: 734\n",
      "Total de pesquisas da empresa PoderData : 64\n"
     ]
    }
   ],
   "source": [
    "con.contar_pesquisas()\n",
    "\n",
    "con.contar_pesquisas_por_empresa(empresa=\"PoderData\")"
   ]
  },
  {
   "cell_type": "code",
   "execution_count": 86,
   "metadata": {
    "tags": []
   },
   "outputs": [
    {
     "name": "stdout",
     "output_type": "stream",
     "text": [
      "Pesquisas realizadas depois de 2021-05-01 :\n",
      "(680, None, '2021-05-04', 'Paraná', 'Paraná', 32, 23.5, 43.1, 1.3, 2, 95, 2508, '26', '198', '(Sem partido)', 'Jair Bolsonaro', 'Avaliação do governo federal', 'A administração do Presidente Jair Bolsonaro está sendo ótima, boa, regular, ruim ou péssima?', 'CATI', '2021-06-11 09:20:02')\n",
      "(681, None, '2021-05-07', 'IDEIA Big Data', 'IDEIA Big Data', 24, 23.8, 50, None, 2, 95, 1200, None, None, '(Sem partido)', 'Jair Bolsonaro', 'Avaliação do governo federal', 'O (a) Sr. (a) avalia o governo do presidente Jair Bolsonaro até o momento: Ótimo, Bom, Regular, Ruim ou Péssimo?', 'CATI', '2021-06-11 09:20:02')\n",
      "(683, None, '2021-05-07', 'Ipespe', 'Ipespe/XP', 35, None, 58, 7, 3.2, 95, 1000, None, None, '(Sem partido)', 'Jair Bolsonaro', 'Aprovação do governo federal', 'O(a) sr(a) aprova ou desaprova a maneira como o presidente Jair Bolsonaro vem administrando o país?', 'CATI', '2021-06-11 09:20:02')\n",
      "(682, None, '2021-05-07', 'Ipespe', 'Ipespe/XP', 29, 20, 49, 2, 3.2, 95, 1000, None, None, '(Sem partido)', 'Jair Bolsonaro', 'Avaliação do governo federal', 'Na sua opinião o presidente Jair Bolsonaro está fazendo um governo ótimo, bom, regular, ruim ou péssimo?', 'CATI', '2021-06-11 09:20:02')\n",
      "(684, None, '2021-05-09', 'Atlas', 'Atlas', 40, None, 57, 3, 2, 95, 3828, None, None, '(Sem partido)', 'Jair Bolsonaro', 'Aprovação do governo federal', 'Você aprova ou desaprova o desempenho do Presidente Jair Bolsonaro?', 'Internet', '2021-06-11 09:20:02')\n",
      "(685, None, '2021-05-09', 'Atlas', 'Atlas', 31, 15, 53, 0, 2, 95, 3828, None, None, '(Sem partido)', 'Jair Bolsonaro', 'Avaliação do governo federal', 'Como você avalia o governo do Presidente Jair Bolsonaro?', 'Internet', '2021-06-11 09:20:02')\n",
      "(686, '2021-05-11', '2021-05-12', 'Datafolha', 'Datafolha', 24, 30, 45, 2, 2, 95, 2071, None, '146', '(Sem partido)', 'Jair Bolsonaro', 'Avaliação do governo federal', 'Na sua opinião o presidente Jair Bolsonaro está fazendo um governo ótimo, bom, regular, ruim ou péssimo?', 'Presencial', '2021-06-11 09:20:02')\n",
      "(688, '2021-05-11', '2021-05-12', 'PoderData', 'PoderData/Poder360', 36, None, 54, 10, 2, 95, 2500, '27', '489', '(Sem partido)', 'Jair Bolsonaro', 'Aprovação do governo federal', 'Você aprova ou desaprova o governo do presidente Jair Bolsonaro?', 'IVR', '2021-06-11 09:20:02')\n",
      "(687, '2021-05-11', '2021-05-12', 'PoderData', 'PoderData/Poder360', 28, 19, 51, 2, 2, 95, 2500, '27', '489', '(Sem partido)', 'Jair Bolsonaro', 'Avaliação do governo federal', 'De maneira geral, como você avalia o trabalho do presidente Jair Bolsonaro? ótimo, bom, regular, ruim ou péssimo', 'IVR', '2021-06-11 09:20:02')\n",
      "(689, None, '2021-05-16', 'Vox Populi', 'Vox Populi', 22, 30, 48, 0, 2.2, 95, 2000, None, '119', '(Sem partido)', 'Jair Bolsonaro', 'Avaliação do governo federal', None, 'CATI', '2021-06-11 09:20:02')\n",
      "(691, None, '2021-05-20', 'IDEIA Big Data', 'IDEIA Big Data', 26, 22, 48, 4, 3, 95, 1200, None, None, '(Sem partido)', 'Jair Bolsonaro', 'Aprovação do governo federal', 'Você aprova ou desaprova a maneira como Jair Bolsonaro está lidando como seu trabalho como presidente? (Aprova totalmente, aprova, não aprova nem desaprova, desaprova ou desaprova totalmente)', 'CATI', '2021-06-11 09:20:02')\n",
      "(690, None, '2021-05-20', 'IDEIA Big Data', 'IDEIA Big Data', 24, 22, 50, 3, 3, 95, 1200, None, None, '(Sem partido)', 'Jair Bolsonaro', 'Avaliação do governo federal', 'O (a) Sr. (a) avalia o governo do presidente Jair Bolsonaro até o momento: Ótimo, Bom, Regular, Ruim ou Péssimo?', 'CATI', '2021-06-11 09:20:02')\n",
      "(693, '2021-05-24', '2021-05-26', 'PoderData', 'PoderData/Poder360', 35, None, 59, 6, 2, 95, 2500, '27', '462', '(Sem partido)', 'Jair Bolsonaro', 'Aprovação do governo federal', 'Você aprova ou desaprova o governo do presidente Jair Bolsonaro?', 'IVR', '2021-06-11 09:20:02')\n",
      "(692, '2021-05-24', '2021-05-26', 'PoderData', 'PoderData/Poder360', 28, 13, 55, 4, 2, 95, 2500, '27', '462', '(Sem partido)', 'Jair Bolsonaro', 'Avaliação do governo federal', 'De maneira geral, como você avalia o trabalho do presidente Jair Bolsonaro? ótimo, bom, regular, ruim ou péssimo', 'IVR', '2021-06-11 09:20:02')\n",
      "(695, None, '2021-06-04', 'Ranking Brasil', 'Ranking Brasil', 37.93, 1, 60.17, 1.9, 2.5, 95, 3000, 'BR', '163', '(Sem partido)', 'Jair Bolsonaro', 'Aprovação do governo federal', 'Como você avalia o governo do presidente Jair Bolsonaro, você diria que ele está sendo ótimo, bom, regular, ruim ou péssimo?', 'CATI', '2021-06-11 09:20:02')\n",
      "(694, None, '2021-06-04', 'Ranking Brasil', 'Ranking Brasil', 27.37, 19.03, 51, 2.6, 2.5, 95, 3000, 'BR', '163', '(Sem partido)', 'Jair Bolsonaro', 'Avaliação do governo federal', 'Como você avalia o governo do presidente Jair Bolsonaro, você diria que ele está sendo ótimo, bom, regular, ruim ou péssimo?', 'CATI', '2021-06-11 09:20:02')\n",
      "(699, '2021-06-05', '2021-06-06', 'IDEIA Big Data', 'EXAME/IDEIA', 25, 23, 50, 2, 3, 95, 1252, '27', None, '(Sem partido)', 'Jair Bolsonaro', 'Aprovação do governo federal', 'Você aprova ou desaprova a maneira como Jair Bolsonaro está lidando com seu trabalho como presidente?', 'CATI', '2021-06-11 12:20:34')\n",
      "(698, '2021-06-05', '2021-06-06', 'IDEIA Big Data', 'EXAME/IDEIA', 26, 23, 49, 2, 3, 95, 1252, '27', None, '(Sem partido)', 'Jair Bolsonaro', 'Avaliação do governo federal', 'Como você avalia o governo de Jair Bolsonaro até o momento?', 'CATI', '2021-06-11 12:17:35')\n",
      "(697, '2021-06-07', '2021-06-09', 'PoderData', 'PoderData/Poder360', 38, None, 54, 8, 2, 95, 2500, '27', '522', '(Sem partido)', 'Jair Bolsonaro', 'Aprovação do governo federal', 'Você aprova ou desaprova o governo do presidente Jair Bolsonaro?', 'IVR', '2021-06-11 09:20:02')\n",
      "(696, '2021-06-07', '2021-06-09', 'PoderData', 'PoderData/Poder360', 30, 17, 52, 1, 2, 95, 2500, '27', '522', '(Sem partido)', 'Jair Bolsonaro', 'Avaliação do governo federal', 'De maneira geral, como você avalia o trabalho do presidente Jair Bolsonaro? ótimo, bom, regular, ruim ou péssimo', 'IVR', '2021-06-11 09:20:02')\n",
      "(700, '2021-06-07', '2021-06-10', 'Ipespe', 'Ipespe/XP', 34, None, 60, 6, 3.2, 95, 1000, '24', None, '(Sem partido)', 'Jair Bolsonaro', 'Aprovação do governo federal', 'O(a) sr(a) aprova ou desaprova a maneira como o presidente Jair Bolsonaro vem administrando o país?', 'CATI', '2021-06-11 12:27:47')\n",
      "(701, '2021-06-07', '2021-06-10', 'Ipespe', 'Ipespe/XP', 26, 22, 50, 2, 3.2, 95, 1000, '24', None, '(Sem partido)', 'Jair Bolsonaro', 'Avaliação do governo federal', 'Na sua opinião o presidente Jair Bolsonaro está fazendo um governo ótimo, bom, regular, ruim ou péssimo?', 'CATI', '2021-06-11 12:27:47')\n",
      "(703, '2021-06-11', '2021-06-15', 'Paraná', 'Paraná', 42, None, 53.8, 4.3, 2, 95, 1000, '26', '156', '(Sem partido)', 'Jair Bolsonaro', 'Aprovação do governo federal', 'De uma maneira geral, o(a) sr(a) diria que aprova ou desaprova a administração do Presidente Jair Bolsonaro, até o momento?', 'Presencial', '2021-06-24 09:48:14')\n",
      "(702, '2021-06-11', '2021-06-15', 'Paraná', 'Paraná', 31.6, 21.5, 45.5, 2, 2, 95, 2040, '26', '156', '(Sem partido)', 'Jair Bolsonaro', 'Avaliação do governo federal', 'A administração do Presidente Jair Bolsonaro está sendo ótima, boa, regular, ruim ou péssima?', 'Presencial', '2021-06-24 09:48:14')\n",
      "(707, '2021-06-17', '2021-06-21', 'Ipec', 'Ipec', 30, None, 66, 4, 2, 95, 2002, '27', '141', '(Sem partido)', 'Jair Bolsonaro', 'Aprovação do governo federal', 'E o(a) sr(a) aprova ou desaprova a maneira como o presidente Jair Bolsonaro está governando o Brasil?', 'Presencial', '2021-06-24 16:25:15')\n",
      "(706, '2021-06-17', '2021-06-21', 'Ipec', 'Ipec', 23, 26, 50, 1, 2, 95, 2002, '27', '141', '(Sem partido)', 'Jair Bolsonaro', 'Avaliação do governo federal', 'Na sua avaliação, o governo do presidente Jair Bolsonaro está sendo otimo, bom, regular, ruim ou péssimo?', 'Presencial', '2021-06-24 16:25:15')\n",
      "(705, '2021-06-21', '2021-06-23', 'PoderData', 'PoderData/Poder360', 36, None, 55, 9, 2, 95, 2500, '27', '445', '(Sem partido)', 'Jair Bolsonaro', 'Aprovação do governo federal', 'Você aprova ou desaprova o governo do presidente Jair Bolsonaro?', 'IVR', '2021-06-24 10:02:41')\n",
      "(704, '2021-06-21', '2021-06-23', 'PoderData', 'PoderData/Poder360', 28, 19, 50, 3, 2, 95, 2500, '27', '445', '(Sem partido)', 'Jair Bolsonaro', 'Avaliação do governo federal', 'De maneira geral, como você avalia o trabalho do presidente Jair Bolsonaro? ótimo, bom, regular, ruim ou péssimo', 'IVR', '2021-06-24 10:02:41')\n",
      "(709, '2021-06-22', '2021-06-24', 'IDEIA Big Data', 'EXAME/IDEIA', 29, 18, 52, 1, 3, 95, 1200, '25', None, '(Sem partido)', 'Jair Bolsonaro', 'Aprovação do governo federal', 'Você aprova ou desaprova a maneira como Jair Bolsonaro está lidando com seu trabalho como presidente?', 'CATI', '2021-06-25 14:30:45')\n",
      "(708, '2021-06-22', '2021-06-24', 'IDEIA Big Data', 'EXAME/IDEIA', 25, 19, 54, 2, 3, 95, 1200, '25', None, '(Sem partido)', 'Jair Bolsonaro', 'Avaliação do governo federal', 'Como você avalia o governo de Jair Bolsonaro até o momento?', 'CATI', '2021-06-25 14:30:45')\n",
      "(714, '2021-06-29', '2021-07-01', 'IDEIA Big Data', 'EXAME/IDEIA', 24, 22, 51, 3, 3, 95, 1248, '25', None, '(Sem partido)', 'Jair Bolsonaro', 'Aprovação do governo federal', 'Você aprova ou desaprova a maneira como Jair Bolsonaro está lidando com seu trabalho como presidente?', 'CATI', '2021-07-02 11:25:17')\n",
      "(713, '2021-06-29', '2021-07-01', 'IDEIA Big Data', 'EXAME/IDEIA', 23, 21, 54, 3, 3, 95, 1248, '25', None, '(Sem partido)', 'Jair Bolsonaro', 'Avaliação do governo federal', 'Como você avalia o governo de Jair Bolsonaro até o momento?', 'CATI', '2021-07-02 11:25:17')\n",
      "(716, '2021-07-01', '2021-07-03', 'MDA', 'CNT/MDA', 33.8, None, 62.5, 3.7, 2.2, 95, 2002, '25', '137', '(Sem partido)', 'Jair Bolsonaro', 'Aprovação do governo federal', 'E o(a) sr(a) aprova ou desaprova a maneira como o presidente Jair Bolsonaro está governando o Brasil?', 'Presencial', '2021-07-05 13:10:14')\n",
      "(715, '2021-07-01', '2021-07-03', 'MDA', 'CNT/MDA', 27.7, 22.7, 48.2, 1.4, 2.2, 95, 2002, '25', '137', '(Sem partido)', 'Jair Bolsonaro', 'Avaliação do governo federal', 'Na sua avaliação, o governo do presidente Jair Bolsonaro está sendo otimo, bom, regular, ruim ou péssimo?', 'Presencial', '2021-07-05 13:10:14')\n",
      "(719, '2021-07-01', '2021-07-04', 'Quaest', 'Genial/Quaest', 29, None, 67, 4, 2.2, 95, 1500, '27', None, '(Sem partido)', 'Jair Bolsonaro', 'Aprovacao do comportamento do presidente', 'E o(a) sr(a) aprova ou desaprova o comportamento do presidente Jair Bolsonaro?', 'Presencial', '2021-07-07 10:03:31')\n",
      "(718, '2021-07-01', '2021-07-04', 'Quaest', 'Genial/Quaest', 41, None, 57, 2, 2.2, 95, 1500, '27', None, '(Sem partido)', 'Jair Bolsonaro', 'Aprovação do governo federal', 'E o(a) sr(a) aprova ou desaprova a maneira como o presidente Jair Bolsonaro está governando o Brasil?', 'Presencial', '2021-07-07 10:03:31')\n",
      "(717, '2021-07-01', '2021-07-04', 'Quaest', 'Genial/Quaest', 26, 28, 44, 2, 2.2, 95, 1500, '27', None, '(Sem partido)', 'Jair Bolsonaro', 'Avaliação do governo federal', 'Na sua avaliação, o governo do presidente Jair Bolsonaro está sendo ótimo, bom, regular, ruim ou péssimo?', 'Presencial', '2021-07-07 10:03:31')\n",
      "(723, '2021-07-05', '2021-07-06', 'PoderData', 'Poder360', 26, 17, 55, 3, 2, 95, 2500, '27', '421', '(Sem partido)', 'Jair Bolsonaro', 'Avaliação do governo federal', 'De maneira geral, como você avalia o trabalho do presidente Jair Bolsonaro? ótimo, bom, regular, ruim ou péssimo', 'IVR', '2021-07-08 22:16:21')\n",
      "(721, '2021-07-05', '2021-07-07', 'Ipespe', 'Ipespe/XP', 31, None, 63, 6, 3.2, 95, 1000, '24', None, '(Sem partido)', 'Jair Bolsonaro', 'Aprovação do governo federal', 'O(a) sr(a) aprova ou desaprova a maneira como o presidente Jair Bolsonaro vem administrando o país?', 'CATI', '2021-07-08 14:19:50')\n",
      "(720, '2021-07-05', '2021-07-07', 'Ipespe', 'Ipespe/XP', 25, 21, 52, 2, 3.2, 95, 1000, '24', None, '(Sem partido)', 'Jair Bolsonaro', 'Avaliação do governo federal', 'Na sua opinião o presidente Jair Bolsonaro está fazendo um governo ótimo, bom, regular, ruim ou péssimo?', 'CATI', '2021-07-08 14:19:50')\n",
      "(724, '2021-07-05', '2021-07-07', 'PoderData', 'Poder360', 33, None, 61, 6, 2, 95, 2500, '27', '421', '(Sem partido)', 'Jair Bolsonaro', 'Aprovação do governo federal', 'Você aprova ou desaprova o governo do presidente Jair Bolsonaro?', 'IVR', '2021-07-08 22:16:21')\n",
      "(730, '2021-07-03', '2021-07-07', 'Ranking Brasil', 'Ranking Brasil', 34.2, None, 63.1, 2.7, 2.5, 95, 3000, '27', '163', '(Sem partido)', 'Jair Bolsonaro', 'Aprovação do governo federal', 'Como você avalia o governo do presidente Jair Bolsonaro, você diria que ele está sendo ótimo, bom, regular, ruim ou péssimo?', 'CATI', '2021-07-16 13:20:26')\n",
      "(729, '2021-07-03', '2021-07-07', 'Ranking Brasil', 'Ranking Brasil', 26, 20.2, 51.1, 2.7, 2.5, 95, 3000, '27', '163', '(Sem partido)', 'Jair Bolsonaro', 'Avaliação do governo federal', 'Como você avalia o governo do presidente Jair Bolsonaro, você diria que ele está sendo ótimo, bom, regular, ruim ou péssimo?', 'CATI', '2021-07-16 13:20:26')\n",
      "(722, '2021-07-07', '2021-07-08', 'Datafolha', 'Datafolha', 24, 24, 51, 1, 2, 95, 2074, '24', '146', '(Sem partido)', 'Jair Bolsonaro', 'Avaliação do governo federal', 'Na sua opinião o presidente Jair Bolsonaro está fazendo um governo ótimo, bom, regular, ruim ou péssimo?', 'Presencial', '2021-07-08 17:31:48')\n",
      "(726, '2021-07-05', '2021-07-08', 'IDEIA Big Data', 'EXAME/IDEIA', 23, 19, 57, 1, 3, 95, 1200, '25', None, '(Sem partido)', 'Jair Bolsonaro', 'Aprovação do governo federal', 'Você aprova ou desaprova a maneira como Jair Bolsonaro está lidando com seu trabalho como presidente?', 'CATI', '2021-07-08 22:20:17')\n",
      "(725, '2021-07-05', '2021-07-08', 'IDEIA Big Data', 'EXAME/IDEIA', 20, 22, 57, 1, 3, 95, 1200, '25', None, '(Sem partido)', 'Jair Bolsonaro', 'Avaliação do governo federal', 'Como você avalia o governo de Jair Bolsonaro até o momento?', 'CATI', '2021-07-08 22:20:17')\n",
      "(728, '2021-07-12', '2021-07-15', 'IDEIA Big Data', 'EXAME/IDEIA', 26, 21, 48, 1, 3, 95, 1200, '25', None, '(Sem partido)', 'Jair Bolsonaro', 'Aprovação do governo federal', 'Você aprova ou desaprova a maneira como Jair Bolsonaro está lidando com seu trabalho como presidente?', 'CATI', '2021-07-16 13:10:09')\n",
      "(727, '2021-07-12', '2021-07-15', 'IDEIA Big Data', 'EXAME/IDEIA', 26, 20, 51, 1, 3, 95, 1200, '25', None, '(Sem partido)', 'Jair Bolsonaro', 'Avaliação do governo federal', 'Como você avalia o governo de Jair Bolsonaro até o momento?', 'CATI', '2021-07-16 13:10:09')\n",
      "(732, '2021-07-19', '2021-07-21', 'PoderData', 'Poder360', 32, None, 62, 6, 2, 95, 2500, '27', '427', '(Sem partido)', 'Jair Bolsonaro', 'Aprovação do governo federal', 'Você aprova ou desaprova o governo do presidente Jair Bolsonaro?', 'IVR', '2021-07-21 19:12:21')\n",
      "(731, '2021-07-19', '2021-07-21', 'PoderData', 'Poder360', 26, 15, 56, 3, 2, 95, 2500, '27', '427', '(Sem partido)', 'Jair Bolsonaro', 'Avaliação do governo federal', 'De maneira geral, como você avalia o trabalho do presidente Jair Bolsonaro? ótimo, bom, regular, ruim ou péssimo', 'IVR', '2021-07-21 19:12:21')\n",
      "(734, '2021-07-24', '2021-07-28', 'Paraná', 'Paraná/PSL', 40, None, 55.9, 4.1, 2, 95, 2010, '26', '155', '(Sem partido)', 'Jair Bolsonaro', 'Aprovação do governo federal', 'De uma maneira geral, o(a) sr(a) diria que aprova ou desaprova a administração do Presidente Jair Bolsonaro, até o momento?', 'Presencial', '2021-07-29 21:58:44')\n",
      "(733, '2021-07-24', '2021-07-28', 'Paraná', 'Paraná/PSL', 30.4, 21.3, 47.5, 0.7, 2, 95, 2010, '26', '155', '(Sem partido)', 'Jair Bolsonaro', 'Avaliação do governo federal', 'A administração do Presidente Jair Bolsonaro está sendo ótima, boa, regular, ruim ou péssima?', 'Presencial', '2021-07-29 21:58:44')\n"
     ]
    }
   ],
   "source": [
    "con.localizar_pesquisa_por_data(data='2021-05-01')"
   ]
  },
  {
   "cell_type": "code",
   "execution_count": null,
   "metadata": {},
   "outputs": [],
   "source": []
  },
  {
   "cell_type": "markdown",
   "metadata": {},
   "source": [
    "## Inserir dados"
   ]
  },
  {
   "cell_type": "code",
   "execution_count": 15,
   "metadata": {},
   "outputs": [
    {
     "name": "stdout",
     "output_type": "stream",
     "text": [
      "Total de pesquisas registradas: 734\n"
     ]
    }
   ],
   "source": [
    "con.contar_pesquisas()"
   ]
  },
  {
   "cell_type": "code",
   "execution_count": null,
   "metadata": {},
   "outputs": [],
   "source": []
  },
  {
   "cell_type": "markdown",
   "metadata": {},
   "source": [
    "## Inserir dados de popularidade "
   ]
  },
  {
   "cell_type": "markdown",
   "metadata": {},
   "source": [
    "## Insituto Datafolha"
   ]
  },
  {
   "cell_type": "code",
   "execution_count": 85,
   "metadata": {},
   "outputs": [
    {
     "name": "stdout",
     "output_type": "stream",
     "text": [
      "Banco: pollingpoint.db\n",
      "SQLite version: 3.33.0\n"
     ]
    }
   ],
   "source": [
    "con = AprovacaoDb()"
   ]
  },
  {
   "cell_type": "code",
   "execution_count": 29,
   "metadata": {},
   "outputs": [],
   "source": [
    "datafolha = [('2021-07-07', '2021-07-08', 'Datafolha', 'Datafolha', 24, 24, 51, 1, 2, 95, 2074, 24, 146,'(Sem partido)', 'Jair Bolsonaro', 'Avaliação do governo federal', 'Na sua opinião o presidente Jair Bolsonaro está fazendo um governo ótimo, bom, regular, ruim ou péssimo?', 'Presencial'),\n",
    "        ]"
   ]
  },
  {
   "cell_type": "code",
   "execution_count": 30,
   "metadata": {},
   "outputs": [
    {
     "name": "stdout",
     "output_type": "stream",
     "text": [
      "Dados inseridos da lista com sucesso: 1 registros.\n"
     ]
    }
   ],
   "source": [
    "# Executar \n",
    "con.inserir_de_lista(lista = datafolha)"
   ]
  },
  {
   "cell_type": "code",
   "execution_count": 31,
   "metadata": {},
   "outputs": [
    {
     "name": "stdout",
     "output_type": "stream",
     "text": [
      "Total de pesquisas registradas: 722\n"
     ]
    }
   ],
   "source": [
    "con.contar_pesquisas()"
   ]
  },
  {
   "cell_type": "code",
   "execution_count": 32,
   "metadata": {},
   "outputs": [
    {
     "name": "stdout",
     "output_type": "stream",
     "text": [
      "Backup realizado com sucesso.\n",
      "Salvo como sql/pollingpoint_bkp.sql\n",
      "Conexão fechada.\n"
     ]
    }
   ],
   "source": [
    "con.backup()\n",
    "# con.importar_dados()\n",
    "\n",
    "con.fechar_conexao() "
   ]
  },
  {
   "cell_type": "markdown",
   "metadata": {},
   "source": [
    "## Ipespe "
   ]
  },
  {
   "cell_type": "code",
   "execution_count": 2,
   "metadata": {},
   "outputs": [
    {
     "name": "stdout",
     "output_type": "stream",
     "text": [
      "Banco: pollingpoint.db\n",
      "SQLite version: 3.36.0\n"
     ]
    }
   ],
   "source": [
    "con = AprovacaoDb()\n"
   ]
  },
  {
   "cell_type": "code",
   "execution_count": 3,
   "metadata": {},
   "outputs": [],
   "source": [
    "\n",
    "Ipespe = [('2021-08-11', '2021-08-13', 'Ipespe', 'Ipespe/XP', 23, 20, 54, 2, 3.2, 95, 1000, 24, None,'(Sem partido)', 'Jair Bolsonaro', 'Avaliação do governo federal', 'Na sua opinião o presidente Jair Bolsonaro está fazendo um governo ótimo, bom, regular, ruim ou péssimo?', 'CATI'),\n",
    "        ('2021-08-11', '2021-08-13', 'Ipespe', 'Ipespe/XP', 29, None, 63, 8, 3.2, 95, 1000, 24, None,'(Sem partido)', 'Jair Bolsonaro', 'Aprovacao do governo federal', 'O(a) sr(a) aprova ou desaprova a maneira como o presidente Jair Bolsonaro vem administrando o país?', 'CATI'),\n",
    "        ]"
   ]
  },
  {
   "cell_type": "code",
   "execution_count": 4,
   "metadata": {},
   "outputs": [
    {
     "name": "stdout",
     "output_type": "stream",
     "text": [
      "Dados inseridos da lista com sucesso: 2 registros.\n"
     ]
    }
   ],
   "source": [
    "# Executar \n",
    "con.inserir_de_lista(lista = Ipespe)"
   ]
  },
  {
   "cell_type": "code",
   "execution_count": 5,
   "metadata": {},
   "outputs": [
    {
     "name": "stdout",
     "output_type": "stream",
     "text": [
      "Total de pesquisas registradas: 1036\n"
     ]
    }
   ],
   "source": [
    "con.contar_pesquisas()"
   ]
  },
  {
   "cell_type": "code",
   "execution_count": 6,
   "metadata": {},
   "outputs": [
    {
     "name": "stdout",
     "output_type": "stream",
     "text": [
      "Backup realizado com sucesso.\n",
      "Salvo como sql/pollingpoint_bkp.sql\n",
      "Conexão fechada.\n"
     ]
    }
   ],
   "source": [
    "con.backup()\n",
    "# con.importar_dados()\n",
    "\n",
    "con.fechar_conexao() \n"
   ]
  },
  {
   "cell_type": "markdown",
   "metadata": {},
   "source": [
    "## Paraná Pesquisas"
   ]
  },
  {
   "cell_type": "code",
   "execution_count": 2,
   "metadata": {},
   "outputs": [
    {
     "name": "stdout",
     "output_type": "stream",
     "text": [
      "Banco: pollingpoint.db\n",
      "SQLite version: 3.33.0\n"
     ]
    }
   ],
   "source": [
    "con = AprovacaoDb()"
   ]
  },
  {
   "cell_type": "code",
   "execution_count": 3,
   "metadata": {},
   "outputs": [],
   "source": [
    "\n",
    "Parana = [('2021-07-24', '2021-07-28', 'Paraná', 'Paraná/PSL', 30.4, 21.3, 47.5, 0.7, 2, 95, 2010, 26, 155,'(Sem partido)', 'Jair Bolsonaro', 'Avaliação do governo federal', 'A administração do Presidente Jair Bolsonaro está sendo ótima, boa, regular, ruim ou péssima?', 'Presencial'),\n",
    "        ('2021-07-24', '2021-07-28', 'Paraná', 'Paraná/PSL', 40, None, 55.9, 4.1, 2, 95, 2010, 26, 155,'(Sem partido)', 'Jair Bolsonaro', 'Aprovacao do governo federal', 'De uma maneira geral, o(a) sr(a) diria que aprova ou desaprova a administração do Presidente Jair Bolsonaro, até o momento?', 'Presencial'),]"
   ]
  },
  {
   "cell_type": "code",
   "execution_count": 4,
   "metadata": {},
   "outputs": [
    {
     "name": "stdout",
     "output_type": "stream",
     "text": [
      "Dados inseridos da lista com sucesso: 2 registros.\n"
     ]
    }
   ],
   "source": [
    "con.inserir_de_lista(lista = Parana)"
   ]
  },
  {
   "cell_type": "code",
   "execution_count": 5,
   "metadata": {},
   "outputs": [
    {
     "name": "stdout",
     "output_type": "stream",
     "text": [
      "Total de pesquisas registradas: 734\n"
     ]
    }
   ],
   "source": [
    "con.contar_pesquisas()"
   ]
  },
  {
   "cell_type": "code",
   "execution_count": 6,
   "metadata": {},
   "outputs": [
    {
     "name": "stdout",
     "output_type": "stream",
     "text": [
      "Backup realizado com sucesso.\n",
      "Salvo como sql/pollingpoint_bkp.sql\n",
      "Conexão fechada.\n"
     ]
    }
   ],
   "source": [
    "con.backup()\n",
    "# con.importar_dados()\n",
    "\n",
    "con.fechar_conexao() "
   ]
  },
  {
   "cell_type": "markdown",
   "metadata": {},
   "source": [
    "## PoderData ou Poder360"
   ]
  },
  {
   "cell_type": "code",
   "execution_count": 7,
   "metadata": {},
   "outputs": [
    {
     "name": "stdout",
     "output_type": "stream",
     "text": [
      "Banco: pollingpoint.db\n",
      "SQLite version: 3.33.0\n"
     ]
    }
   ],
   "source": [
    "con = AprovacaoDb()"
   ]
  },
  {
   "cell_type": "code",
   "execution_count": 5,
   "metadata": {},
   "outputs": [],
   "source": [
    "PoderData = [('2021-08-02', '2021-08-04', 'PoderData', 'Poder360', 29, 11, 55, 5, 2, 95, 2500, 27, 491,'(Sem partido)', 'Jair Bolsonaro', 'Avaliação do governo federal', 'De maneira geral, como você avalia o trabalho do presidente Jair Bolsonaro? ótimo, bom, regular, ruim ou péssimo', 'IVR'),\n",
    "        ('2021-08-02', '2021-08-04', 'PoderData', 'Poder360', 34, None, 58, 8, 2, 95, 2500, 27, 491,'(Sem partido)', 'Jair Bolsonaro', 'Aprovacao do governo federal', 'Você aprova ou desaprova o governo do presidente Jair Bolsonaro?', 'IVR'),]"
   ]
  },
  {
   "cell_type": "code",
   "execution_count": 6,
   "metadata": {},
   "outputs": [
    {
     "name": "stdout",
     "output_type": "stream",
     "text": [
      "Dados inseridos da lista com sucesso: 2 registros.\n"
     ]
    }
   ],
   "source": [
    "con.inserir_de_lista(lista = PoderData)"
   ]
  },
  {
   "cell_type": "code",
   "execution_count": 8,
   "metadata": {},
   "outputs": [
    {
     "name": "stdout",
     "output_type": "stream",
     "text": [
      "Total de pesquisas registradas: 1034\n"
     ]
    }
   ],
   "source": [
    "con.contar_pesquisas()"
   ]
  },
  {
   "cell_type": "code",
   "execution_count": 9,
   "metadata": {},
   "outputs": [
    {
     "name": "stdout",
     "output_type": "stream",
     "text": [
      "Backup realizado com sucesso.\n",
      "Salvo como sql/pollingpoint_bkp.sql\n",
      "Conexão fechada.\n"
     ]
    }
   ],
   "source": [
    "con.backup()\n",
    "# con.importar_dados()\n",
    "\n",
    "con.fechar_conexao() "
   ]
  },
  {
   "cell_type": "markdown",
   "metadata": {},
   "source": [
    "## Instituto IPEC"
   ]
  },
  {
   "cell_type": "code",
   "execution_count": 2,
   "metadata": {},
   "outputs": [
    {
     "name": "stdout",
     "output_type": "stream",
     "text": [
      "Banco: pollingpoint.db\n",
      "SQLite version: 3.34.0\n"
     ]
    }
   ],
   "source": [
    "con = AprovacaoDb()"
   ]
  },
  {
   "cell_type": "code",
   "execution_count": 3,
   "metadata": {},
   "outputs": [],
   "source": [
    "Ipec = [('2021-06-17', '2021-06-21', 'Ipec', 'Ipec', 23, 26, 50, 1, 2, 95, 2002, 27, 141,'(Sem partido)', 'Jair Bolsonaro', 'Avaliação do governo federal', 'Na sua avaliação, o governo do presidente Jair Bolsonaro está sendo otimo, bom, regular, ruim ou péssimo?', 'Presencial'),\n",
    "        ('2021-06-17', '2021-06-21', 'Ipec', 'Ipec', 30, None, 66, 4, 2, 95, 2002, 27, 141,'(Sem partido)', 'Jair Bolsonaro', 'Aprovacao do governo federal', 'E o(a) sr(a) aprova ou desaprova a maneira como o presidente Jair Bolsonaro está governando o Brasil?', 'Presencial'),]"
   ]
  },
  {
   "cell_type": "code",
   "execution_count": 5,
   "metadata": {},
   "outputs": [
    {
     "name": "stdout",
     "output_type": "stream",
     "text": [
      "Dados inseridos da lista com sucesso: 2 registros.\n"
     ]
    }
   ],
   "source": [
    "con.inserir_de_lista(lista = Ipec)"
   ]
  },
  {
   "cell_type": "code",
   "execution_count": 7,
   "metadata": {},
   "outputs": [
    {
     "name": "stdout",
     "output_type": "stream",
     "text": [
      "Backup realizado com sucesso.\n",
      "Salvo como sql/pollingpoint_bkp.sql\n",
      "Conexão fechada.\n"
     ]
    }
   ],
   "source": [
    "con.backup()\n",
    "# con.importar_dados()\n",
    "\n",
    "con.fechar_conexao() "
   ]
  },
  {
   "cell_type": "markdown",
   "metadata": {},
   "source": [
    "## Ideia Big Data"
   ]
  },
  {
   "cell_type": "code",
   "execution_count": 14,
   "metadata": {},
   "outputs": [
    {
     "name": "stdout",
     "output_type": "stream",
     "text": [
      "Banco: pollingpoint.db\n",
      "SQLite version: 3.33.0\n"
     ]
    }
   ],
   "source": [
    "con = AprovacaoDb()"
   ]
  },
  {
   "cell_type": "code",
   "execution_count": 15,
   "metadata": {},
   "outputs": [],
   "source": [
    "Ideia = [('2021-07-12', '2021-07-15', 'IDEIA Big Data', 'EXAME/IDEIA', 26, 20, 51, 1, 3, 95, 1200, 25, None,'(Sem partido)', 'Jair Bolsonaro', 'Avaliação do governo federal', 'Como você avalia o governo de Jair Bolsonaro até o momento?', 'CATI'),\n",
    "        ('2021-07-12', '2021-07-15', 'IDEIA Big Data', 'EXAME/IDEIA', 26, 21, 48, 1, 3, 95, 1200, 25, None,'(Sem partido)', 'Jair Bolsonaro', 'Aprovacao do governo federal', 'Você aprova ou desaprova a maneira como Jair Bolsonaro está lidando com seu trabalho como presidente?', 'CATI'),]"
   ]
  },
  {
   "cell_type": "code",
   "execution_count": 16,
   "metadata": {},
   "outputs": [
    {
     "name": "stdout",
     "output_type": "stream",
     "text": [
      "Dados inseridos da lista com sucesso: 2 registros.\n"
     ]
    }
   ],
   "source": [
    "con.inserir_de_lista(lista = Ideia)"
   ]
  },
  {
   "cell_type": "code",
   "execution_count": 17,
   "metadata": {},
   "outputs": [
    {
     "name": "stdout",
     "output_type": "stream",
     "text": [
      "Total de pesquisas registradas: 728\n"
     ]
    }
   ],
   "source": [
    "con.contar_pesquisas()"
   ]
  },
  {
   "cell_type": "code",
   "execution_count": 18,
   "metadata": {},
   "outputs": [
    {
     "name": "stdout",
     "output_type": "stream",
     "text": [
      "Backup realizado com sucesso.\n",
      "Salvo como sql/pollingpoint_bkp.sql\n",
      "Conexão fechada.\n"
     ]
    }
   ],
   "source": [
    "con.backup()\n",
    "# con.importar_dados()\n",
    "\n",
    "con.fechar_conexao() "
   ]
  },
  {
   "cell_type": "code",
   "execution_count": null,
   "metadata": {},
   "outputs": [],
   "source": []
  },
  {
   "cell_type": "markdown",
   "metadata": {},
   "source": [
    "# Atlas "
   ]
  },
  {
   "cell_type": "code",
   "execution_count": null,
   "metadata": {},
   "outputs": [],
   "source": [
    "con = AprovacaoDb()\n",
    "\n",
    "con.contar_pesquisas()"
   ]
  },
  {
   "cell_type": "code",
   "execution_count": 87,
   "metadata": {},
   "outputs": [],
   "source": [
    "Atlas = [('2021-07-26', '2021-07-29', 'Atlas', 'Atlas', 25.7, 15.4, 58.8, 0, 3, 95, 2884, None, None,'(Sem partido)', 'Jair Bolsonaro', 'Avaliação do governo federal', 'Como você avalia o governo do Presidente Jair Bolsonaro?', 'Internet'),\n",
    "        ('2021-07-26', '2021-07-29', 'Atlas', 'Atlas', 35.5, None, 62.3, 2.2, 3, 95, 2884, None, None,'(Sem partido)', 'Jair Bolsonaro', 'Aprovacao do governo federal', 'Você aprova ou desaprova o desempenho do presidente Jair Bolsonaro?', 'Internet'),]"
   ]
  },
  {
   "cell_type": "code",
   "execution_count": 88,
   "metadata": {},
   "outputs": [
    {
     "name": "stdout",
     "output_type": "stream",
     "text": [
      "Dados inseridos da lista com sucesso: 2 registros.\n"
     ]
    }
   ],
   "source": [
    "con.inserir_de_lista(lista = Atlas)"
   ]
  },
  {
   "cell_type": "code",
   "execution_count": 89,
   "metadata": {},
   "outputs": [
    {
     "name": "stdout",
     "output_type": "stream",
     "text": [
      "Total de pesquisas registradas: 855\n"
     ]
    }
   ],
   "source": [
    "con.contar_pesquisas()"
   ]
  },
  {
   "cell_type": "code",
   "execution_count": null,
   "metadata": {},
   "outputs": [],
   "source": [
    "con.backup()\n",
    "# con.importar_dados()\n",
    "\n",
    "con.fechar_conexao() "
   ]
  },
  {
   "cell_type": "code",
   "execution_count": null,
   "metadata": {},
   "outputs": [],
   "source": []
  },
  {
   "cell_type": "markdown",
   "metadata": {},
   "source": [
    "## Quaest"
   ]
  },
  {
   "cell_type": "code",
   "execution_count": 153,
   "metadata": {},
   "outputs": [
    {
     "name": "stdout",
     "output_type": "stream",
     "text": [
      "Banco: pollingpoint.db\n",
      "SQLite version: 3.33.0\n",
      "Total de pesquisas registradas: 1029\n"
     ]
    }
   ],
   "source": [
    "con = AprovacaoDb()\n",
    "\n",
    "con.contar_pesquisas()"
   ]
  },
  {
   "cell_type": "code",
   "execution_count": 154,
   "metadata": {},
   "outputs": [
    {
     "name": "stdout",
     "output_type": "stream",
     "text": [
      "Total de pesquisas da empresa Quaest : 11\n"
     ]
    }
   ],
   "source": [
    "con.contar_pesquisas_por_empresa(empresa=\"Quaest\")"
   ]
  },
  {
   "cell_type": "code",
   "execution_count": 155,
   "metadata": {},
   "outputs": [],
   "source": [
    "Quaest = [('2021-07-29', '2021-08-01', 'Quaest', 'Genial/Quaest', 26, 27, 44, 3, 3, 95, 1500, 27, None,'(Sem partido)', 'Jair Bolsonaro', 'Avaliação do governo federal', 'Na sua avaliação, o governo do presidente Jair Bolsonaro está sendo ótimo, bom, regular, ruim ou péssimo?', 'Presencial'),\n",
    "        ('2021-07-29', '2021-08-01', 'Quaest', 'Genial/Quaest', 41, None, 56, 3, 3, 95, 1500, 27, None,'(Sem partido)', 'Jair Bolsonaro', 'Aprovacao do governo federal', 'E o(a) sr(a) aprova ou desaprova a maneira como o presidente Jair Bolsonaro está governando o Brasil?', 'Presencial'),\n",
    "        ('2021-07-29', '2021-08-01', 'Quaest', 'Genial/Quaest', 29, None, 66, 5, 3, 95, 1500, 27, None,'(Sem partido)', 'Jair Bolsonaro', 'Aprovacao do comportamento do presidente', 'E o(a) sr(a) aprova ou desaprova o comportamento do presidente Jair Bolsonaro?', 'Presencial'),]"
   ]
  },
  {
   "cell_type": "code",
   "execution_count": 156,
   "metadata": {},
   "outputs": [
    {
     "name": "stdout",
     "output_type": "stream",
     "text": [
      "Dados inseridos da lista com sucesso: 3 registros.\n"
     ]
    }
   ],
   "source": [
    "con.inserir_de_lista(lista = Quaest)"
   ]
  },
  {
   "cell_type": "code",
   "execution_count": 157,
   "metadata": {},
   "outputs": [
    {
     "name": "stdout",
     "output_type": "stream",
     "text": [
      "Backup realizado com sucesso.\n",
      "Salvo como sql/pollingpoint_bkp.sql\n",
      "Conexão fechada.\n"
     ]
    }
   ],
   "source": [
    "con.backup()\n",
    "# con.importar_dados()\n",
    "\n",
    "con.fechar_conexao() "
   ]
  },
  {
   "cell_type": "markdown",
   "metadata": {},
   "source": [
    "## Intituto Ranking Brasil"
   ]
  },
  {
   "cell_type": "code",
   "execution_count": 19,
   "metadata": {},
   "outputs": [
    {
     "name": "stdout",
     "output_type": "stream",
     "text": [
      "Banco: pollingpoint.db\n",
      "SQLite version: 3.33.0\n",
      "Total de pesquisas registradas: 728\n"
     ]
    }
   ],
   "source": [
    "con = AprovacaoDb()\n",
    "\n",
    "con.contar_pesquisas()"
   ]
  },
  {
   "cell_type": "code",
   "execution_count": 21,
   "metadata": {},
   "outputs": [
    {
     "name": "stdout",
     "output_type": "stream",
     "text": [
      "Total de pesquisas da empresa Ranking Brasil : 8\n"
     ]
    }
   ],
   "source": [
    "con.contar_pesquisas_por_empresa(empresa=\"Ranking Brasil\")"
   ]
  },
  {
   "cell_type": "code",
   "execution_count": 22,
   "metadata": {},
   "outputs": [],
   "source": [
    "Ranking = [('2021-07-03', '2021-07-07', 'Ranking Brasil', 'Ranking Brasil', 26, 20.2, 51.1, 2.7, 2.5, 95, 3000, 27, '163', '(Sem partido)', 'Jair Bolsonaro', 'Avaliação do governo federal', 'Como você avalia o governo do presidente Jair Bolsonaro, você diria que ele está sendo ótimo, bom, regular, ruim ou péssimo?', 'CATI'),\n",
    "           ('2021-07-03', '2021-07-07', 'Ranking Brasil', 'Ranking Brasil', 34.20, None, 63.1, 2.7, 2.5, 95, 3000, 27, '163', '(Sem partido)', 'Jair Bolsonaro', 'Aprovação do governo federal', 'Como você avalia o governo do presidente Jair Bolsonaro, você diria que ele está sendo ótimo, bom, regular, ruim ou péssimo?', 'CATI'),]"
   ]
  },
  {
   "cell_type": "code",
   "execution_count": 23,
   "metadata": {},
   "outputs": [
    {
     "name": "stdout",
     "output_type": "stream",
     "text": [
      "Dados inseridos da lista com sucesso: 2 registros.\n"
     ]
    }
   ],
   "source": [
    "con.inserir_de_lista(lista = Ranking)"
   ]
  },
  {
   "cell_type": "code",
   "execution_count": 24,
   "metadata": {},
   "outputs": [
    {
     "name": "stdout",
     "output_type": "stream",
     "text": [
      "Backup realizado com sucesso.\n",
      "Salvo como sql/pollingpoint_bkp.sql\n",
      "Conexão fechada.\n"
     ]
    }
   ],
   "source": [
    "con.backup()\n",
    "# con.importar_dados()\n",
    "\n",
    "con.fechar_conexao() "
   ]
  },
  {
   "cell_type": "markdown",
   "metadata": {},
   "source": [
    "## MDA"
   ]
  },
  {
   "cell_type": "code",
   "execution_count": 4,
   "metadata": {},
   "outputs": [
    {
     "name": "stdout",
     "output_type": "stream",
     "text": [
      "Banco: pollingpoint.db\n",
      "SQLite version: 3.34.0\n",
      "Total de pesquisas registradas: 714\n"
     ]
    }
   ],
   "source": [
    "con = AprovacaoDb()\n",
    "\n",
    "con.contar_pesquisas()"
   ]
  },
  {
   "cell_type": "code",
   "execution_count": null,
   "metadata": {},
   "outputs": [],
   "source": [
    "con.contar_pesquisas_por_empresa(empresa=\"MDA\")"
   ]
  },
  {
   "cell_type": "code",
   "execution_count": 13,
   "metadata": {},
   "outputs": [],
   "source": [
    "MDA = [('2021-07-01', '2021-07-03', 'MDA', 'CNT/MDA', 27.7, 22.7, 48.2, 1.4, 2.2, 95, 2002, 25, 137,'(Sem partido)', 'Jair Bolsonaro', 'Avaliação do governo federal', 'Na sua avaliação, o governo do presidente Jair Bolsonaro está sendo otimo, bom, regular, ruim ou péssimo?', 'Presencial'),\n",
    "        ('2021-07-01', '2021-07-03', 'MDA', 'CNT/MDA', 33.8, None, 62.5, 3.7, 2.2, 95, 2002, 25, 137,'(Sem partido)', 'Jair Bolsonaro', 'Aprovação do governo federal', 'E o(a) sr(a) aprova ou desaprova a maneira como o presidente Jair Bolsonaro está governando o Brasil?', 'Presencial'),]"
   ]
  },
  {
   "cell_type": "code",
   "execution_count": 14,
   "metadata": {},
   "outputs": [
    {
     "name": "stdout",
     "output_type": "stream",
     "text": [
      "Dados inseridos da lista com sucesso: 2 registros.\n"
     ]
    }
   ],
   "source": [
    "con.inserir_de_lista(lista = MDA)"
   ]
  },
  {
   "cell_type": "code",
   "execution_count": 15,
   "metadata": {},
   "outputs": [
    {
     "name": "stdout",
     "output_type": "stream",
     "text": [
      "Backup realizado com sucesso.\n",
      "Salvo como sql/pollingpoint_bkp.sql\n",
      "Conexão fechada.\n"
     ]
    }
   ],
   "source": [
    "con.backup()\n",
    "# con.importar_dados()\n",
    "\n",
    "con.fechar_conexao() "
   ]
  },
  {
   "cell_type": "code",
   "execution_count": null,
   "metadata": {},
   "outputs": [],
   "source": []
  },
  {
   "cell_type": "markdown",
   "metadata": {},
   "source": [
    "## Modal/Futura"
   ]
  },
  {
   "cell_type": "code",
   "execution_count": null,
   "metadata": {},
   "outputs": [],
   "source": [
    "con = AprovacaoDb()\n",
    "\n",
    "con.contar_pesquisas()"
   ]
  },
  {
   "cell_type": "code",
   "execution_count": null,
   "metadata": {},
   "outputs": [],
   "source": [
    "Futura = [('2021-07-23', '2021-07-26', 'Futura', 'Modalmais/Futura', 27.7, 22.7, 48.2, 1.4, 2.2, 95, 2006, 25, 137,'(Sem partido)', 'Jair Bolsonaro', 'Avaliação do governo federal', 'Na sua avaliação, o governo do presidente Jair Bolsonaro está sendo otimo, bom, regular, ruim ou péssimo?', 'CATI'),\n",
    "        ('2021-07-01', '2021-07-03', 'Futura', 'Modalmais/Futura', 33.8, None, 62.5, 3.7, 2.2, 95, 2006, 25, 137,'(Sem partido)', 'Jair Bolsonaro', 'Aprovacao do governo federal', 'E o(a) sr(a) aprova ou desaprova a maneira como o presidente Jair Bolsonaro está governando o Brasil?', 'CATI'),]"
   ]
  },
  {
   "cell_type": "code",
   "execution_count": null,
   "metadata": {},
   "outputs": [],
   "source": [
    "con.inserir_de_lista(lista = Futura)"
   ]
  },
  {
   "cell_type": "code",
   "execution_count": null,
   "metadata": {},
   "outputs": [],
   "source": [
    "con.backup()\n",
    "# con.importar_dados()\n",
    "\n",
    "con.fechar_conexao() "
   ]
  },
  {
   "cell_type": "code",
   "execution_count": null,
   "metadata": {},
   "outputs": [],
   "source": []
  },
  {
   "cell_type": "markdown",
   "metadata": {},
   "source": [
    "## INCT"
   ]
  },
  {
   "cell_type": "code",
   "execution_count": 147,
   "metadata": {},
   "outputs": [
    {
     "name": "stdout",
     "output_type": "stream",
     "text": [
      "Banco: pollingpoint.db\n",
      "SQLite version: 3.33.0\n",
      "Total de pesquisas registradas: 1026\n"
     ]
    }
   ],
   "source": [
    "con = AprovacaoDb()\n",
    "\n",
    "con.contar_pesquisas()"
   ]
  },
  {
   "cell_type": "code",
   "execution_count": 3,
   "metadata": {},
   "outputs": [],
   "source": [
    "INCT_IDDC = [('2021-04-20', '2021-04-27', 'INCT/IDDC', 'A Cara da Democracia', 22.4, 27, 49.5, 1, 2.2, 95, 2031, 27, 151,'(Sem partido)', 'Jair Bolsonaro', 'Avaliação do governo federal', 'Na sua avaliação, o Governo do Presidente Jair Bolsonaro está sendo: ótimo, bom, regular, ruim ou péssimo?', 'Presencial'),\n",
    "('2020-05-30', '2020-06-05', 'INCT/IDDC', 'A Cara da Democracia', 24.2, 25.5, 50.3, 0, 3.1, 95, 2009, 27, None,'(Sem partido)', 'Jair Bolsonaro', 'Avaliação do governo federal', 'Na sua avaliação, o Governo do Presidente Jair Bolsonaro está sendo: ótimo, bom, regular, ruim ou péssimo?', 'CATI'),\n",
    "('2019-11-08', '2019-11-16', 'INCT/IDDC', 'A Cara da Democracia', 25, 24, 49.5, 2.5, 2.2, 95, 2009, 27, 151,'(Sem partido)', 'Jair Bolsonaro', 'Avaliação do governo federal', 'Na sua avaliação, o Governo do Presidente Jair Bolsonaro está sendo: ótimo, bom, regular, ruim ou péssimo?', 'Presencial'),\n",
    "]"
   ]
  },
  {
   "cell_type": "code",
   "execution_count": 4,
   "metadata": {},
   "outputs": [
    {
     "name": "stdout",
     "output_type": "stream",
     "text": [
      "Dados inseridos da lista com sucesso: 3 registros.\n"
     ]
    }
   ],
   "source": [
    "con.inserir_de_lista(lista = INCT_IDDC)"
   ]
  },
  {
   "cell_type": "code",
   "execution_count": 84,
   "metadata": {},
   "outputs": [
    {
     "name": "stdout",
     "output_type": "stream",
     "text": [
      "Backup realizado com sucesso.\n",
      "Salvo como sql/pollingpoint_bkp.sql\n",
      "Conexão fechada.\n"
     ]
    }
   ],
   "source": [
    "con.backup()\n",
    "# con.importar_dados()\n",
    "\n",
    "con.fechar_conexao() "
   ]
  },
  {
   "cell_type": "code",
   "execution_count": null,
   "metadata": {},
   "outputs": [],
   "source": []
  },
  {
   "cell_type": "code",
   "execution_count": null,
   "metadata": {},
   "outputs": [],
   "source": []
  },
  {
   "cell_type": "code",
   "execution_count": 81,
   "metadata": {},
   "outputs": [],
   "source": [
    "Voxpopuli = [('1996-05-11', '1996-05-14', 'Vox Populi', 'Vox Populi/CNT', 26, 45, 26, 3, 3, 95, 2000, 24, 136,'PSDB', 'Fernando Henrique I', 'Avaliação do governo federal', 'Como você avalia o desempenho do presidente Fernando Henrique Cardoso à frente do governo: está sendo ótimo, bom, regular, ruim ou péssimo?', 'Presencial'),\n",
    "       ('1997-03-01', '1997-03-05', 'Vox Populi', 'Vox Populi/CNT', 42, 40, 16, 1, 3, 95, 2000, 24, 136,'PSDB', 'Fernando Henrique I', 'Avaliação do governo federal', 'Como você avalia o desempenho do presidente Fernando Henrique Cardoso à frente do governo: está sendo ótimo, bom, regular, ruim ou péssimo?', 'Presencial'),\n",
    "       ('1997-09-06', '1997-09-09', 'Vox Populi', 'Vox Populi/CNT', 36, 31, 20, 2, 3, 95, 2000, 24, 136,'PSDB', 'Fernando Henrique I', 'Avaliação do governo federal', 'Como você avalia o desempenho do presidente Fernando Henrique Cardoso à frente do governo: está sendo ótimo, bom, regular, ruim ou péssimo?', 'Presencial'),\n",
    "       ('1997-12-06', '1997-12-09', 'Vox Populi', 'Vox Populi/CNT', 38, 41, 19, 2, 3, 95, 2000, 24, 136,'PSDB', 'Fernando Henrique I', 'Avaliação do governo federal', 'Como você avalia o desempenho do presidente Fernando Henrique Cardoso à frente do governo: está sendo ótimo, bom, regular, ruim ou péssimo?', 'Presencial'),\n",
    "       ('1998-01-27', '1998-01-29', 'Vox Populi', 'Vox Populi/CNT', 33, 45, 21, 2, 3, 95, 2000, 24, 136,'PSDB', 'Fernando Henrique I', 'Avaliação do governo federal', 'Como você avalia o desempenho do presidente Fernando Henrique Cardoso à frente do governo: está sendo ótimo, bom, regular, ruim ou péssimo?', 'Presencial'),\n",
    "       ('1998-09-13', '1998-09-16', 'Vox Populi', 'Vox Populi/CNT', 45, 36, 17, 2, 3, 95, 2000, 24, 136,'PSDB', 'Fernando Henrique I', 'Avaliação do governo federal', 'Como você avalia o desempenho do presidente Fernando Henrique Cardoso à frente do governo: está sendo ótimo, bom, regular, ruim ou péssimo?', 'Presencial'),\n",
    "       ('1998-08-09', '1998-08-11', 'Vox Populi', 'Vox Populi/CNT', 40, 41, 18, 1, 3, 95, 2000, 24, 136,'PSDB', 'Fernando Henrique I', 'Avaliação do governo federal', 'Como você avalia o desempenho do presidente Fernando Henrique Cardoso à frente do governo: está sendo ótimo, bom, regular, ruim ou péssimo?', 'Presencial'),\n",
    "]"
   ]
  },
  {
   "cell_type": "code",
   "execution_count": 82,
   "metadata": {},
   "outputs": [
    {
     "name": "stdout",
     "output_type": "stream",
     "text": [
      "Dados inseridos da lista com sucesso: 7 registros.\n"
     ]
    }
   ],
   "source": [
    "con.inserir_de_lista(lista = Voxpopuli)"
   ]
  },
  {
   "cell_type": "code",
   "execution_count": 83,
   "metadata": {},
   "outputs": [
    {
     "name": "stdout",
     "output_type": "stream",
     "text": [
      "Total de pesquisas registradas: 853\n"
     ]
    }
   ],
   "source": [
    "con.contar_pesquisas()"
   ]
  },
  {
   "cell_type": "code",
   "execution_count": 70,
   "metadata": {},
   "outputs": [],
   "source": [
    "datafolha = [('2002-08-15', '2002-08-16', 'Datafolha', 'Datafolha', 24, 40, 32, 2, 2, 95, 2000, 24, 136,'PSDB', 'Fernando Henrique II', 'Avaliação do governo federal', 'Na sua opinião o presidente Fernando Henrique está fazendo um governo ótimo, bom, regular, ruim ou péssimo?', 'Presencial'),\n",
    "       ('2002-08-28', '2002-08-30', 'Datafolha', 'Datafolha', 26, 39, 32, 2, 2, 95, 2000, 24, 136,'PSDB', 'Fernando Henrique II', 'Avaliação do governo federal', 'Na sua opinião o presidente Fernando Henrique está fazendo um governo ótimo, bom, regular, ruim ou péssimo?', 'Presencial'),\n",
    "       ('2002-06-05', '2002-06-07', 'Datafolha', 'Datafolha', 31, 40, 28, 2, 2, 95, 2000, 24, 136,'PSDB', 'Fernando Henrique II', 'Avaliação do governo federal', 'Na sua opinião o presidente Fernando Henrique está fazendo um governo ótimo, bom, regular, ruim ou péssimo?', 'Presencial'),\n",
    "       ('2002-05-12', '2002-05-14', 'Datafolha', 'Datafolha', 27, 41, 29, 3, 2, 95, 2000, 24, 136,'PSDB', 'Fernando Henrique II', 'Avaliação do governo federal', 'Na sua opinião o presidente Fernando Henrique está fazendo um governo ótimo, bom, regular, ruim ou péssimo?', 'Presencial'),\n",
    "       ('2002-04-07', '2002-04-09', 'Datafolha', 'Datafolha', 28, 41, 29, 2, 2, 95, 2000, 24, 136,'PSDB', 'Fernando Henrique II', 'Avaliação do governo federal', 'Na sua opinião o presidente Fernando Henrique está fazendo um governo ótimo, bom, regular, ruim ou péssimo?', 'Presencial'),\n",
    "       ('2002-03-10', '2002-03-12', 'Datafolha', 'Datafolha', 29, 41, 28, 3, 2, 95, 2000, 24, 136,'PSDB', 'Fernando Henrique II', 'Avaliação do governo federal', 'Na sua opinião o presidente Fernando Henrique está fazendo um governo ótimo, bom, regular, ruim ou péssimo?', 'Presencial'),\n",
    "       ('2002-02-20', '2002-02-21', 'Datafolha', 'Datafolha', 31, 38, 29, 2, 2, 95, 2000, 24, 136,'PSDB', 'Fernando Henrique II', 'Avaliação do governo federal', 'Na sua opinião o presidente Fernando Henrique está fazendo um governo ótimo, bom, regular, ruim ou péssimo?', 'Presencial'),\n",
    "     ]"
   ]
  },
  {
   "cell_type": "code",
   "execution_count": 77,
   "metadata": {},
   "outputs": [
    {
     "name": "stdout",
     "output_type": "stream",
     "text": [
      "Aviso: A pesquisa deve ser única!\n"
     ]
    },
    {
     "data": {
      "text/plain": [
       "False"
      ]
     },
     "execution_count": 77,
     "metadata": {},
     "output_type": "execute_result"
    }
   ],
   "source": [
    "con.inserir_de_lista(lista = datafolha)"
   ]
  },
  {
   "cell_type": "code",
   "execution_count": null,
   "metadata": {},
   "outputs": [],
   "source": [
    "Confiança no presidente\n",
    "\n",
    "Ibope1 = [('1998-12-12', '1998-12-16', 'Ibope', 'CNI/Ibope', 58, None, 37, 5, 3, 95, 1200, 24, None,'PSDB', 'Fernando Henrique I', 'Avaliação do governo federal', 'Na sua opinião, o governo do presidente Fernando Henrique Cardoso, até o momento, está sendo ótimo, bom, regular, ruim ou péssimo?', 'Presencial'),]\n",
    "\n"
   ]
  },
  {
   "cell_type": "code",
   "execution_count": null,
   "metadata": {},
   "outputs": [],
   "source": []
  },
  {
   "cell_type": "markdown",
   "metadata": {},
   "source": [
    "## Instituto Opinião"
   ]
  },
  {
   "cell_type": "code",
   "execution_count": null,
   "metadata": {},
   "outputs": [],
   "source": [
    "con = AprovacaoDb()\n",
    "\n",
    "con.contar_pesquisas()"
   ]
  },
  {
   "cell_type": "code",
   "execution_count": null,
   "metadata": {},
   "outputs": [],
   "source": [
    "InstitutoOpinião = [('2021-18-13', '2021-18-14', 'Instituto Opinião', 'Instituto Opinião', 58, None, 37, 5, 2.53, 95, 1500, 24, 114,'PSDB', 'Fernando Henrique I', 'Avaliação do governo federal', 'Na sua opinião, o governo do presidente Fernando Henrique Cardoso, até o momento, está sendo ótimo, bom, regular, ruim ou péssimo?', 'Presencial'),]"
   ]
  },
  {
   "cell_type": "code",
   "execution_count": null,
   "metadata": {},
   "outputs": [],
   "source": [
    "con.inserir_de_lista(lista = InstitutoOpinião)"
   ]
  },
  {
   "cell_type": "code",
   "execution_count": null,
   "metadata": {},
   "outputs": [],
   "source": [
    "con.backup()\n",
    "# con.importar_dados()\n",
    "\n",
    "con.fechar_conexao() "
   ]
  },
  {
   "cell_type": "code",
   "execution_count": null,
   "metadata": {},
   "outputs": [],
   "source": []
  },
  {
   "cell_type": "markdown",
   "metadata": {},
   "source": [
    "## Ibope"
   ]
  },
  {
   "cell_type": "code",
   "execution_count": 144,
   "metadata": {},
   "outputs": [
    {
     "name": "stdout",
     "output_type": "stream",
     "text": [
      "Banco: pollingpoint.db\n",
      "SQLite version: 3.33.0\n",
      "Total de pesquisas registradas: 1021\n"
     ]
    }
   ],
   "source": [
    "con = AprovacaoDb()\n",
    "\n",
    "con.contar_pesquisas()"
   ]
  },
  {
   "cell_type": "code",
   "execution_count": 149,
   "metadata": {},
   "outputs": [],
   "source": [
    "Ibope = [('2003-03-20', '2003-03-23', 'Ibope', 'CNI/Ibope', 51, 31, 7, 6, 3, 95, 1200, 24, None,'PT', 'Lula da Silva I',  'Avaliação do governo federal', 'Na sua opinião, o governo do presidente Luiz Inácio Lula da Silva, até o momento, está sendo ótimo, bom, regular, ruim ou péssimo?', 'Presencial'),\n",
    "        ('2003-05-01', '2003-04-04', 'Ibope', 'CNI/Ibope', 48, 36, 8, 8, 3, 95, 1200, 24, None,'PT', 'Lula da Silva I',  'Avaliação do governo federal', 'Na sua opinião, o governo do presidente Luiz Inácio Lula da Silva, até o momento, está sendo ótimo, bom, regular, ruim ou péssimo?', 'Presencial'),\n",
    "        ('2003-06-19', '2003-06-23', 'Ibope', 'CNI/Ibope', 43, 38, 11, 8, 3, 95, 1200, 24, None,'PT', 'Lula da Silva I',  'Avaliação do governo federal', 'Na sua opinião, o governo do presidente Luiz Inácio Lula da Silva, até o momento, está sendo ótimo, bom, regular, ruim ou péssimo?', 'Presencial'),\n",
    "        ('2003-09-18', '2003-09-22', 'Ibope', 'CNI/Ibope', 43, 40, 14, 4, 3, 95, 1200, 24, None,'PT', 'Lula da Silva I',  'Avaliação do governo federal', 'Na sua opinião, o governo do presidente Luiz Inácio Lula da Silva, até o momento, está sendo ótimo, bom, regular, ruim ou péssimo?', 'Presencial'),\n",
    "        ('2003-12-04', '2003-12-08', 'Ibope', 'CNI/Ibope', 41, 43, 14, 1, 3, 95, 1200, 24, None,'PT', 'Lula da Silva I',  'Avaliação do governo federal', 'Na sua opinião, o governo do presidente Luiz Inácio Lula da Silva, até o momento, está sendo ótimo, bom, regular, ruim ou péssimo?', 'Presencial'),\n",
    "        ('2004-03-20', '2004-03-25', 'Ibope', 'CNI/Ibope', 34, 41, 23, 2, 3, 95, 1200, 24, None,'PT', 'Lula da Silva I',  'Avaliação do governo federal', 'Na sua opinião, o governo do presidente Luiz Inácio Lula da Silva, até o momento, está sendo ótimo, bom, regular, ruim ou péssimo?', 'Presencial'),\n",
    "        ('2004-03-27', '2004-03-31', 'Ibope', 'CNI/Ibope', 28, 47, 23, 2, 3, 95, 1200, 24, None,'PT', 'Lula da Silva I',  'Avaliação do governo federal', 'Na sua opinião, o governo do presidente Luiz Inácio Lula da Silva, até o momento, está sendo ótimo, bom, regular, ruim ou péssimo?', 'Presencial'),\n",
    "        ('2004-06-17', '2004-06-21', 'Ibope', 'CNI/Ibope', 29, 42, 26, 2, 3, 95, 1200, 24, None,'PT', 'Lula da Silva I',  'Avaliação do governo federal', 'Na sua opinião, o governo do presidente Luiz Inácio Lula da Silva, até o momento, está sendo ótimo, bom, regular, ruim ou péssimo?', 'Presencial'),\n",
    "        ('2004-09-09', '2004-09-14', 'Ibope', 'CNI/Ibope', 38, 40, 19, 2, 3, 95, 1200, 24, None,'PT', 'Lula da Silva I',  'Avaliação do governo federal', 'Na sua opinião, o governo do presidente Luiz Inácio Lula da Silva, até o momento, está sendo ótimo, bom, regular, ruim ou péssimo?', 'Presencial'),\n",
    "        ('2004-11-24', '2004-11-29', 'Ibope', 'CNI/Ibope', 41, 41, 16, 2, 3, 95, 1200, 24, None,'PT', 'Lula da Silva I',  'Avaliação do governo federal', 'Na sua opinião, o governo do presidente Luiz Inácio Lula da Silva, até o momento, está sendo ótimo, bom, regular, ruim ou péssimo?', 'Presencial'),\n",
    "        ('2005-03-10', '2005-05-14', 'Ibope', 'CNI/Ibope', 39, 41, 17, 3, 3, 95, 1200, 24, None,'PT', 'Lula da Silva I',  'Avaliação do governo federal', 'Na sua opinião, o governo do presidente Luiz Inácio Lula da Silva, até o momento, está sendo ótimo, bom, regular, ruim ou péssimo?', 'Presencial'),\n",
    "        ('2005-06-02', '2005-06-06', 'Ibope', 'CNI/Ibope', 37, 40, 21, 2, 3, 95, 1200, 24, None,'PT', 'Lula da Silva I',  'Avaliação do governo federal', 'Na sua opinião, o governo do presidente Luiz Inácio Lula da Silva, até o momento, está sendo ótimo, bom, regular, ruim ou péssimo?', 'Presencial'),\n",
    "        ('2005-06-09', '2005-06-13', 'Ibope', 'CNI/Ibope', 35, 41, 22, 2, 3, 95, 1200, 24, None,'PT', 'Lula da Silva I',  'Avaliação do governo federal', 'Na sua opinião, o governo do presidente Luiz Inácio Lula da Silva, até o momento, está sendo ótimo, bom, regular, ruim ou péssimo?', 'Presencial'),\n",
    "        ('2005-07-14', '2005-06-18', 'Ibope', 'CNI/Ibope', 36, 40, 24, 1, 3, 95, 1200, 24, None,'PT', 'Lula da Silva I',  'Avaliação do governo federal', 'Na sua opinião, o governo do presidente Luiz Inácio Lula da Silva, até o momento, está sendo ótimo, bom, regular, ruim ou péssimo?', 'Presencial'),\n",
    "        ('2005-08-13', '2005-08-17', 'Ibope', 'CNI/Ibope', 29, 38, 31, 2, 3, 95, 1200, 24, None,'PT', 'Lula da Silva I',  'Avaliação do governo federal', 'Na sua opinião, o governo do presidente Luiz Inácio Lula da Silva, até o momento, está sendo ótimo, bom, regular, ruim ou péssimo?', 'Presencial'),\n",
    "        ('2005-08-18', '2005-08-22', 'Ibope', 'CNI/Ibope', 29, 38, 31, 2, 3, 95, 1200, 24, None,'PT', 'Lula da Silva I',  'Avaliação do governo federal', 'Na sua opinião, o governo do presidente Luiz Inácio Lula da Silva, até o momento, está sendo ótimo, bom, regular, ruim ou péssimo?', 'Presencial'),\n",
    "        ('2005-09-08', '2005-09-12', 'Ibope', 'CNI/Ibope', 29, 36, 32, 2, 3, 95, 1200, 24, None,'PT', 'Lula da Silva I',  'Avaliação do governo federal', 'Na sua opinião, o governo do presidente Luiz Inácio Lula da Silva, até o momento, está sendo ótimo, bom, regular, ruim ou péssimo?', 'Presencial'),\n",
    "        ('2005-10-11', '2005-10-13', 'Ibope', 'CNI/Ibope', 30, 41, 28, 1, 3, 95, 1200, 24, None,'PT', 'Lula da Silva I',  'Avaliação do governo federal', 'Na sua opinião, o governo do presidente Luiz Inácio Lula da Silva, até o momento, está sendo ótimo, bom, regular, ruim ou péssimo?', 'Presencial'),\n",
    "        ('2005-12-03', '2005-12-07', 'Ibope', 'CNI/Ibope', 29, 37, 32, 2, 3, 95, 1200, 24, None,'PT', 'Lula da Silva I',  'Avaliação do governo federal', 'Na sua opinião, o governo do presidente Luiz Inácio Lula da Silva, até o momento, está sendo ótimo, bom, regular, ruim ou péssimo?', 'Presencial'),\n",
    "        ('2006-01-12', '2006-01-16', 'Ibope', 'CNI/Ibope', 33, 39, 27, 2, 3, 95, 1200, 24, None,'PT', 'Lula da Silva I',  'Avaliação do governo federal', 'Na sua opinião, o governo do presidente Luiz Inácio Lula da Silva, até o momento, está sendo ótimo, bom, regular, ruim ou péssimo?', 'Presencial'),\n",
    "        ('2006-03-08', '2006-03-11', 'Ibope', 'CNI/Ibope', 38, 39, 22, 1, 3, 95, 1200, 24, None,'PT', 'Lula da Silva I',  'Avaliação do governo federal', 'Na sua opinião, o governo do presidente Luiz Inácio Lula da Silva, até o momento, está sendo ótimo, bom, regular, ruim ou péssimo?', 'Presencial'),\n",
    "        ('2006-05-08', '2006-05-12', 'Ibope', 'CNI/Ibope', 38, 41, 19, 2, 3, 95, 1200, 24, None,'PT', 'Lula da Silva I',  'Avaliação do governo federal', 'Na sua opinião, o governo do presidente Luiz Inácio Lula da Silva, até o momento, está sendo ótimo, bom, regular, ruim ou péssimo?', 'Presencial'),\n",
    "        ('2006-06-05', '2006-06-07', 'Ibope', 'CNI/Ibope', 44, 36, 19, 1, 3, 95, 1200, 24, None,'PT', 'Lula da Silva I',  'Avaliação do governo federal', 'Na sua opinião, o governo do presidente Luiz Inácio Lula da Silva, até o momento, está sendo ótimo, bom, regular, ruim ou péssimo?', 'Presencial'),\n",
    "        ('2006-07-22', '2006-07-24', 'Ibope', 'CNI/Ibope', 39, 36, 26, 1, 3, 95, 1200, 24, None,'PT', 'Lula da Silva I',  'Avaliação do governo federal', 'Na sua opinião, o governo do presidente Luiz Inácio Lula da Silva, até o momento, está sendo ótimo, bom, regular, ruim ou péssimo?', 'Presencial'),\n",
    "        ('2006-07-29', '2006-07-31', 'Ibope', 'CNI/Ibope', 40, 40, 19, 1, 3, 95, 1200, 24, None,'PT', 'Lula da Silva I',  'Avaliação do governo federal', 'Na sua opinião, o governo do presidente Luiz Inácio Lula da Silva, até o momento, está sendo ótimo, bom, regular, ruim ou péssimo?', 'Presencial'),\n",
    "        ('2006-08-07', '2006-08-09', 'Ibope', 'CNI/Ibope', 41, 35, 22, 1, 3, 95, 1200, 24, None,'PT', 'Lula da Silva I',  'Avaliação do governo federal', 'Na sua opinião, o governo do presidente Luiz Inácio Lula da Silva, até o momento, está sendo ótimo, bom, regular, ruim ou péssimo?', 'Presencial'),\n",
    "        ('2006-08-15', '2006-08-17', 'Ibope', 'CNI/Ibope', 41, 37, 21, 2, 3, 95, 1200, 24, None,'PT', 'Lula da Silva I',  'Avaliação do governo federal', 'Na sua opinião, o governo do presidente Luiz Inácio Lula da Silva, até o momento, está sendo ótimo, bom, regular, ruim ou péssimo?', 'Presencial'),\n",
    "        ('2006-08-23', '2006-08-25', 'Ibope', 'CNI/Ibope', 44, 38, 17, 2, 3, 95, 1200, 24, None,'PT', 'Lula da Silva I',  'Avaliação do governo federal', 'Na sua opinião, o governo do presidente Luiz Inácio Lula da Silva, até o momento, está sendo ótimo, bom, regular, ruim ou péssimo?', 'Presencial'),\n",
    "        ('2006-08-29', '2006-08-31', 'Ibope', 'CNI/Ibope', 43, 38, 18, 1, 3, 95, 1200, 24, None,'PT', 'Lula da Silva I',  'Avaliação do governo federal', 'Na sua opinião, o governo do presidente Luiz Inácio Lula da Silva, até o momento, está sendo ótimo, bom, regular, ruim ou péssimo?', 'Presencial'),\n",
    "        ('2006-09-05', '2006-09-07', 'Ibope', 'CNI/Ibope', 46, 35, 19, 1, 3, 95, 1200, 24, None,'PT', 'Lula da Silva I',  'Avaliação do governo federal', 'Na sua opinião, o governo do presidente Luiz Inácio Lula da Silva, até o momento, está sendo ótimo, bom, regular, ruim ou péssimo?', 'Presencial'),\n",
    "        ('2006-09-09', '2006-09-11', 'Ibope', 'CNI/Ibope', 49, 33, 16, 1, 3, 95, 1200, 24, None,'PT', 'Lula da Silva I',  'Avaliação do governo federal', 'Na sua opinião, o governo do presidente Luiz Inácio Lula da Silva, até o momento, está sendo ótimo, bom, regular, ruim ou péssimo?', 'Presencial'),\n",
    "        ('2006-09-18', '2006-09-20', 'Ibope', 'CNI/Ibope', 43, 37, 19, 1, 3, 95, 1200, 24, None,'PT', 'Lula da Silva I',  'Avaliação do governo federal', 'Na sua opinião, o governo do presidente Luiz Inácio Lula da Silva, até o momento, está sendo ótimo, bom, regular, ruim ou péssimo?', 'Presencial'),\n",
    "        ('2006-09-20', '2006-09-22', 'Ibope', 'CNI/Ibope', 43, 36, 20, 1, 3, 95, 1200, 24, None,'PT', 'Lula da Silva I',  'Avaliação do governo federal', 'Na sua opinião, o governo do presidente Luiz Inácio Lula da Silva, até o momento, está sendo ótimo, bom, regular, ruim ou péssimo?', 'Presencial'),\n",
    "        ('2006-09-24', '2006-09-26', 'Ibope', 'CNI/Ibope', 44, 35, 21, 1, 3, 95, 1200, 24, None,'PT', 'Lula da Silva I',  'Avaliação do governo federal', 'Na sua opinião, o governo do presidente Luiz Inácio Lula da Silva, até o momento, está sendo ótimo, bom, regular, ruim ou péssimo?', 'Presencial'),\n",
    "        ('2006-10-10', '2006-10-11', 'Ibope', 'CNI/Ibope', 45, 33, 20, 1, 3, 95, 1200, 24, None,'PT', 'Lula da Silva I',  'Avaliação do governo federal', 'Na sua opinião, o governo do presidente Luiz Inácio Lula da Silva, até o momento, está sendo ótimo, bom, regular, ruim ou péssimo?', 'Presencial'),\n",
    "        ('2006-10-18', '2006-10-19', 'Ibope', 'CNI/Ibope', 50, 33, 15, 1, 3, 95, 1200, 24, None,'PT', 'Lula da Silva I',  'Avaliação do governo federal', 'Na sua opinião, o governo do presidente Luiz Inácio Lula da Silva, até o momento, está sendo ótimo, bom, regular, ruim ou péssimo?', 'Presencial'),\n",
    "        ('2006-10-24', '2006-10-25', 'Ibope', 'CNI/Ibope', 51, 32, 15, 1, 3, 95, 1200, 24, None,'PT', 'Lula da Silva I',  'Avaliação do governo federal', 'Na sua opinião, o governo do presidente Luiz Inácio Lula da Silva, até o momento, está sendo ótimo, bom, regular, ruim ou péssimo?', 'Presencial'),\n",
    "        ('2006-12-07', '2006-12-10', 'Ibope', 'CNI/Ibope', 57, 28, 13, 1, 3, 95, 1200, 24, None,'PT', 'Lula da Silva I',  'Avaliação do governo federal', 'Na sua opinião, o governo do presidente Luiz Inácio Lula da Silva, até o momento, está sendo ótimo, bom, regular, ruim ou péssimo?', 'Presencial'),\n",
    "]\n",
    "\n",
    "\n",
    "Ibope2 = [('2007-03-28', '2007-04-02', 'Ibope', 'CNI/Ibope', 49, 33, 16, 1, 3, 95, 1200, 24, None,'PT', 'Lula da Silva II',  'Avaliação do governo federal', 'Na sua opinião, o governo do presidente Luiz Inácio Lula da Silva, até o momento, está sendo ótimo, bom, regular, ruim ou péssimo?', 'Presencial'),\n",
    "          ('2007-06-28', '2007-07-01', 'Ibope', 'CNI/Ibope', 50, 33, 16, 1, 3, 95, 1200, 24, None,'PT', 'Lula da Silva II',  'Avaliação do governo federal', 'Na sua opinião, o governo do presidente Luiz Inácio Lula da Silva, até o momento, está sendo ótimo, bom, regular, ruim ou péssimo?', 'Presencial'),\n",
    "          ('2007-09-13', '2007-09-18', 'Ibope', 'CNI/Ibope', 48, 32, 18, 1, 3, 95, 1200, 24, None,'PT', 'Lula da Silva II',  'Avaliação do governo federal', 'Na sua opinião, o governo do presidente Luiz Inácio Lula da Silva, até o momento, está sendo ótimo, bom, regular, ruim ou péssimo?', 'Presencial'),\n",
    "          ('2007-11-30', '2007-12-05', 'Ibope', 'CNI/Ibope', 51, 31, 17, 0, 3, 95, 1200, 24, None,'PT', 'Lula da Silva II',  'Avaliação do governo federal', 'Na sua opinião, o governo do presidente Luiz Inácio Lula da Silva, até o momento, está sendo ótimo, bom, regular, ruim ou péssimo?', 'Presencial'),\n",
    "          ('2008-03-19', '2008-03-23', 'Ibope', 'CNI/Ibope', 58, 30, 11, 1, 3, 95, 1200, 24, None,'PT', 'Lula da Silva II',  'Avaliação do governo federal', 'Na sua opinião, o governo do presidente Luiz Inácio Lula da Silva, até o momento, está sendo ótimo, bom, regular, ruim ou péssimo?', 'Presencial'),\n",
    "          ('2008-06-20', '2008-06-23', 'Ibope', 'CNI/Ibope', 58, 29, 12, 1, 3, 95, 1200, 24, None,'PT', 'Lula da Silva II',  'Avaliação do governo federal', 'Na sua opinião, o governo do presidente Luiz Inácio Lula da Silva, até o momento, está sendo ótimo, bom, regular, ruim ou péssimo?', 'Presencial'),\n",
    "          ('2008-09-19', '2008-09-22', 'Ibope', 'CNI/Ibope', 69, 23, 8, 1, 3, 95, 1200, 24, None,'PT', 'Lula da Silva II',  'Avaliação do governo federal', 'Na sua opinião, o governo do presidente Luiz Inácio Lula da Silva, até o momento, está sendo ótimo, bom, regular, ruim ou péssimo?', 'Presencial'),\n",
    "          ('2008-12-05', '2008-12-08', 'Ibope', 'CNI/Ibope', 73, 20, 6, 0, 3, 95, 1200, 24, None,'PT', 'Lula da Silva II',  'Avaliação do governo federal', 'Na sua opinião, o governo do presidente Luiz Inácio Lula da Silva, até o momento, está sendo ótimo, bom, regular, ruim ou péssimo?', 'Presencial'),\n",
    "          ('2009-03-11', '2009-03-15', 'Ibope', 'CNI/Ibope', 64, 25, 10, 1, 3, 95, 1200, 24, None,'PT', 'Lula da Silva II',  'Avaliação do governo federal', 'Na sua opinião, o governo do presidente Luiz Inácio Lula da Silva, até o momento, está sendo ótimo, bom, regular, ruim ou péssimo?', 'Presencial'),\n",
    "          ('2009-05-29', '2009-06-01', 'Ibope', 'CNI/Ibope', 68, 24, 8, 0, 3, 95, 1200, 24, None,'PT', 'Lula da Silva II',  'Avaliação do governo federal', 'Na sua opinião, o governo do presidente Luiz Inácio Lula da Silva, até o momento, está sendo ótimo, bom, regular, ruim ou péssimo?', 'Presencial'),\n",
    "          ('2009-09-11', '2009-09-14', 'Ibope', 'CNI/Ibope', 69, 22, 9, 0, 3, 95, 1200, 24, None,'PT', 'Lula da Silva II',  'Avaliação do governo federal', 'Na sua opinião, o governo do presidente Luiz Inácio Lula da Silva, até o momento, está sendo ótimo, bom, regular, ruim ou péssimo?', 'Presencial'),\n",
    "          ('2009-11-26', '2009-11-30', 'Ibope', 'CNI/Ibope', 72, 21, 6, 0, 3, 95, 1200, 24, None,'PT', 'Lula da Silva II',  'Avaliação do governo federal', 'Na sua opinião, o governo do presidente Luiz Inácio Lula da Silva, até o momento, está sendo ótimo, bom, regular, ruim ou péssimo?', 'Presencial'),\n",
    "          ('2010-03-06', '2009-03-10', 'Ibope', 'CNI/Ibope', 75, 19, 5, 1, 3, 95, 1200, 24, None,'PT', 'Lula da Silva II',  'Avaliação do governo federal', 'Na sua opinião, o governo do presidente Luiz Inácio Lula da Silva, até o momento, está sendo ótimo, bom, regular, ruim ou péssimo?', 'Presencial'),\n",
    "          ('2010-04-13', '2009-04-18', 'Ibope', 'CNI/Ibope', 76, 18, 5, 0, 3, 95, 1200, 24, None,'PT', 'Lula da Silva II',  'Avaliação do governo federal', 'Na sua opinião, o governo do presidente Luiz Inácio Lula da Silva, até o momento, está sendo ótimo, bom, regular, ruim ou péssimo?', 'Presencial'),\n",
    "          ('2010-05-31', '2009-06-03', 'Ibope', 'CNI/Ibope', 76, 20, 5, 1, 3, 95, 1200, 24, None,'PT', 'Lula da Silva II',  'Avaliação do governo federal', 'Na sua opinião, o governo do presidente Luiz Inácio Lula da Silva, até o momento, está sendo ótimo, bom, regular, ruim ou péssimo?', 'Presencial'),\n",
    "          ('2010-06-19', '2009-06-21', 'Ibope', 'CNI/Ibope', 75, 20, 3, 0, 3, 95, 1200, 24, None,'PT', 'Lula da Silva II',  'Avaliação do governo federal', 'Na sua opinião, o governo do presidente Luiz Inácio Lula da Silva, até o momento, está sendo ótimo, bom, regular, ruim ou péssimo?', 'Presencial'),\n",
    "          ('2010-06-27', '2009-06-30', 'Ibope', 'CNI/Ibope', 76, 19, 4, 1, 3, 95, 1200, 24, None,'PT', 'Lula da Silva II',  'Avaliação do governo federal', 'Na sua opinião, o governo do presidente Luiz Inácio Lula da Silva, até o momento, está sendo ótimo, bom, regular, ruim ou péssimo?', 'Presencial'),\n",
    "          ('2010-07-26', '2009-07-29', 'Ibope', 'CNI/Ibope', 77, 18, 4, 1, 3, 95, 1200, 24, None,'PT', 'Lula da Silva II',  'Avaliação do governo federal', 'Na sua opinião, o governo do presidente Luiz Inácio Lula da Silva, até o momento, está sendo ótimo, bom, regular, ruim ou péssimo?', 'Presencial'),\n",
    "          ('2010-08-12', '2009-08-15', 'Ibope', 'CNI/Ibope', 78, 18, 4, 1, 3, 95, 1200, 24, None,'PT', 'Lula da Silva II',  'Avaliação do governo federal', 'Na sua opinião, o governo do presidente Luiz Inácio Lula da Silva, até o momento, está sendo ótimo, bom, regular, ruim ou péssimo?', 'Presencial'),\n",
    "          ('2010-08-24', '2009-08-26', 'Ibope', 'CNI/Ibope', 78, 17, 4, 0, 3, 95, 1200, 24, None,'PT', 'Lula da Silva II',  'Avaliação do governo federal', 'Na sua opinião, o governo do presidente Luiz Inácio Lula da Silva, até o momento, está sendo ótimo, bom, regular, ruim ou péssimo?', 'Presencial'),\n",
    "          ('2010-08-31', '2009-09-02', 'Ibope', 'CNI/Ibope', 77, 18, 4, 1, 3, 95, 1200, 24, None,'PT', 'Lula da Silva II',  'Avaliação do governo federal', 'Na sua opinião, o governo do presidente Luiz Inácio Lula da Silva, até o momento, está sendo ótimo, bom, regular, ruim ou péssimo?', 'Presencial'),\n",
    "          ('2010-09-14', '2009-09-16', 'Ibope', 'CNI/Ibope', 79, 16, 4, 1, 3, 95, 1200, 24, None,'PT', 'Lula da Silva II',  'Avaliação do governo federal', 'Na sua opinião, o governo do presidente Luiz Inácio Lula da Silva, até o momento, está sendo ótimo, bom, regular, ruim ou péssimo?', 'Presencial'),\n",
    "          ('2010-09-21', '2009-09-23', 'Ibope', 'CNI/Ibope', 80, 15, 4, 1, 3, 95, 1200, 24, None,'PT', 'Lula da Silva II',  'Avaliação do governo federal', 'Na sua opinião, o governo do presidente Luiz Inácio Lula da Silva, até o momento, está sendo ótimo, bom, regular, ruim ou péssimo?', 'Presencial'),\n",
    "          ('2010-09-25', '2009-09-27', 'Ibope', 'CNI/Ibope', 77, 18, 4, 0, 3, 95, 1200, 24, None,'PT', 'Lula da Silva II',  'Avaliação do governo federal', 'Na sua opinião, o governo do presidente Luiz Inácio Lula da Silva, até o momento, está sendo ótimo, bom, regular, ruim ou péssimo?', 'Presencial'),\n",
    "]\n",
    "\n",
    "\n",
    "\n",
    "Ibope3 = [('2003-03-20', '2003-03-23', 'Ibope', 'CNI/Ibope', 80, None, 16, 4, 3, 95, 1200, 24, None,'PT', 'Lula da Silva I', 'Confiança no presidente', 'O (A) sr(a). confia ou não no presidente Luiz Inácio Lula da Silva?', 'Presencial'),\n",
    "        ('2003-05-01', '2003-04-04', 'Ibope', 'CNI/Ibope', 77, None, 17, 5, 3, 95, 1200, 24, None,'PT', 'Lula da Silva I',  'Confiança no presidente', 'O (A) sr(a). confia ou não no presidente Luiz Inácio Lula da Silva?', 'Presencial'),\n",
    "        ('2003-06-19', '2003-06-23', 'Ibope', 'CNI/Ibope', 76, None, 19, 6, 3, 95, 1200, 24, None,'PT', 'Lula da Silva I',  'Confiança no presidente', 'O (A) sr(a). confia ou não no presidente Luiz Inácio Lula da Silva?', 'Presencial'),\n",
    "        ('2003-09-18', '2003-09-22', 'Ibope', 'CNI/Ibope', 70, None, 26, 4, 3, 95, 1200, 24, None,'PT', 'Lula da Silva I',  'Confiança no presidente', 'O (A) sr(a). confia ou não no presidente Luiz Inácio Lula da Silva?', 'Presencial'),\n",
    "        ('2003-12-04', '2003-12-08', 'Ibope', 'CNI/Ibope', 69, None, 26, 5, 3, 95, 1200, 24, None,'PT', 'Lula da Silva I',  'Confiança no presidente', 'O (A) sr(a). confia ou não no presidente Luiz Inácio Lula da Silva?', 'Presencial'),\n",
    "        ('2004-03-20', '2004-03-25', 'Ibope', 'CNI/Ibope', 60, None, 36, 4, 3, 95, 1200, 24, None,'PT', 'Lula da Silva I',  'Confiança no presidente', 'O (A) sr(a). confia ou não no presidente Luiz Inácio Lula da Silva?', 'Presencial'),\n",
    "        ('2004-03-27', '2004-03-31', 'Ibope', 'CNI/Ibope', 53, None, 42, 5, 3, 95, 1200, 24, None,'PT', 'Lula da Silva I',  'Confiança no presidente', 'O (A) sr(a). confia ou não no presidente Luiz Inácio Lula da Silva?', 'Presencial'),\n",
    "        ('2004-06-17', '2004-06-21', 'Ibope', 'CNI/Ibope', 54, None, 43, 4, 3, 95, 1200, 24, None,'PT', 'Lula da Silva I',  'Confiança no presidente', 'O (A) sr(a). confia ou não no presidente Luiz Inácio Lula da Silva?', 'Presencial'),\n",
    "        ('2004-09-09', '2004-09-14', 'Ibope', 'CNI/Ibope', 58, None, 37, 5, 3, 95, 1200, 24, None,'PT', 'Lula da Silva I',  'Confiança no presidente', 'O (A) sr(a). confia ou não no presidente Luiz Inácio Lula da Silva?', 'Presencial'),\n",
    "        ('2004-11-24', '2004-11-29', 'Ibope', 'CNI/Ibope', 63, None, 33, 4, 3, 95, 1200, 24, None,'PT', 'Lula da Silva I',  'Confiança no presidente', 'O (A) sr(a). confia ou não no presidente Luiz Inácio Lula da Silva?', 'Presencial'),\n",
    "        ('2005-03-10', '2005-05-14', 'Ibope', 'CNI/Ibope', 60, None, 34, 3, 3, 95, 1200, 24, None,'PT', 'Lula da Silva I',  'Confiança no presidente', 'O (A) sr(a). confia ou não no presidente Luiz Inácio Lula da Silva?', 'Presencial'),\n",
    "        ('2005-06-09', '2005-06-13', 'Ibope', 'CNI/Ibope', 56, None, 38, 5, 2, 95, 1200, 24, None,'PT', 'Lula da Silva I',  'Confiança no presidente', 'O (A) sr(a). confia ou não no presidente Luiz Inácio Lula da Silva?', 'Presencial'),\n",
    "        ('2005-07-14', '2005-06-18', 'Ibope', 'CNI/Ibope', 53, None, 42, 5, 4, 95, 1200, 24, None,'PT', 'Lula da Silva I',  'Confiança no presidente', 'O (A) sr(a). confia ou não no presidente Luiz Inácio Lula da Silva?', 'Presencial'),\n",
    "        ('2005-08-18', '2005-08-22', 'Ibope', 'CNI/Ibope', 43, None, 52, 6, 3, 95, 1200, 24, None,'PT', 'Lula da Silva I',  'Confiança no presidente', 'O (A) sr(a). confia ou não no presidente Luiz Inácio Lula da Silva?', 'Presencial'),\n",
    "        ('2005-09-08', '2005-09-12', 'Ibope', 'CNI/Ibope', 44, None, 51, 5, 3, 95, 1200, 24, None,'PT', 'Lula da Silva I',  'Confiança no presidente', 'O (A) sr(a). confia ou não no presidente Luiz Inácio Lula da Silva?', 'Presencial'),\n",
    "        ('2005-10-11', '2005-10-13', 'Ibope', 'CNI/Ibope', 46, None, 49, 4, 3, 95, 1200, 24, None,'PT', 'Lula da Silva I',  'Confiança no presidente', 'O (A) sr(a). confia ou não no presidente Luiz Inácio Lula da Silva?', 'Presencial'),\n",
    "        ('2005-12-03', '2005-12-07', 'Ibope', 'CNI/Ibope', 43, None, 53, 4, 3, 95, 1200, 24, None,'PT', 'Lula da Silva I',  'Confiança no presidente', 'O (A) sr(a). confia ou não no presidente Luiz Inácio Lula da Silva?', 'Presencial'),\n",
    "        ('2006-03-08', '2006-03-11', 'Ibope', 'CNI/Ibope', 53, None, 43, 4, 3, 95, 1200, 24, None,'PT', 'Lula da Silva I',  'Confiança no presidente', 'O (A) sr(a). confia ou não no presidente Luiz Inácio Lula da Silva?', 'Presencial'),\n",
    "        ('2006-06-05', '2006-06-07', 'Ibope', 'CNI/Ibope', 56, None, 39, 5, 3, 95, 1200, 24, None,'PT', 'Lula da Silva I',  'Confiança no presidente', 'O (A) sr(a). confia ou não no presidente Luiz Inácio Lula da Silva?', 'Presencial'),\n",
    "        ('2006-07-29', '2006-07-31', 'Ibope', 'CNI/Ibope', 52, None, 46, 6, 3, 95, 1200, 24, None,'PT', 'Lula da Silva I',  'Confiança no presidente', 'O (A) sr(a). confia ou não no presidente Luiz Inácio Lula da Silva?', 'Presencial'),\n",
    "        ('2006-09-09', '2006-09-11', 'Ibope', 'CNI/Ibope', 58, None, 38, 4, 3, 95, 1200, 24, None,'PT', 'Lula da Silva I',  'Confiança no presidente', 'O (A) sr(a). confia ou não no presidente Luiz Inácio Lula da Silva?', 'Presencial'),\n",
    "        ('2006-12-07', '2006-12-10', 'Ibope', 'CNI/Ibope', 68, None, 28, 4, 3, 95, 1200, 24, None,'PT', 'Lula da Silva I',  'Confiança no presidente', 'O (A) sr(a). confia ou não no presidente Luiz Inácio Lula da Silva?', 'Presencial'),\n",
    "        ('2007-03-28', '2007-04-02', 'Ibope', 'CNI/Ibope', 62, None, 34, 5, 3, 95, 1200, 24, None,'PT', 'Lula da Silva II',  'Confiança no presidente', 'O (A) sr(a). confia ou não no presidente Luiz Inácio Lula da Silva?', 'Presencial'),\n",
    "        ('2007-06-28', '2007-07-01', 'Ibope', 'CNI/Ibope', 61, None, 35, 4, 3, 95, 1200, 24, None,'PT', 'Lula da Silva II',  'Confiança no presidente', 'O (A) sr(a). confia ou não no presidente Luiz Inácio Lula da Silva?', 'Presencial'),\n",
    "        ('2007-09-13', '2007-09-18', 'Ibope', 'CNI/Ibope', 60, None, 37, 3, 3, 95, 1200, 24, None,'PT', 'Lula da Silva II',  'Confiança no presidente', 'O (A) sr(a). confia ou não no presidente Luiz Inácio Lula da Silva?', 'Presencial'),\n",
    "        ('2007-11-30', '2007-12-05', 'Ibope', 'CNI/Ibope', 60, None, 35, 4, 3, 95, 1200, 24, None,'PT', 'Lula da Silva II',  'Confiança no presidente', 'O (A) sr(a). confia ou não no presidente Luiz Inácio Lula da Silva?', 'Presencial'),\n",
    "        ('2008-03-19', '2008-03-23', 'Ibope', 'CNI/Ibope', 68, None, 28, 4, 3, 95, 1200, 24, None,'PT', 'Lula da Silva II',  'Confiança no presidente', 'O (A) sr(a). confia ou não no presidente Luiz Inácio Lula da Silva?', 'Presencial'),\n",
    "        ('2008-06-20', '2008-06-23', 'Ibope', 'CNI/Ibope', 68, None, 29, 3, 3, 95, 1200, 24, None,'PT', 'Lula da Silva II',  'Confiança no presidente', 'O (A) sr(a). confia ou não no presidente Luiz Inácio Lula da Silva?', 'Presencial'),\n",
    "        ('2008-09-19', '2008-09-22', 'Ibope', 'CNI/Ibope', 73, None, 23, 4, 3, 95, 1200, 24, None,'PT', 'Lula da Silva II',  'Confiança no presidente', 'O (A) sr(a). confia ou não no presidente Luiz Inácio Lula da Silva?', 'Presencial'),\n",
    "        ('2008-12-05', '2008-12-08', 'Ibope', 'CNI/Ibope', 80, None, 18, 2, 3, 95, 1200, 24, None,'PT', 'Lula da Silva II',  'Confiança no presidente', 'O (A) sr(a). confia ou não no presidente Luiz Inácio Lula da Silva?', 'Presencial'),\n",
    "        ('2009-03-11', '2009-03-15', 'Ibope', 'CNI/Ibope', 74, None, 23, 3, 3, 95, 1200, 24, None,'PT', 'Lula da Silva II',  'Confiança no presidente', 'O (A) sr(a). confia ou não no presidente Luiz Inácio Lula da Silva?', 'Presencial'),\n",
    "        ('2009-05-29', '2009-06-01', 'Ibope', 'CNI/Ibope', 76, None, 21, 3, 3, 95, 1200, 24, None,'PT', 'Lula da Silva II',  'Confiança no presidente', 'O (A) sr(a). confia ou não no presidente Luiz Inácio Lula da Silva?', 'Presencial'),\n",
    "        ('2009-11-26', '2009-11-30', 'Ibope', 'CNI/Ibope', 78, None, 19, 3, 3, 95, 1200, 24, None,'PT', 'Lula da Silva II',  'Confiança no presidente', 'O (A) sr(a). confia ou não no presidente Luiz Inácio Lula da Silva?', 'Presencial'),\n",
    "        ('2010-03-06', '2009-03-10', 'Ibope', 'CNI/Ibope', 77, None, 20, 4, 3, 95, 1200, 24, None,'PT', 'Lula da Silva II',  'Confiança no presidente', 'O (A) sr(a). confia ou não no presidente Luiz Inácio Lula da Silva?', 'Presencial'),\n",
    "        ('2010-04-13', '2009-04-18', 'Ibope', 'CNI/Ibope', 83, None, 14, 4, 3, 95, 1200, 24, None,'PT', 'Lula da Silva II',  'Confiança no presidente', 'O (A) sr(a). confia ou não no presidente Luiz Inácio Lula da Silva?', 'Presencial'),\n",
    "        ('2010-06-19', '2009-06-21', 'Ibope', 'CNI/Ibope', 81, None, 15, 4, 3, 95, 1200, 24, None,'PT', 'Lula da Silva II',  'Confiança no presidente', 'O (A) sr(a). confia ou não no presidente Luiz Inácio Lula da Silva?', 'Presencial'),\n",
    "        ('2010-09-25', '2009-09-27', 'Ibope', 'CNI/Ibope', 76, None, 19, 5, 3, 95, 1200, 24, None,'PT', 'Lula da Silva II',  'Confiança no presidente', 'O (A) sr(a). confia ou não no presidente Luiz Inácio Lula da Silva?', 'Presencial'),\n",
    "\n",
    "]\n",
    "\n",
    "\n",
    "\n",
    "Ibope4 = [('2014-06-04', '2014-06-07', 'Ibope', 'Ibope', 31, 32, 35, 1, 3, 95, 2000, 24, None,'PT', 'Dilma Rousseff I',  'Avaliação do governo federal', 'Na sua opinião, o governo da presidente Dilma Rousseff, até o momento, está sendo ótimo, bom, regular, ruim ou péssimo?', 'Presencial'),\n",
    "         ('2014-09-27', '2014-09-29', 'Ibope', 'Ibope', 38, 33, 28, 1, 3, 95, 2000, 24, None,'PT', 'Dilma Rousseff I',  'Avaliação do governo federal', 'Na sua opinião, o governo da presidente Dilma Rousseff, até o momento, está sendo ótimo, bom, regular, ruim ou péssimo?', 'Presencial'),\n",
    "         ('2014-09-29', '2014-10-01', 'Ibope', 'Ibope', 39, 33, 26, 2, 3, 95, 2000, 24, None,'PT', 'Dilma Rousseff I',  'Avaliação do governo federal', 'Na sua opinião, o governo da presidente Dilma Rousseff, até o momento, está sendo ótimo, bom, regular, ruim ou péssimo?', 'Presencial'),\n",
    "         ('2014-10-02', '2014-10-04', 'Ibope', 'Ibope', 40, 31, 27, 2, 3, 95, 2000, 24, None,'PT', 'Dilma Rousseff I',  'Avaliação do governo federal', 'Na sua opinião, o governo da presidente Dilma Rousseff, até o momento, está sendo ótimo, bom, regular, ruim ou péssimo?', 'Presencial'),\n",
    "         ('2016-03-17', '2016-03-20', 'Ibope', 'Ibope', 10, 19, 69, 1, 3, 95, 2000, 24, None,'PT', 'Dilma Rousseff I',  'Avaliação do governo federal', 'Na sua opinião, o governo da presidente Dilma Rousseff, até o momento, está sendo ótimo, bom, regular, ruim ou péssimo?', 'Presencial'),\n",
    "]"
   ]
  },
  {
   "cell_type": "code",
   "execution_count": 150,
   "metadata": {},
   "outputs": [
    {
     "name": "stdout",
     "output_type": "stream",
     "text": [
      "Dados inseridos da lista com sucesso: 3 registros.\n"
     ]
    }
   ],
   "source": [
    "con.inserir_de_lista(lista = mda)"
   ]
  },
  {
   "cell_type": "code",
   "execution_count": 125,
   "metadata": {},
   "outputs": [
    {
     "name": "stdout",
     "output_type": "stream",
     "text": [
      "Total de pesquisas registradas: 978\n"
     ]
    }
   ],
   "source": [
    "con.contar_pesquisas()"
   ]
  },
  {
   "cell_type": "code",
   "execution_count": 151,
   "metadata": {},
   "outputs": [
    {
     "name": "stdout",
     "output_type": "stream",
     "text": [
      "Backup realizado com sucesso.\n",
      "Salvo como sql/pollingpoint_bkp.sql\n",
      "Conexão fechada.\n"
     ]
    }
   ],
   "source": [
    "con.backup()\n",
    "# con.importar_dados()\n",
    "\n",
    "con.fechar_conexao() "
   ]
  },
  {
   "cell_type": "code",
   "execution_count": null,
   "metadata": {},
   "outputs": [],
   "source": [
    "\n",
    "# pd.crosstab(data.empresa, data.presidente, margins=True)\n"
   ]
  },
  {
   "cell_type": "code",
   "execution_count": 152,
   "metadata": {},
   "outputs": [
    {
     "name": "stdout",
     "output_type": "stream",
     "text": [
      "Dados atualizados com sucesso.\n"
     ]
    }
   ],
   "source": [
    "con = sqlite3.connect('pollingpoint.db')\n",
    "\n",
    "cursor = con.cursor()\n",
    "\n",
    "cursor.execute(\"\"\" \n",
    "UPDATE aprovacao \n",
    "SET tipo = 'Aprovação do governo federal' \n",
    "WHERE tipo = 'Aprovacao do governo federal'; \"\"\")\n",
    "\n",
    "# gravando no bd\n",
    "con.commit()\n",
    "\n",
    "print('Dados atualizados com sucesso.')\n",
    "\n",
    "con.close()"
   ]
  },
  {
   "cell_type": "code",
   "execution_count": null,
   "metadata": {},
   "outputs": [],
   "source": []
  },
  {
   "cell_type": "code",
   "execution_count": 143,
   "metadata": {},
   "outputs": [
    {
     "name": "stdout",
     "output_type": "stream",
     "text": [
      "Dados atualizados com sucesso.\n"
     ]
    }
   ],
   "source": [
    "con = sqlite3.connect('pollingpoint.db')\n",
    "\n",
    "cursor = con.cursor()\n",
    "\n",
    "cursor.execute(\"\"\" \n",
    "DELETE FROM aprovacao \n",
    "WHERE nome = 'Datafolha' AND data_fim = '2014-10-25'; \"\"\")\n",
    "\n",
    "# gravando no bd\n",
    "con.commit()\n",
    "\n",
    "print('Dados atualizados com sucesso.')\n",
    "\n",
    "con.close()"
   ]
  },
  {
   "cell_type": "code",
   "execution_count": null,
   "metadata": {},
   "outputs": [],
   "source": []
  }
 ],
 "metadata": {
  "interpreter": {
   "hash": "7e85ec9bf098c5427e45e2f632dcd4eeff803b007e1abd287d600879388709c1"
  },
  "kernelspec": {
   "display_name": "polls",
   "language": "python",
   "name": "polls"
  },
  "language_info": {
   "codemirror_mode": {
    "name": "ipython",
    "version": 3
   },
   "file_extension": ".py",
   "mimetype": "text/x-python",
   "name": "python",
   "nbconvert_exporter": "python",
   "pygments_lexer": "ipython3",
   "version": "3.9.6"
  },
  "metadata": {
   "interpreter": {
    "hash": "7e85ec9bf098c5427e45e2f632dcd4eeff803b007e1abd287d600879388709c1"
   }
  }
 },
 "nbformat": 4,
 "nbformat_minor": 4
}
