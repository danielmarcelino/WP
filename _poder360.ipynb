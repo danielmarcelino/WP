{
  "nbformat": 4,
  "nbformat_minor": 0,
  "metadata": {
    "colab": {
      "name": "_poder360.ipynb",
      "provenance": [],
      "collapsed_sections": [],
      "authorship_tag": "ABX9TyNY/o9CCngh0B82jvU9iezk",
      "include_colab_link": true
    },
    "kernelspec": {
      "name": "python3",
      "display_name": "Python 3"
    },
    "language_info": {
      "name": "python"
    }
  },
  "cells": [
    {
      "cell_type": "markdown",
      "metadata": {
        "id": "view-in-github",
        "colab_type": "text"
      },
      "source": [
        "<a href=\"https://colab.research.google.com/github/dmarcelinobr/pollbase/blob/master/_poder360.ipynb\" target=\"_parent\"><img src=\"https://colab.research.google.com/assets/colab-badge.svg\" alt=\"Open In Colab\"/></a>"
      ]
    },
    {
      "cell_type": "markdown",
      "source": [
        "# Atualiza o banco de dados dos agregadores\n",
        "\n"
      ],
      "metadata": {
        "id": "w906kOZ0Xwtr"
      }
    },
    {
      "cell_type": "code",
      "source": [
        "import platform, sys, os, pathlib\n",
        "try:\n",
        "    import warnings                                                   \n",
        "    warnings.filterwarnings('ignore')     \n",
        "    import pandas as pd       \n",
        "    import numpy as np\n",
        "    import sqlite3\n",
        "    from pathlib import Path\n",
        "\n",
        "except ImportError:\n",
        "    print(\"Error: missing one of the libraries..\")\n",
        "    sys.exit()\n",
        "\n",
        "# Load the Drive helper and mount\n",
        "from google.colab import drive\n",
        "\n",
        "# Isso vai abrir o authorization wizard do google \n",
        "drive.mount('/content/drive', force_remount=True)\n",
        "\n",
        "sys.path.insert(0,\"/content/drive/My Drive/pollbase/\")\n",
        "\n",
        "\n",
        "from utils.pollingdb import *"
      ],
      "metadata": {
        "colab": {
          "base_uri": "https://localhost:8080/"
        },
        "id": "cr0rHJ16Xttl",
        "outputId": "c756b98a-0270-4fc3-b53b-6ab0164a407f"
      },
      "execution_count": null,
      "outputs": [
        {
          "output_type": "stream",
          "name": "stdout",
          "text": [
            "Mounted at /content/drive\n"
          ]
        }
      ]
    },
    {
      "cell_type": "code",
      "source": [
        "# Basic repositry constants for usage\n",
        "ROOT_DIRECTORY = os.path.dirname(sys.path[0])\n",
        "\n",
        "# Data\n",
        "DATA_PATH = os.path.dirname('data/')\n",
        "DATA_DIRECTORY = os.path.join(ROOT_DIRECTORY, DATA_PATH)\n",
        "Path(DATA_DIRECTORY).mkdir(parents=True, exist_ok=True)\n"
      ],
      "metadata": {
        "id": "z9nP-QcFuFRZ"
      },
      "execution_count": null,
      "outputs": []
    },
    {
      "cell_type": "code",
      "source": [
        "# Conexão com o banco de dados\n",
        "conn = sqlite3.connect(f'{DATA_DIRECTORY}/pollingpoints.db')\n",
        "\n",
        "cursor = conn.cursor()\n",
        "\n",
        "cursor.execute(\"\"\" SELECT name \n",
        "FROM sqlite_master \n",
        "WHERE type='table'; \"\"\")\n",
        "\n",
        "rows = cursor.fetchall()\n",
        "\n",
        "for row in rows:\n",
        "  print(row)\n",
        "\n",
        "conn.close()"
      ],
      "metadata": {
        "colab": {
          "base_uri": "https://localhost:8080/"
        },
        "id": "UHU2PYvGiV4R",
        "outputId": "2717168d-c172-4a9e-89b2-c69e83407cbe"
      },
      "execution_count": null,
      "outputs": [
        {
          "output_type": "stream",
          "name": "stdout",
          "text": [
            "('empresas',)\n",
            "('sqlite_sequence',)\n",
            "('pollsters',)\n",
            "('ranking',)\n",
            "('popularidade',)\n",
            "('eleitoral',)\n",
            "('fundamentos',)\n"
          ]
        }
      ]
    },
    {
      "cell_type": "code",
      "source": [
        "\n",
        "# con = sqlite3.connect(f'{DATA_DIRECTORY}/pollingpoints.db')\n",
        "\n",
        "# cursor = con.cursor()\n",
        "\n",
        "cursor.execute(\"\"\" \n",
        "DELETE FROM popularidade \n",
        "WHERE nome = 'Ipespe/XP' AND data_fim = '2021-12-16'; \"\"\")\n",
        "\n",
        "# gravando no bd\n",
        "con.commit()\n",
        "\n",
        "print('Dados atualizados com sucesso.')\n",
        "\n",
        "# con.table_info()\n",
        "\n",
        "con.close()\n"
      ],
      "metadata": {
        "colab": {
          "base_uri": "https://localhost:8080/"
        },
        "id": "56sLY6Qr5RCn",
        "outputId": "0ed0b36c-67be-46c1-f4ae-c00bbfc9c17b"
      },
      "execution_count": null,
      "outputs": [
        {
          "output_type": "stream",
          "name": "stdout",
          "text": [
            "Dados atualizados com sucesso.\n"
          ]
        }
      ]
    },
    {
      "cell_type": "code",
      "source": [
        "# Conexão com o banco de dados\n",
        "\n",
        "con = sqlite3.connect(f'{DATA_DIRECTORY}/pollingpoints.db')\n",
        "\n",
        "cursor = con.cursor()\n",
        "\n",
        "cursor.execute(\"\"\" \n",
        "UPDATE eleitoral \n",
        "SET candidato = \"Simone Tebet\" \n",
        "WHERE candidato = \"Simine Tebet\"; \"\"\")\n",
        "\n",
        "# gravando no bd\n",
        "con.commit()\n",
        "\n",
        "print('Dados atualizados com sucesso.')\n",
        "\n",
        "# con.table_info()\n",
        "\n",
        "con.close()"
      ],
      "metadata": {
        "colab": {
          "base_uri": "https://localhost:8080/"
        },
        "id": "CWIW4vi_n0_A",
        "outputId": "fab66239-91b8-406e-b4af-30e5fb7321d2"
      },
      "execution_count": null,
      "outputs": [
        {
          "output_type": "stream",
          "name": "stdout",
          "text": [
            "Dados atualizados com sucesso.\n"
          ]
        }
      ]
    },
    {
      "cell_type": "code",
      "source": [
        "# %cd drive/My\\ Drive/Pollbase/utils/\n",
        "# !ls"
      ],
      "metadata": {
        "colab": {
          "base_uri": "https://localhost:8080/"
        },
        "id": "ONj8iEgTp1MS",
        "outputId": "018ffb9b-6cd8-4e58-c0c1-15e346ee6fa3"
      },
      "execution_count": null,
      "outputs": [
        {
          "output_type": "stream",
          "name": "stdout",
          "text": [
            "/content/drive/My Drive/Pollbase/utils\n",
            "dataandcoords.py  etl_agregadores.py  __init__.py  model_utils.py  pollingdb.py\n"
          ]
        }
      ]
    },
    {
      "cell_type": "markdown",
      "source": [
        "# Inserir dados de popularidade"
      ],
      "metadata": {
        "id": "00UnKcYWYwKt"
      }
    },
    {
      "cell_type": "code",
      "source": [
        "con = PopularidadeDb()\n",
        "\n",
        "con.contar_pesquisas()\n",
        "\n",
        "con.contar_pesquisas_por_empresa(empresa=\"PoderData\")\n",
        "# con.localizar_pesquisa_por_candidato(candidato='Lula')\n",
        "# con.localizar_pesquisa_por_data(data='2021-05-01')\n",
        "# con.localizar_pesquisa_por_data(data='2021-10-01')\n",
        "con.table_info()"
      ],
      "metadata": {
        "colab": {
          "base_uri": "https://localhost:8080/"
        },
        "id": "nzsTULY5Y2vi",
        "outputId": "4122012f-478c-45c1-d4a3-69e5e8fea2ef"
      },
      "execution_count": null,
      "outputs": [
        {
          "output_type": "stream",
          "name": "stdout",
          "text": [
            "Banco: /content/drive/My Drive/pollbase/data/pollingpoints.db\n",
            "SQLite version: 3.22.0\n",
            "Total de pesquisas registradas: 1230\n",
            "Total de pesquisas da empresa PoderData : 90\n",
            "Colunas: ['id', 'data_ini', 'data_fim', 'empresa', 'nome', 'positiva', 'regular', 'negativa', 'nsnr', 'erro', 'ic', 'amostra', 'ufs', 'cidades', 'partido', 'presidente', 'tipo', 'modo', 'pergunta', 'timestamp']\n"
          ]
        }
      ]
    },
    {
      "cell_type": "code",
      "source": [
        "PoderData = [('2022-01-31', '2022-02-01', 'PoderData', 'Poder360', 27, 17, 53, 3, 2, 95, 3000, 27, 238,'PL', 'Jair Bolsonaro', 'Avaliação do governo federal', 'IVR', 'De maneira geral, como você avalia o trabalho do presidente Jair Bolsonaro? ótimo, bom, regular, ruim ou péssimo'),\n",
        "        ('2022-01-31', '2022-02-01', 'PoderData', 'Poder360', 33, None, 59, 8, 2, 95, 3000, 27, 238,'PL', 'Jair Bolsonaro', 'Aprovacao do governo federal', 'IVR', 'Você aprova ou desaprova o governo do presidente Jair Bolsonaro?'),\n",
        "        ]"
      ],
      "metadata": {
        "id": "45Y0jadFZOJd"
      },
      "execution_count": null,
      "outputs": []
    },
    {
      "cell_type": "code",
      "source": [
        "con.inserir_de_lista(lista = PoderData)"
      ],
      "metadata": {
        "id": "ZOjjk2p-ZP2N",
        "colab": {
          "base_uri": "https://localhost:8080/"
        },
        "outputId": "70efe56e-bf0d-4c23-a891-ab06754e29c6"
      },
      "execution_count": null,
      "outputs": [
        {
          "output_type": "stream",
          "name": "stdout",
          "text": [
            "Dados inseridos da lista com sucesso: 2 registros.\n"
          ]
        }
      ]
    },
    {
      "cell_type": "code",
      "source": [
        "con.contar_pesquisas_por_empresa(empresa=\"PoderData\")\n",
        "\n",
        "con.backup()\n",
        "# con.importar_dados()\n",
        "con.fechar_conexao() "
      ],
      "metadata": {
        "id": "C-hMAbRcZRhe",
        "colab": {
          "base_uri": "https://localhost:8080/"
        },
        "outputId": "35460678-d479-41b2-9057-0eaa9c8b2898"
      },
      "execution_count": null,
      "outputs": [
        {
          "output_type": "stream",
          "name": "stdout",
          "text": [
            "Total de pesquisas da empresa PoderData : 92\n",
            "Backup realizado com sucesso.\n",
            "Salvo como /content/drive/My Drive/pollbase/sql/pollingpoints_bkp.sql\n",
            "Conexão fechada.\n"
          ]
        }
      ]
    },
    {
      "cell_type": "markdown",
      "source": [
        "# Inserir dados de intenção de votos"
      ],
      "metadata": {
        "id": "nqDQrDyojtbe"
      }
    },
    {
      "cell_type": "code",
      "source": [
        "con = EleitoralDb()\n",
        "\n",
        "con.contar_pesquisas()\n",
        "\n",
        "con.contar_pesquisas_por_empresa(empresa=\"PoderData\")\n",
        "# con.localizar_pesquisa_por_empresa(empresa='PoderData')\n",
        "con.table_info()"
      ],
      "metadata": {
        "colab": {
          "base_uri": "https://localhost:8080/"
        },
        "id": "-RvgYhlWXYgT",
        "outputId": "84d99929-7911-4c82-89a9-d812538b4fc5"
      },
      "execution_count": null,
      "outputs": [
        {
          "output_type": "stream",
          "name": "stdout",
          "text": [
            "Banco: /content/drive/My Drive/pollbase/data/pollingpoints.db\n",
            "SQLite version: 3.22.0\n",
            "Total de pesquisas registradas: 2634\n",
            "Total de pesquisas da empresa PoderData : 378\n",
            "Colunas: ['id', 'data_ini', 'data_fim', 'empresa', 'nome', 'cargo', 'turno', 'partido', 'candidato', 'voto', 'erro', 'ic', 'amostra', 'ufs', 'cidades', 'tipo', 'modo', 'cenario', 'pergunta', 'timestamp']\n"
          ]
        }
      ]
    },
    {
      "cell_type": "markdown",
      "source": [
        "## Pesquisa Estimulada "
      ],
      "metadata": {
        "id": "oAdMZPvzkmcP"
      }
    },
    {
      "cell_type": "code",
      "source": [
        "PoderData1 = [\n",
        "('2022-01-31', '2022-02-01', 'PoderData', 'PoderData/Poder360', 'Presidente',1, \"PT\", \"Lula da Silva\", 41, 2, 95, 3000, 27, 238, 'Estimulada', 'IVR', 'principal', 'Se a eleição fosse hoje, você votaria em qual dos candidatos?'),\n",
        "('2022-01-31', '2022-02-01', 'PoderData', 'PoderData/Poder360', 'Presidente',1, \"PL\", \"Jair Bolsonaro\", 30, 2, 95, 3000, 27, 238, 'Estimulada', 'IVR', 'principal', 'Se a eleição fosse hoje, você votaria em qual dos candidatos?'),\n",
        "('2022-01-31', '2022-02-01', 'PoderData', 'PoderData/Poder360', 'Presidente',1, \"PDT\", \"Ciro Gomes\", 7, 2, 95, 3000, 27, 238, 'Estimulada', 'IVR', 'principal', 'Se a eleição fosse hoje, você votaria em qual dos candidatos?'),\n",
        "('2022-01-31', '2022-02-01', 'PoderData', 'PoderData/Poder360', 'Presidente',1, \"Podemos\", \"Sergio Moro\", 7, 2, 95, 3000, 27, 238, 'Estimulada', 'IVR', 'principal', 'Se a eleição fosse hoje, você votaria em qual dos candidatos?'),\n",
        "('2022-01-31', '2022-02-01', 'PoderData', 'PoderData/Poder360', 'Presidente',1, \"PSDB\", \"João Doria\", 2, 2, 95, 3000, 27, 238, 'Estimulada', 'IVR', 'principal', 'Se a eleição fosse hoje, você votaria em qual dos candidatos?'),\n",
        "('2022-01-31', '2022-02-01', 'PoderData', 'PoderData/Poder360', 'Presidente',1, \"AVANTE\", \"André Janones\", 2, 2, 95, 3000, 27, 238, 'Estimulada', 'IVR', 'principal', 'Se a eleição fosse hoje, você votaria em qual dos candidatos?'),\n",
        "('2022-01-31', '2022-02-01', 'PoderData', 'PoderData/Poder360', 'Presidente',1, \"MDB\", \"Simone Tebet\", 1, 2, 95, 3000, 27, 238, 'Estimulada', 'IVR', 'principal', 'Se a eleição fosse hoje, você votaria em qual dos candidatos?'),\n",
        "('2022-01-31', '2022-02-01', 'PoderData', 'PoderData/Poder360', 'Presidente',1, \"Novo\", \"Felipe d'Avila\", 0, 2, 95, 3000, 27, 238, 'Estimulada', 'IVR', 'principal', 'Se a eleição fosse hoje, você votaria em qual dos candidatos?'),\n",
        "('2022-01-31', '2022-02-01', 'PoderData', 'PoderData/Poder360', 'Presidente',1, \"Cidadania\", \"Alessandro Vieira\", 1, 2, 95, 3000, 27, 238, 'Estimulada', 'IVR', 'principal', 'Se a eleição fosse hoje, você votaria em qual dos candidatos?'),\n",
        "('2022-01-31', '2022-02-01', 'PoderData', 'PoderData/Poder360', 'Presidente',1, \"DEM\", \"Rodrigo Pacheco\", 1, 2, 95, 3000, 27, 238, 'Estimulada', 'IVR', 'principal', 'Se a eleição fosse hoje, você votaria em qual dos candidatos?'),\n",
        "('2022-01-31', '2022-02-01', 'PoderData', 'PoderData/Poder360', 'Presidente',1, None, \"Branco/Nulo\", 5, 2, 95, 3000, 27, 238, 'Estimulada', 'IVR', 'principal', 'Se a eleição fosse hoje, você votaria em qual dos candidatos?'),\n",
        "('2022-01-31', '2022-02-01', 'PoderData', 'PoderData/Poder360', 'Presidente',1, None, \"NS/NR\", 3, 2, 95, 3000, 27, 238, 'Estimulada', 'IVR', 'principal', 'Se a eleição fosse hoje, você votaria em qaul dos candidatos?'),\n",
        "]\n",
        "\n"
      ],
      "metadata": {
        "id": "a0gMD9UfkIhW"
      },
      "execution_count": null,
      "outputs": []
    },
    {
      "cell_type": "code",
      "source": [
        "# Executar \n",
        "con.inserir_de_lista(lista = PoderData1)\n",
        "\n",
        "con.contar_pesquisas_por_empresa(empresa=\"PoderData\")\n",
        "\n",
        "con.contar_pesquisas()"
      ],
      "metadata": {
        "id": "N8B8PtBRk22i",
        "colab": {
          "base_uri": "https://localhost:8080/"
        },
        "outputId": "8a7dd20c-0a97-44ca-cab1-c5e3567d378a"
      },
      "execution_count": null,
      "outputs": [
        {
          "output_type": "stream",
          "name": "stdout",
          "text": [
            "Dados inseridos da lista com sucesso: 12 registros.\n",
            "Total de pesquisas da empresa PoderData : 390\n",
            "Total de pesquisas registradas: 2646\n"
          ]
        }
      ]
    },
    {
      "cell_type": "markdown",
      "source": [
        "## Cenários de 2º turno"
      ],
      "metadata": {
        "id": "uUY4jmnGkrKs"
      }
    },
    {
      "cell_type": "code",
      "source": [
        "PoderData2 = [\n",
        "('2022-01-31', '2022-02-01', 'PoderData', 'PoderData/Poder360', 'Presidente', 2, 'PT', 'Lula da Silva', 54, 2, 95, 3000, 27, 238, 'Bolsonaro x Lula', 'IVR', 'Bolsonaro x Lula', 'Se a eleição fosse hoje, você votaria em qual dos candidatos?'),\n",
        "('2022-01-31', '2022-02-01', 'PoderData', 'PoderData/Poder360', 'Presidente',2, 'PL', 'Jair Bolsonaro', 37, 2, 95, 3000, 27, 238, 'Bolsonaro x Lula', 'IVR', 'Bolsonaro x Lula', 'Se a eleição fosse hoje, você votaria em qual dos candidatos?'),\n",
        "('2022-01-31', '2022-02-01', 'PoderData', 'PoderData/Poder360', 'Presidente',2, None, 'Branco/Nulo', 8, 2, 95, 3000, 27, 238, 'Bolsonaro x Lula', 'IVR', 'Bolsonaro x Lula', 'Se a eleição fosse hoje, você votaria em qual dos candidatos?'),\n",
        "('2022-01-31', '2022-02-01', 'PoderData', 'PoderData/Poder360', 'Presidente',2, None, 'NS/NR', 1, 2, 95, 3000, 27, 238, 'Bolsonaro x Lula', 'IVR', 'Bolsonaro x Lula', 'Se a eleição fosse hoje, você votaria em qual dos candidatos?'),\n",
        "\n",
        "('2022-01-31', '2022-02-01', 'PoderData', 'PoderData/Poder360', 'Presidente',2, 'PT', 'Lula da Silva', 49, 2, 95, 3000, 27, 238, 'Lula x Moro', 'IVR', 'Lula x Moro', 'Se a eleição fosse hoje, você votaria em qual dos candidatos?'),\n",
        "('2022-01-31', '2022-02-01', 'PoderData', 'PoderData/Poder360', 'Presidente',2, 'Podemos', 'Sergio Moro', 26, 2, 95, 3000, 27, 238, 'Lula x Moro', 'IVR', 'Lula x Moro', 'Se a eleição fosse hoje, você votaria em qual dos candidatos?'),\n",
        "('2022-01-31', '2022-02-01', 'PoderData', 'PoderData/Poder360', 'Presidente',2, None, 'Branco/Nulo', 21, 2, 95, 3000, 27, 238, 'Lula x Moro', 'IVR', 'Lula x Moro', 'Se a eleição fosse hoje, você votaria em qual dos candidatos?'),\n",
        "('2022-01-31', '2022-02-01', 'PoderData', 'PoderData/Poder360', 'Presidente',2, None, 'NS/NR', 4, 2, 95, 3000, 27, 238, 'Lula x Moro', 'IVR', 'Lula x Moro', 'Se a eleição fosse hoje, você votaria em qual dos candidatos?'),\n",
        "\n",
        "('2022-01-31', '2022-02-01', 'PoderData', 'PoderData/Poder360', 'Presidente',2, 'PT', 'Lula da Silva', 48, 2, 95, 3000, 27, 238, 'Lula x Doria', 'IVR', 'Lula x Doria', 'Se a eleição fosse hoje, você votaria em qual dos candidatos?'),\n",
        "('2022-01-31', '2022-02-01', 'PoderData', 'PoderData/Poder360', 'Presidente',2, 'PSDB', 'João Doria', 16, 2, 95, 3000, 27, 238, 'Lula x Doria', 'IVR', 'Lula x Doria', 'Se a eleição fosse hoje, você votaria em qual dos candidatos?'),\n",
        "('2022-01-31', '2022-02-01', 'PoderData', 'PoderData/Poder360', 'Presidente',2, None, 'Branco/Nulo', 24, 2, 95, 3000, 27, 238, 'Lula x Doria', 'IVR', 'Lula x Doria', 'Se a eleição fosse hoje, você votaria em qual dos candidatos?'),\n",
        "('2022-01-31', '2022-02-01', 'PoderData', 'PoderData/Poder360', 'Presidente',2, None, 'NS/NR', 4, 2, 95, 3000, 27, 238, 'Lula x Doria', 'IVR', 'Lula x Doria', 'Se a eleição fosse hoje, você votaria em qual dos candidatos?'),\n",
        "\n",
        "('2022-01-31', '2022-02-01', 'PoderData', 'PoderData/Poder360', 'Presidente',2, 'PT', 'Lula da Silva', 47, 2, 95, 3000, 27, 238, 'Lula x Ciro', 'IVR', 'Lula x Ciro', 'Se a eleição fosse hoje, você votaria em qual dos candidatos?'),\n",
        "('2022-01-31', '2022-02-01', 'PoderData', 'PoderData/Poder360', 'Presidente',2, 'PDT', 'Ciro Gomes', 19, 2, 95, 3000, 27, 238, 'Lula x Ciro', 'IVR', 'Lula x Ciro', 'Se a eleição fosse hoje, você votaria em qual dos candidatos?'),\n",
        "('2022-01-31', '2022-02-01', 'PoderData', 'PoderData/Poder360', 'Presidente',2, None, 'Branco/Nulo', 28, 2, 95, 3000, 27, 238, 'Lula x Ciro', 'IVR', 'Lula x Ciro', 'Se a eleição fosse hoje, você votaria em qual dos candidatos?'),\n",
        "('2022-01-31', '2022-02-01', 'PoderData', 'PoderData/Poder360', 'Presidente',2, None, 'NS/NR', 4, 2, 95, 3000, 27, 238, 'Lula x Ciro', 'IVR', 'Lula x Ciro', 'Se a eleição fosse hoje, você votaria em qual dos candidatos?'),\n",
        "\n",
        "('2022-01-31', '2022-02-01', 'PoderData', 'PoderData/Poder360', 'Presidente',2, 'PL', 'Jair Bolsonaro', 38, 2, 95, 3000, 27, 238, 'Bolsonaro x Ciro', 'IVR', 'Bolsonaro x Ciro', 'Se a eleição fosse hoje, você votaria em qual dos candidatos?'),\n",
        "('2022-01-31', '2022-02-01', 'PoderData', 'PoderData/Poder360', 'Presidente',2, 'PDT', 'Ciro Gomes', 42, 2, 95, 3000, 27, 238, 'Bolsonaro x Ciro', 'IVR', 'Bolsonaro x Ciro', 'Se a eleição fosse hoje, você votaria em qual dos candidatos?'),\n",
        "('2022-01-31', '2022-02-01', 'PoderData', 'PoderData/Poder360', 'Presidente',2, None, 'Branco/Nulo', 12, 2, 95, 3000, 27, 238, 'Bolsonaro x Ciro', 'IVR', 'Bolsonaro x Ciro', 'Se a eleição fosse hoje, você votaria em qual dos candidatos?'),\n",
        "('2022-01-31', '2022-02-01', 'PoderData', 'PoderData/Poder360', 'Presidente',2, None, 'NS/NR', 4, 2, 95, 3000, 27, 238, 'Bolsonaro x Ciro', 'IVR', 'Bolsonaro x Ciro', 'Se a eleição fosse hoje, você votaria em qual dos candidatos?'),\n",
        "\n",
        "('2022-01-31', '2022-02-01', 'PoderData', 'PoderData/Poder360', 'Presidente',2, 'PL', 'Jair Bolsonaro', 34, 2, 95, 3000, 27, 238, 'Bolsonaro x Moro', 'IVR', 'Bolsonaro x Moro', 'Se a eleição fosse hoje, você votaria em qual dos candidatos?'),\n",
        "('2022-01-31', '2022-02-01', 'PoderData', 'PoderData/Poder360', 'Presidente',2, 'Podemos', 'Sergio Moro', 33, 2, 95, 3000, 27, 238, 'Bolsonaro x Moro', 'IVR', 'Bolsonaro x Moro', 'Se a eleição fosse hoje, você votaria em qual dos candidatos?'),\n",
        "('2022-01-31', '2022-02-01', 'PoderData', 'PoderData/Poder360', 'Presidente',2, None, 'Branco/Nulo', 21, 2, 95, 3000, 27, 238, 'Bolsonaro x Moro', 'IVR', 'Bolsonaro x Moro', 'Se a eleição fosse hoje, você votaria em qual dos candidatos?'),\n",
        "('2022-01-31', '2022-02-01', 'PoderData', 'PoderData/Poder360', 'Presidente',2, None, 'NS/NR', 4, 2, 95, 3000, 27, 238, 'Bolsonaro x Moro', 'IVR', 'Bolsonaro x Moro', 'Se a eleição fosse hoje, você votaria em qual dos candidatos?'),\n",
        "]"
      ],
      "metadata": {
        "id": "4AcmImy7krdr"
      },
      "execution_count": null,
      "outputs": []
    },
    {
      "cell_type": "code",
      "source": [
        "# Executar \n",
        "con.inserir_de_lista(lista = PoderData2)\n",
        "\n",
        "con.contar_pesquisas_por_empresa(empresa=\"PoderData\")\n",
        "\n",
        "con.contar_pesquisas()"
      ],
      "metadata": {
        "id": "jfCrbg8Zlyof",
        "colab": {
          "base_uri": "https://localhost:8080/"
        },
        "outputId": "e2bfc7ac-034e-485c-83b3-9620b89a243f"
      },
      "execution_count": null,
      "outputs": [
        {
          "output_type": "stream",
          "name": "stdout",
          "text": [
            "Dados inseridos da lista com sucesso: 24 registros.\n",
            "Total de pesquisas da empresa PoderData : 348\n",
            "Total de pesquisas registradas: 2340\n"
          ]
        }
      ]
    },
    {
      "cell_type": "markdown",
      "source": [
        "## Potencial de voto"
      ],
      "metadata": {
        "id": "bDCyA9DElx8V"
      }
    },
    {
      "cell_type": "code",
      "source": [
        "PoderData3 = [\n",
        "('2022-01-31', '2022-02-01', 'PoderData', 'PoderData/Poder360', 'Presidente',1, 'PT', 'Lula da Silva', 39, 2, 95, 3000, 27, 238, 'Potencial positivo', 'IVR', 'principal', 'Se a eleição fosse hoje, você votaria em qual dos candidatos?'),\n",
        "('2022-01-31', '2022-02-01', 'PoderData', 'PoderData/Poder360', 'Presidente',1, 'PT', 'Lula da Silva', 16, 2, 95, 3000, 27, 238, 'Potencial neutro', 'IVR', 'principal', 'Se a eleição fosse hoje, você votaria em qual dos candidatos?'),\n",
        "('2022-01-31', '2022-02-01', 'PoderData', 'PoderData/Poder360', 'Presidente',1, 'PT', 'Lula da Silva', 38, 2, 95, 3000, 27, 238, 'Potencial negativo', 'IVR', 'principal', 'Se a eleição fosse hoje, você votaria em qual dos candidatos?'),\n",
        "('2022-01-31', '2022-02-01', 'PoderData', 'PoderData/Poder360', 'Presidente',1, 'PL', 'Jair Bolsonaro', 26, 2, 95, 3000, 27, 238, 'Potencial positivo', 'IVR', 'principal', 'Se a eleição fosse hoje, você votaria em qual dos candidatos?'),\n",
        "('2022-01-31', '2022-02-01', 'PoderData', 'PoderData/Poder360', 'Presidente',1, 'PL', 'Jair Bolsonaro', 12, 2, 95, 3000, 27, 238, 'Potencial neutro', 'IVR', 'principal', 'Se a eleição fosse hoje, você votaria em qual dos candidatos?'),\n",
        "('2022-01-31', '2022-02-01', 'PoderData', 'PoderData/Poder360', 'Presidente',1, 'PL', 'Jair Bolsonaro', 56, 2, 95, 3000, 27, 238, 'Potencial negativo', 'IVR', 'principal', 'Se a eleição fosse hoje, você votaria em qual dos candidatos?'),\n",
        "('2022-01-31', '2022-02-01', 'PoderData', 'PoderData/Poder360', 'Presidente',1, 'Podemos', 'Sergio Moro', 15, 2, 95, 3000, 27, 238, 'Potencial positivo', 'IVR', 'principal', 'Se a eleição fosse hoje, você votaria em qual dos candidatos?'),\n",
        "('2022-01-31', '2022-02-01', 'PoderData', 'PoderData/Poder360', 'Presidente',1, 'Podemos', 'Sergio Moro', 29, 2, 95, 3000, 27, 238, 'Potencial neutro', 'IVR', 'principal', 'Se a eleição fosse hoje, você votaria em qual dos candidatos?'),\n",
        "('2022-01-31', '2022-02-01', 'PoderData', 'PoderData/Poder360', 'Presidente',1, 'Podemos', 'Sergio Moro', 51, 2, 95, 3000, 27, 238, 'Potencial negativo', 'IVR', 'principal', 'Se a eleição fosse hoje, você votaria em qaul dos candidatos?'),\n",
        "('2022-01-31', '2022-02-01', 'PoderData', 'PoderData/Poder360', 'Presidente',1, 'PDT', 'Ciro Gomes', 10, 2, 95, 3000, 27, 238, 'Potencial positivo', 'IVR', 'principal', 'Se a eleição fosse hoje, você votaria em qual dos candidatos?'),\n",
        "('2022-01-31', '2022-02-01', 'PoderData', 'PoderData/Poder360', 'Presidente',1, 'PDT', 'Ciro Gomes', 33, 2, 95, 23000, 27, 238, 'Potencial neutro', 'IVR', 'principal', 'Se a eleição fosse hoje, você votaria em qual dos candidatos?'),\n",
        "('2022-01-31', '2022-02-01', 'PoderData', 'PoderData/Poder360', 'Presidente',1, 'PDT', 'Ciro Gomes', 50, 2, 95, 3000, 27, 238, 'Potencial negativo', 'IVR', 'principal', 'Se a eleição fosse hoje, você votaria em qual dos candidatos?'),\n",
        "('2022-01-31', '2022-02-01', 'PoderData', 'PoderData/Poder360', 'Presidente',1, 'PSDB', 'João Doria', 6, 2, 95, 3000, 27, 238, 'Potencial positivo', 'IVR', 'principal', 'Se a eleição fosse hoje, você votaria em qual dos candidatos?'),\n",
        "('2022-01-31', '2022-02-01', 'PoderData', 'PoderData/Poder360', 'Presidente',1, 'PSDB', 'João Doria', 26, 2, 95, 3000, 27, 238, 'Potencial neutro', 'IVR', 'principal', 'Se a eleição fosse hoje, você votaria em qual dos candidatos?'),\n",
        "('2022-01-31', '2022-02-01', 'PoderData', 'PoderData/Poder360', 'Presidente',1, 'PSDB', 'João Doria', 59, 2, 95, 3000, 27, 238, 'Potencial negativo', 'IVR', 'principal', 'Se a eleição fosse hoje, você votaria em qaul dos candidatos?'),\n",
        "]"
      ],
      "metadata": {
        "id": "ERsCd9YBlzjX"
      },
      "execution_count": null,
      "outputs": []
    },
    {
      "cell_type": "code",
      "source": [
        "# Executar \n",
        "con.inserir_de_lista(lista = PoderData3)\n",
        "\n",
        "con.contar_pesquisas_por_empresa(empresa=\"PoderData\")\n",
        "\n",
        "con.contar_pesquisas()\n"
      ],
      "metadata": {
        "id": "3EE1GvrwXYpi",
        "colab": {
          "base_uri": "https://localhost:8080/"
        },
        "outputId": "93a77e17-7ffe-4f4c-b75b-64573a07d49e"
      },
      "execution_count": null,
      "outputs": [
        {
          "output_type": "stream",
          "name": "stdout",
          "text": [
            "Dados inseridos da lista com sucesso: 15 registros.\n",
            "Total de pesquisas da empresa PoderData : 378\n",
            "Total de pesquisas registradas: 2370\n"
          ]
        }
      ]
    },
    {
      "cell_type": "code",
      "source": [
        "con.backup()\n",
        "\n",
        "con.fechar_conexao() "
      ],
      "metadata": {
        "colab": {
          "base_uri": "https://localhost:8080/"
        },
        "id": "psrfVquArJ4y",
        "outputId": "3384c332-7424-4d7b-aff8-e9f5acd0d9fb"
      },
      "execution_count": null,
      "outputs": [
        {
          "output_type": "stream",
          "name": "stdout",
          "text": [
            "Backup realizado com sucesso.\n",
            "Salvo como /content/drive/My Drive/pollbase/sql/pollingpoints_bkp.sql\n",
            "Conexão fechada.\n"
          ]
        }
      ]
    }
  ]
}